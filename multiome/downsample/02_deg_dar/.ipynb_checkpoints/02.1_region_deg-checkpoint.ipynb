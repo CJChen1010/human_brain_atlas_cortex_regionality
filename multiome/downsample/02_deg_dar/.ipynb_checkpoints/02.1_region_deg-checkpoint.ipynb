{
 "cells": [
  {
   "cell_type": "markdown",
   "id": "c2377f7f-b59e-4592-b439-0b799ca3189f",
   "metadata": {},
   "source": [
    "# DEG"
   ]
  },
  {
   "cell_type": "code",
   "execution_count": 1,
   "id": "613206b5-57ff-4b86-a0d0-8dbc9fb6a5b9",
   "metadata": {
    "tags": []
   },
   "outputs": [],
   "source": [
    "suppressPackageStartupMessages({\n",
    "    library(Seurat)\n",
    "    library(repr)\n",
    "    library(patchwork)\n",
    "    library(ggplot2)\n",
    "    library(Signac)\n",
    "    library(tidyverse)\n",
    "    library(GenomicRanges)\n",
    "    library(edgeR)\n",
    "    library(SingleCellExperiment)\n",
    "    library(Matrix)\n",
    "    library(scran)\n",
    "    library(scater)\n",
    "    library(ggrepel)\n",
    "    library(fs)\n",
    "})\n",
    "options(future.globals.maxSize = Inf)\n",
    "options(Seurat.object.assay.version = \"v5\")\n",
    "options(ggrepel.max.overlaps = Inf)"
   ]
  },
  {
   "cell_type": "code",
   "execution_count": 2,
   "id": "9e6a4a6d-606a-41a9-8d74-c6696371a493",
   "metadata": {
    "tags": []
   },
   "outputs": [],
   "source": [
    "data_dir <- \"/tscc/projects/ps-epigen/users/biy022/biccn/data/SNAREdata/cell_gene_matrix/\"\n",
    "root_dir <- \"/tscc/projects/ps-epigen/users/biy022/biccn/data/SNAREdata/downsample_analysis/\"\n",
    "setwd(root_dir)\n",
    "output_dir <- \"region_degs\""
   ]
  },
  {
   "cell_type": "code",
   "execution_count": 3,
   "id": "ccc8c51c-35c5-4703-bd0c-238e3dbf6375",
   "metadata": {
    "tags": []
   },
   "outputs": [],
   "source": [
    "meta_file <- \"../cell_gene_matrix/20230313_RNA_metadata.xls\"\n",
    "meta_df <- read.table(meta_file, sep = \"\\t\", header = T, row.names = 1)"
   ]
  },
  {
   "cell_type": "code",
   "execution_count": 4,
   "id": "a150ff6e-9045-4fce-958c-8bee734013c8",
   "metadata": {
    "tags": []
   },
   "outputs": [
    {
     "name": "stdout",
     "output_type": "stream",
     "text": [
      "[1] \"Astro\"\n"
     ]
    },
    {
     "name": "stderr",
     "output_type": "stream",
     "text": [
      "Removing 4686 rows with all zero counts\n",
      "\n"
     ]
    },
    {
     "name": "stdout",
     "output_type": "stream",
     "text": [
      "[1] \"Chandelier\"\n"
     ]
    },
    {
     "name": "stderr",
     "output_type": "stream",
     "text": [
      "Removing 3585 rows with all zero counts\n",
      "\n"
     ]
    },
    {
     "name": "stdout",
     "output_type": "stream",
     "text": [
      "[1] \"Endo\"\n"
     ]
    },
    {
     "name": "stderr",
     "output_type": "stream",
     "text": [
      "Removing 7581 rows with all zero counts\n",
      "\n"
     ]
    },
    {
     "name": "stdout",
     "output_type": "stream",
     "text": [
      "[1] \"L2_3_IT\"\n"
     ]
    },
    {
     "name": "stderr",
     "output_type": "stream",
     "text": [
      "Removing 2322 rows with all zero counts\n",
      "\n"
     ]
    },
    {
     "name": "stdout",
     "output_type": "stream",
     "text": [
      "[1] \"L4_IT\"\n"
     ]
    },
    {
     "name": "stderr",
     "output_type": "stream",
     "text": [
      "Removing 2684 rows with all zero counts\n",
      "\n"
     ]
    },
    {
     "name": "stdout",
     "output_type": "stream",
     "text": [
      "[1] \"L5_6_NP\"\n"
     ]
    },
    {
     "name": "stderr",
     "output_type": "stream",
     "text": [
      "Removing 2572 rows with all zero counts\n",
      "\n"
     ]
    },
    {
     "name": "stdout",
     "output_type": "stream",
     "text": [
      "[1] \"L5_ET\"\n"
     ]
    },
    {
     "name": "stderr",
     "output_type": "stream",
     "text": [
      "Removing 2714 rows with all zero counts\n",
      "\n"
     ]
    },
    {
     "name": "stdout",
     "output_type": "stream",
     "text": [
      "[1] \"L5_IT\"\n"
     ]
    },
    {
     "name": "stderr",
     "output_type": "stream",
     "text": [
      "Removing 2341 rows with all zero counts\n",
      "\n"
     ]
    },
    {
     "name": "stdout",
     "output_type": "stream",
     "text": [
      "[1] \"L6B\"\n"
     ]
    },
    {
     "name": "stderr",
     "output_type": "stream",
     "text": [
      "Removing 2238 rows with all zero counts\n",
      "\n"
     ]
    },
    {
     "name": "stdout",
     "output_type": "stream",
     "text": [
      "[1] \"L6_CT\"\n"
     ]
    },
    {
     "name": "stderr",
     "output_type": "stream",
     "text": [
      "Removing 2412 rows with all zero counts\n",
      "\n"
     ]
    },
    {
     "name": "stdout",
     "output_type": "stream",
     "text": [
      "[1] \"L6_IT\"\n"
     ]
    },
    {
     "name": "stderr",
     "output_type": "stream",
     "text": [
      "Removing 2305 rows with all zero counts\n",
      "\n"
     ]
    },
    {
     "name": "stdout",
     "output_type": "stream",
     "text": [
      "[1] \"L6_IT_Car3\"\n"
     ]
    },
    {
     "name": "stderr",
     "output_type": "stream",
     "text": [
      "Removing 2596 rows with all zero counts\n",
      "\n"
     ]
    },
    {
     "name": "stdout",
     "output_type": "stream",
     "text": [
      "[1] \"LAMP5\"\n"
     ]
    },
    {
     "name": "stderr",
     "output_type": "stream",
     "text": [
      "Removing 3255 rows with all zero counts\n",
      "\n"
     ]
    },
    {
     "name": "stdout",
     "output_type": "stream",
     "text": [
      "[1] \"LAMP5_LHX6\"\n"
     ]
    },
    {
     "name": "stderr",
     "output_type": "stream",
     "text": [
      "Removing 3151 rows with all zero counts\n",
      "\n"
     ]
    },
    {
     "name": "stdout",
     "output_type": "stream",
     "text": [
      "[1] \"Micro\"\n"
     ]
    },
    {
     "name": "stderr",
     "output_type": "stream",
     "text": [
      "Removing 6672 rows with all zero counts\n",
      "\n"
     ]
    },
    {
     "name": "stdout",
     "output_type": "stream",
     "text": [
      "[1] \"OPC\"\n"
     ]
    },
    {
     "name": "stderr",
     "output_type": "stream",
     "text": [
      "Removing 4823 rows with all zero counts\n",
      "\n"
     ]
    },
    {
     "name": "stdout",
     "output_type": "stream",
     "text": [
      "[1] \"Oligo\"\n"
     ]
    },
    {
     "name": "stderr",
     "output_type": "stream",
     "text": [
      "Removing 6132 rows with all zero counts\n",
      "\n"
     ]
    },
    {
     "name": "stdout",
     "output_type": "stream",
     "text": [
      "[1] \"PAX6\"\n"
     ]
    },
    {
     "name": "stderr",
     "output_type": "stream",
     "text": [
      "Removing 3005 rows with all zero counts\n",
      "\n"
     ]
    },
    {
     "name": "stdout",
     "output_type": "stream",
     "text": [
      "[1] \"PVALB\"\n"
     ]
    },
    {
     "name": "stderr",
     "output_type": "stream",
     "text": [
      "Removing 2848 rows with all zero counts\n",
      "\n"
     ]
    },
    {
     "name": "stdout",
     "output_type": "stream",
     "text": [
      "[1] \"SNCG\"\n"
     ]
    },
    {
     "name": "stderr",
     "output_type": "stream",
     "text": [
      "Removing 3064 rows with all zero counts\n",
      "\n"
     ]
    },
    {
     "name": "stdout",
     "output_type": "stream",
     "text": [
      "[1] \"SST\"\n"
     ]
    },
    {
     "name": "stderr",
     "output_type": "stream",
     "text": [
      "Removing 3169 rows with all zero counts\n",
      "\n"
     ]
    },
    {
     "name": "stdout",
     "output_type": "stream",
     "text": [
      "[1] \"SST_CHODL\"\n"
     ]
    },
    {
     "name": "stderr",
     "output_type": "stream",
     "text": [
      "Removing 5677 rows with all zero counts\n",
      "\n"
     ]
    },
    {
     "name": "stdout",
     "output_type": "stream",
     "text": [
      "[1] \"VIP\"\n"
     ]
    },
    {
     "name": "stderr",
     "output_type": "stream",
     "text": [
      "Removing 3068 rows with all zero counts\n",
      "\n"
     ]
    },
    {
     "name": "stdout",
     "output_type": "stream",
     "text": [
      "[1] \"VLMC\"\n"
     ]
    },
    {
     "name": "stderr",
     "output_type": "stream",
     "text": [
      "Removing 6275 rows with all zero counts\n",
      "\n"
     ]
    }
   ],
   "source": [
    "for (file in dir_ls(data_dir, glob = \"*rds\")) {\n",
    "    subclass <- path_ext_remove(path_file(file))\n",
    "    print(subclass)\n",
    "    \n",
    "    subclass_result_dir <- sprintf(\"%s/%s/\", output_dir, subclass)\n",
    "    if (!dir_exists(subclass_result_dir)) {\n",
    "        dir_create(subclass_result_dir)\n",
    "    }\n",
    "    \n",
    "    subclass_matrix_file <- file.path(data_dir, sprintf(\"%s.rds\", subclass))\n",
    "    subclass_matrix <- readRDS(subclass_matrix_file)\n",
    "    subclass_down_barcodes <- read.table(sprintf(\"sample_barcodes/%s.tsv\", subclass), sep = \"\\t\", header = T)$barcode\n",
    "    subclass_matrix <- subclass_matrix[, subclass_down_barcodes]\n",
    "    subclass_meta <- meta_df[colnames(subclass_matrix), ]\n",
    "    \n",
    "    subclass_meta <- subclass_meta[match(colnames(subclass_matrix), rownames(subclass_meta)), ]\n",
    "    subclass_meta$region_donor <- paste(subclass_meta$Region, subclass_meta$PatientID, sep = \"_\")\n",
    "    transposed_matrix <- t(subclass_matrix)\n",
    "    summed_counts <- rowsum(transposed_matrix, group = subclass_meta$region_donor)\n",
    "    subclass_matrix_aggr <- t(summed_counts)\n",
    "    \n",
    "    group_info <- do.call(rbind, strsplit(colnames(subclass_matrix_aggr), \"_\"))\n",
    "    group_info <- data.frame(group_info)\n",
    "    colnames(group_info) <- c(\"region\", \"patient\")\n",
    "    rownames(group_info) <- colnames(subclass_matrix_aggr)\n",
    "    \n",
    "    group <- factor(group_info$region)\n",
    "    y <- DGEList(counts = subclass_matrix_aggr, group = group, remove.zeros = TRUE)\n",
    "    keep <- filterByExpr(y, min.count = 10, min.total.count = 15)\n",
    "    y <- y[keep, , keep.lib.sizes=FALSE]\n",
    "    y <- calcNormFactors(y)\n",
    "    design <- model.matrix(~0+group, data = y$samples)\n",
    "    colnames(design) <- levels(y$samples$group)\n",
    "    y <- estimateDisp(y, design = design, robust = TRUE)\n",
    "    fit <- glmQLFit(y, design = design)\n",
    "    \n",
    "    n_levels <- length(levels(y$samples$group))\n",
    "    contrast_base <- rep(-(1.0 / (n_levels - 1)), n_levels)\n",
    "    for (i in 1:n_levels) {\n",
    "        contrast <- contrast_base\n",
    "        contrast[i] <- 1\n",
    "        level <- levels(y$samples$group)[i]\n",
    "        qlf <- glmQLFTest(fit, contrast = contrast)\n",
    "        result <- topTags(qlf, n = Inf, sort.by = \"PValue\")$table\n",
    "        write.table(\n",
    "            result, sprintf(\"%s/%s_result.tsv\", subclass_result_dir, level), \n",
    "            col.names = TRUE, row.names = TRUE, sep=\"\\t\", quote = FALSE\n",
    "        )\n",
    "    }\n",
    "    write.table(\n",
    "        rownames(y), sprintf(\"%s/%s_filtered.tsv\", subclass_result_dir, subclass), \n",
    "        col.names = FALSE, row.names = FALSE, sep=\"\\t\", quote = FALSE\n",
    "    )\n",
    "}"
   ]
  },
  {
   "cell_type": "code",
   "execution_count": null,
   "id": "83be87b5-46d8-48ab-9df4-6184f1ddcecf",
   "metadata": {},
   "outputs": [],
   "source": []
  }
 ],
 "metadata": {
  "kernelspec": {
   "display_name": "R",
   "language": "R",
   "name": "ir"
  },
  "language_info": {
   "codemirror_mode": "r",
   "file_extension": ".r",
   "mimetype": "text/x-r-source",
   "name": "R",
   "pygments_lexer": "r",
   "version": "4.3.1"
  }
 },
 "nbformat": 4,
 "nbformat_minor": 5
}
