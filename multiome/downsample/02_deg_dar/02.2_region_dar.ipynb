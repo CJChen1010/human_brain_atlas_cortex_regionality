{
 "cells": [
  {
   "cell_type": "markdown",
   "id": "c843c002-c266-4940-a00d-5467b61598d7",
   "metadata": {},
   "source": [
    "# DAR"
   ]
  },
  {
   "cell_type": "code",
   "execution_count": 1,
   "id": "0d3c44de-1409-4acd-a555-e3f81a50e5c9",
   "metadata": {
    "tags": []
   },
   "outputs": [],
   "source": [
    "suppressPackageStartupMessages({\n",
    "    library(Seurat)\n",
    "    library(repr)\n",
    "    library(patchwork)\n",
    "    library(ggplot2)\n",
    "    library(Signac)\n",
    "    library(tidyverse)\n",
    "    library(GenomicRanges)\n",
    "    library(edgeR)\n",
    "    library(SingleCellExperiment)\n",
    "    library(Matrix)\n",
    "    library(scran)\n",
    "    library(scater)\n",
    "    library(ggrepel)\n",
    "    library(fs)\n",
    "})\n",
    "options(future.globals.maxSize = Inf)\n",
    "options(Seurat.object.assay.version = \"v5\")\n",
    "options(ggrepel.max.overlaps = Inf)"
   ]
  },
  {
   "cell_type": "code",
   "execution_count": 2,
   "id": "aa4dee84-fab2-4ab9-aadb-30ad046a6ea6",
   "metadata": {
    "tags": []
   },
   "outputs": [],
   "source": [
    "data_dir <- \"/tscc/projects/ps-epigen/users/biy022/biccn/data/SNAREdata/cell_peak_matrix/\"\n",
    "root_dir <- \"/tscc/projects/ps-epigen/users/biy022/biccn/data/SNAREdata/downsample_analysis/\"\n",
    "setwd(root_dir)\n",
    "output_dir <- \"region_dars\""
   ]
  },
  {
   "cell_type": "code",
   "execution_count": 3,
   "id": "d07ae024-3929-48c4-88b9-a788522e53e1",
   "metadata": {
    "tags": []
   },
   "outputs": [],
   "source": [
    "meta_file <- \"../cell_gene_matrix/20230313_RNA_metadata.xls\"\n",
    "meta_df <- read.table(meta_file, sep = \"\\t\", header = T, row.names = 1)"
   ]
  },
  {
   "cell_type": "code",
   "execution_count": 9,
   "id": "7c6b8a24-e6ec-45e3-b574-2c7324ec2f2f",
   "metadata": {
    "tags": []
   },
   "outputs": [
    {
     "name": "stdout",
     "output_type": "stream",
     "text": [
      "[1] \"Astro\"\n"
     ]
    },
    {
     "name": "stderr",
     "output_type": "stream",
     "text": [
      "Removing 111990 rows with all zero counts\n",
      "\n"
     ]
    },
    {
     "name": "stdout",
     "output_type": "stream",
     "text": [
      "[1] \"Chandelier\"\n"
     ]
    },
    {
     "name": "stderr",
     "output_type": "stream",
     "text": [
      "Removing 21824 rows with all zero counts\n",
      "\n"
     ]
    },
    {
     "name": "stdout",
     "output_type": "stream",
     "text": [
      "[1] \"Endo\"\n"
     ]
    },
    {
     "name": "stderr",
     "output_type": "stream",
     "text": [
      "Removing 63898 rows with all zero counts\n",
      "\n"
     ]
    },
    {
     "name": "stdout",
     "output_type": "stream",
     "text": [
      "[1] \"L2_3_IT\"\n"
     ]
    },
    {
     "name": "stderr",
     "output_type": "stream",
     "text": [
      "Removing 6376 rows with all zero counts\n",
      "\n"
     ]
    },
    {
     "name": "stdout",
     "output_type": "stream",
     "text": [
      "[1] \"L4_IT\"\n"
     ]
    },
    {
     "name": "stderr",
     "output_type": "stream",
     "text": [
      "Removing 8509 rows with all zero counts\n",
      "\n"
     ]
    },
    {
     "name": "stdout",
     "output_type": "stream",
     "text": [
      "[1] \"L5_6_NP\"\n"
     ]
    },
    {
     "name": "stderr",
     "output_type": "stream",
     "text": [
      "Removing 8038 rows with all zero counts\n",
      "\n"
     ]
    },
    {
     "name": "stdout",
     "output_type": "stream",
     "text": [
      "[1] \"L5_ET\"\n"
     ]
    },
    {
     "name": "stderr",
     "output_type": "stream",
     "text": [
      "Removing 18106 rows with all zero counts\n",
      "\n"
     ]
    },
    {
     "name": "stdout",
     "output_type": "stream",
     "text": [
      "[1] \"L5_IT\"\n"
     ]
    },
    {
     "name": "stderr",
     "output_type": "stream",
     "text": [
      "Removing 5264 rows with all zero counts\n",
      "\n"
     ]
    },
    {
     "name": "stdout",
     "output_type": "stream",
     "text": [
      "[1] \"L6B\"\n"
     ]
    },
    {
     "name": "stderr",
     "output_type": "stream",
     "text": [
      "Removing 4489 rows with all zero counts\n",
      "\n"
     ]
    },
    {
     "name": "stdout",
     "output_type": "stream",
     "text": [
      "[1] \"L6_CT\"\n"
     ]
    },
    {
     "name": "stderr",
     "output_type": "stream",
     "text": [
      "Removing 7786 rows with all zero counts\n",
      "\n"
     ]
    },
    {
     "name": "stdout",
     "output_type": "stream",
     "text": [
      "[1] \"L6_IT\"\n"
     ]
    },
    {
     "name": "stderr",
     "output_type": "stream",
     "text": [
      "Removing 5035 rows with all zero counts\n",
      "\n"
     ]
    },
    {
     "name": "stdout",
     "output_type": "stream",
     "text": [
      "[1] \"L6_IT_Car3\"\n"
     ]
    },
    {
     "name": "stderr",
     "output_type": "stream",
     "text": [
      "Removing 8941 rows with all zero counts\n",
      "\n"
     ]
    },
    {
     "name": "stdout",
     "output_type": "stream",
     "text": [
      "[1] \"LAMP5\"\n"
     ]
    },
    {
     "name": "stderr",
     "output_type": "stream",
     "text": [
      "Removing 11618 rows with all zero counts\n",
      "\n"
     ]
    },
    {
     "name": "stdout",
     "output_type": "stream",
     "text": [
      "[1] \"LAMP5_LHX6\"\n"
     ]
    },
    {
     "name": "stderr",
     "output_type": "stream",
     "text": [
      "Removing 13842 rows with all zero counts\n",
      "\n"
     ]
    },
    {
     "name": "stdout",
     "output_type": "stream",
     "text": [
      "[1] \"Micro\"\n"
     ]
    },
    {
     "name": "stderr",
     "output_type": "stream",
     "text": [
      "Removing 166343 rows with all zero counts\n",
      "\n"
     ]
    },
    {
     "name": "stdout",
     "output_type": "stream",
     "text": [
      "[1] \"Micro\"\n"
     ]
    },
    {
     "name": "stderr",
     "output_type": "stream",
     "text": [
      "Removing 166343 rows with all zero counts\n",
      "\n"
     ]
    },
    {
     "name": "stdout",
     "output_type": "stream",
     "text": [
      "[1] \"OPC\"\n"
     ]
    },
    {
     "name": "stderr",
     "output_type": "stream",
     "text": [
      "Removing 101799 rows with all zero counts\n",
      "\n"
     ]
    },
    {
     "name": "stdout",
     "output_type": "stream",
     "text": [
      "[1] \"Oligo\"\n"
     ]
    },
    {
     "name": "stderr",
     "output_type": "stream",
     "text": [
      "Removing 167166 rows with all zero counts\n",
      "\n"
     ]
    },
    {
     "name": "stdout",
     "output_type": "stream",
     "text": [
      "[1] \"PAX6\"\n"
     ]
    },
    {
     "name": "stderr",
     "output_type": "stream",
     "text": [
      "Removing 11406 rows with all zero counts\n",
      "\n"
     ]
    },
    {
     "name": "stdout",
     "output_type": "stream",
     "text": [
      "[1] \"PVALB\"\n"
     ]
    },
    {
     "name": "stderr",
     "output_type": "stream",
     "text": [
      "Removing 5549 rows with all zero counts\n",
      "\n"
     ]
    },
    {
     "name": "stdout",
     "output_type": "stream",
     "text": [
      "[1] \"SNCG\"\n"
     ]
    },
    {
     "name": "stderr",
     "output_type": "stream",
     "text": [
      "Removing 12676 rows with all zero counts\n",
      "\n"
     ]
    },
    {
     "name": "stdout",
     "output_type": "stream",
     "text": [
      "[1] \"SST\"\n"
     ]
    },
    {
     "name": "stderr",
     "output_type": "stream",
     "text": [
      "Removing 18409 rows with all zero counts\n",
      "\n"
     ]
    },
    {
     "name": "stdout",
     "output_type": "stream",
     "text": [
      "[1] \"VIP\"\n"
     ]
    },
    {
     "name": "stderr",
     "output_type": "stream",
     "text": [
      "Removing 19034 rows with all zero counts\n",
      "\n"
     ]
    },
    {
     "name": "stdout",
     "output_type": "stream",
     "text": [
      "[1] \"VLMC\"\n"
     ]
    },
    {
     "name": "stderr",
     "output_type": "stream",
     "text": [
      "Removing 39478 rows with all zero counts\n",
      "\n"
     ]
    }
   ],
   "source": [
    "for (file in dir_ls(data_dir, glob = \"*rds\")) {\n",
    "    subclass <- path_ext_remove(path_file(file))\n",
    "    if (subclass == \"SST_CHODL\") {\n",
    "        next\n",
    "    }\n",
    "    if (subclass == \"Micro_PVM\") {\n",
    "        subclass <- \"Micro\"\n",
    "    }\n",
    "    print(subclass)\n",
    "    \n",
    "    subclass_result_dir <- sprintf(\"%s/%s/\", output_dir, subclass)\n",
    "    if (!dir_exists(subclass_result_dir)) {\n",
    "        dir_create(subclass_result_dir)\n",
    "    }\n",
    "    \n",
    "    subclass_matrix_file <- file\n",
    "    subclass_matrix <- readRDS(subclass_matrix_file)\n",
    "    subclass_down_barcodes <- read.table(sprintf(\"sample_barcodes/%s.tsv\", subclass), sep = \"\\t\", header = T)$barcode\n",
    "    subclass_matrix <- subclass_matrix[, subclass_down_barcodes]\n",
    "    subclass_meta <- meta_df[colnames(subclass_matrix), ]\n",
    "    \n",
    "    subclass_meta <- subclass_meta[match(colnames(subclass_matrix), rownames(subclass_meta)), ]\n",
    "    subclass_meta$region_donor <- paste(subclass_meta$Region, subclass_meta$PatientID, sep = \"_\")\n",
    "    transposed_matrix <- t(subclass_matrix)\n",
    "    summed_counts <- rowsum(transposed_matrix, group = subclass_meta$region_donor)\n",
    "    subclass_matrix_aggr <- t(summed_counts)\n",
    "    \n",
    "    group_info <- do.call(rbind, strsplit(colnames(subclass_matrix_aggr), \"_\"))\n",
    "    group_info <- data.frame(group_info)\n",
    "    colnames(group_info) <- c(\"region\", \"patient\")\n",
    "    rownames(group_info) <- colnames(subclass_matrix_aggr)\n",
    "    \n",
    "    group <- factor(group_info$region)\n",
    "    y <- DGEList(counts = subclass_matrix_aggr, group = group, remove.zeros = TRUE)\n",
    "    keep <- filterByExpr(y, min.count = 5, min.total.count = 15)\n",
    "    y <- y[keep, , keep.lib.sizes=FALSE]\n",
    "    y <- calcNormFactors(y)\n",
    "    design <- model.matrix(~0+group, data = y$samples)\n",
    "    colnames(design) <- levels(y$samples$group)\n",
    "    y <- estimateDisp(y, design = design, robust = TRUE)\n",
    "    fit <- glmQLFit(y, design = design)\n",
    "    \n",
    "    n_levels <- length(levels(y$samples$group))\n",
    "    contrast_base <- rep(-(1.0 / (n_levels - 1)), n_levels)\n",
    "    for (i in 1:n_levels) {\n",
    "        contrast <- contrast_base\n",
    "        contrast[i] <- 1\n",
    "        level <- levels(y$samples$group)[i]\n",
    "        qlf <- glmQLFTest(fit, contrast = contrast)\n",
    "        result <- topTags(qlf, n = Inf, sort.by = \"PValue\")$table\n",
    "        write.table(\n",
    "            result, sprintf(\"%s/%s_result.tsv\", subclass_result_dir, level), \n",
    "            col.names = TRUE, row.names = TRUE, sep=\"\\t\", quote = FALSE\n",
    "        )\n",
    "    }\n",
    "    write.table(\n",
    "        rownames(y), sprintf(\"%s/%s_filtered.tsv\", subclass_result_dir, subclass), \n",
    "        col.names = FALSE, row.names = FALSE, sep=\"\\t\", quote = FALSE\n",
    "    )\n",
    "}"
   ]
  },
  {
   "cell_type": "code",
   "execution_count": null,
   "id": "3bfcb030-714b-486d-942a-4a6ad198c320",
   "metadata": {},
   "outputs": [],
   "source": []
  }
 ],
 "metadata": {
  "kernelspec": {
   "display_name": "R",
   "language": "R",
   "name": "ir"
  },
  "language_info": {
   "codemirror_mode": "r",
   "file_extension": ".r",
   "mimetype": "text/x-r-source",
   "name": "R",
   "pygments_lexer": "r",
   "version": "4.3.1"
  }
 },
 "nbformat": 4,
 "nbformat_minor": 5
}
