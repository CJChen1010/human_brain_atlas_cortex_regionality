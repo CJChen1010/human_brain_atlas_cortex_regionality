{
 "cells": [
  {
   "cell_type": "markdown",
   "id": "bd9c8bd9-9fbf-467b-867b-d50ad674dc52",
   "metadata": {},
   "source": [
    "# Find the target of downsample for RNA"
   ]
  },
  {
   "cell_type": "code",
   "execution_count": 1,
   "id": "e17351ef-3e41-4e76-9e49-566248f97bb2",
   "metadata": {
    "tags": []
   },
   "outputs": [],
   "source": [
    "suppressPackageStartupMessages({\n",
    "    library(Seurat)\n",
    "    library(repr)\n",
    "    library(patchwork)\n",
    "    library(ggplot2)\n",
    "    library(Signac)\n",
    "    library(tidyverse)\n",
    "    library(GenomicRanges)\n",
    "    library(edgeR)\n",
    "    library(SingleCellExperiment)\n",
    "    library(Matrix)\n",
    "    library(scran)\n",
    "    library(scater)\n",
    "    library(ggrepel)\n",
    "    library(fs)\n",
    "})\n",
    "options(future.globals.maxSize = Inf)\n",
    "options(Seurat.object.assay.version = \"v5\")\n",
    "options(ggrepel.max.overlaps = Inf)"
   ]
  },
  {
   "cell_type": "code",
   "execution_count": 4,
   "id": "8e994637-ff0d-47f0-80b7-486b47de3934",
   "metadata": {
    "tags": []
   },
   "outputs": [],
   "source": [
    "root_dir <- \"/tscc/projects/ps-epigen/users/biy022/biccn/data/SNAREdata\"\n",
    "setwd(root_dir)"
   ]
  },
  {
   "cell_type": "code",
   "execution_count": 3,
   "id": "46a96211-23ee-4dd8-8ce5-260fab70119d",
   "metadata": {
    "tags": []
   },
   "outputs": [],
   "source": [
    "meta_sheet <- \"20230313_RNA_metadata.xls\"\n",
    "meta_df <- read.table(meta_sheet, sep = \"\\t\", header = T, row.names = 1)"
   ]
  },
  {
   "cell_type": "code",
   "execution_count": 6,
   "id": "84d67b4c-57d9-4f9c-9940-12cdbeeee172",
   "metadata": {
    "tags": []
   },
   "outputs": [],
   "source": [
    "all_barcodes <- c()\n",
    "for (subclass in unique(meta_df$Subclass_F)) {\n",
    "    subclass_name <- gsub(\"[ /]\", \"_\", subclass)\n",
    "    if (subclass_name == \"Micro_PVM\") {\n",
    "        subclass_name <- \"Micro\"\n",
    "    }\n",
    "    rna_mat <- readRDS(file.path(\"cell_gene_matrix/\", sprintf(\"%s.rds\", subclass_name)))\n",
    "    atac_mat <- readRDS(file.path(\"cell_peak_matrix/\", sprintf(\"%s.rds\", subclass_name)))\n",
    "    rna_bc <- colnames(rna_mat)\n",
    "    atac_bc <- colnames(atac_mat)\n",
    "    tmp_bc <- intersect(rna_bc, atac_bc)\n",
    "    all_barcodes <- c(all_barcodes, tmp_bc)\n",
    "}"
   ]
  },
  {
   "cell_type": "code",
   "execution_count": 10,
   "id": "64b46731-8c0b-4d42-840a-05cb0b33d1cb",
   "metadata": {
    "tags": []
   },
   "outputs": [],
   "source": [
    "meta_df <- meta_df[all_barcodes, ]"
   ]
  },
  {
   "cell_type": "code",
   "execution_count": 11,
   "id": "7a72675c-a597-4115-9a7f-5a3fe59193d6",
   "metadata": {
    "tags": []
   },
   "outputs": [
    {
     "data": {
      "text/plain": [
       "            \n",
       "                A1C    A24     A9    AnG     FI    M1C    MTG    S1C    V1C\n",
       "  Astro       14649  13226  10920  29533  19811  23533   9592  18082  10270\n",
       "  Chandelier    714    641    929   1485   1558   1890    768   1062    630\n",
       "  Endo          312    459    473    312    448    931    415    430    364\n",
       "  L2/3 IT     27167  13243  21608  45307  32170  51090  26804  32751  48555\n",
       "  L4 IT        4676   1592   4342  10747   6671   5580   7610   3791  13865\n",
       "  L5 ET         179    489    329    278    623    920    161    656    137\n",
       "  L5 IT        6365   2947   6942  12085   9173   7754   8126   5468   8984\n",
       "  L5/6 NP       942    929   1268   2008   1834   1785   1258   1513    815\n",
       "  L6 CT        3139   2546   2644   2650   3850   7478   2311   4162   6337\n",
       "  L6 IT        4924   2586   4892   5537   7489   7400   3861   6407   4813\n",
       "  L6 IT Car3   3969    507   1266   2439   4207   2693   1915   2019   2218\n",
       "  L6B          1542   1581   2480   1691   4206   3041   1235   1996   1157\n",
       "  LAMP5        1767   1397   2169   3628   2690   4558   2191   2812   1887\n",
       "  LAMP5 LHX6    850    709    908   1467   1513   2076   1008   1410    768\n",
       "  Micro/PVM    7476   8463   7318   9580  11743  10700   5460   8440   4056\n",
       "  Oligo       44572  26912  48104  68228  56447 135561  41806  75222  28976\n",
       "  OPC          7098   7833   7651  12447  12736  14585   8664   8701   6044\n",
       "  PAX6          590    587    634    980   1057   1143    592    725    328\n",
       "  PVALB        4815   3598   5111   8918   8139  10686   5101   6751   5009\n",
       "  SNCG         1070    980   1217   2164   1745   1969   1436   1275    931\n",
       "  SST          5035   3878   6144  10183   9168   6936   4743   6398   5128\n",
       "  SST CHODL      83     96     97     96    200    237     59    104     36\n",
       "  VIP          4746   3073   4851   9840   6396   8144   6169   5684   5064\n",
       "  VLMC          343    742    841    618    743   1146    535    602    539"
      ]
     },
     "metadata": {},
     "output_type": "display_data"
    }
   ],
   "source": [
    "table(meta_df$Subclass_F, meta_df$Region)"
   ]
  },
  {
   "cell_type": "code",
   "execution_count": 12,
   "id": "78c0b0ab-4d6b-4cd2-87df-0bf30293d350",
   "metadata": {
    "tags": []
   },
   "outputs": [
    {
     "data": {
      "text/html": [
       "<table class=\"dataframe\">\n",
       "<caption>A matrix: 24 × 9 of type lgl</caption>\n",
       "<thead>\n",
       "\t<tr><th></th><th scope=col>A1C</th><th scope=col>A24</th><th scope=col>A9</th><th scope=col>AnG</th><th scope=col>FI</th><th scope=col>M1C</th><th scope=col>MTG</th><th scope=col>S1C</th><th scope=col>V1C</th></tr>\n",
       "</thead>\n",
       "<tbody>\n",
       "\t<tr><th scope=row>Astro</th><td>FALSE</td><td>FALSE</td><td>FALSE</td><td>FALSE</td><td>FALSE</td><td>FALSE</td><td>FALSE</td><td>FALSE</td><td>FALSE</td></tr>\n",
       "\t<tr><th scope=row>Chandelier</th><td> TRUE</td><td> TRUE</td><td> TRUE</td><td>FALSE</td><td>FALSE</td><td>FALSE</td><td> TRUE</td><td>FALSE</td><td> TRUE</td></tr>\n",
       "\t<tr><th scope=row>Endo</th><td> TRUE</td><td> TRUE</td><td> TRUE</td><td> TRUE</td><td> TRUE</td><td> TRUE</td><td> TRUE</td><td> TRUE</td><td> TRUE</td></tr>\n",
       "\t<tr><th scope=row>L2/3 IT</th><td>FALSE</td><td>FALSE</td><td>FALSE</td><td>FALSE</td><td>FALSE</td><td>FALSE</td><td>FALSE</td><td>FALSE</td><td>FALSE</td></tr>\n",
       "\t<tr><th scope=row>L4 IT</th><td>FALSE</td><td>FALSE</td><td>FALSE</td><td>FALSE</td><td>FALSE</td><td>FALSE</td><td>FALSE</td><td>FALSE</td><td>FALSE</td></tr>\n",
       "\t<tr><th scope=row>L5 ET</th><td> TRUE</td><td> TRUE</td><td> TRUE</td><td> TRUE</td><td> TRUE</td><td> TRUE</td><td> TRUE</td><td> TRUE</td><td> TRUE</td></tr>\n",
       "\t<tr><th scope=row>L5 IT</th><td>FALSE</td><td>FALSE</td><td>FALSE</td><td>FALSE</td><td>FALSE</td><td>FALSE</td><td>FALSE</td><td>FALSE</td><td>FALSE</td></tr>\n",
       "\t<tr><th scope=row>L5/6 NP</th><td> TRUE</td><td> TRUE</td><td>FALSE</td><td>FALSE</td><td>FALSE</td><td>FALSE</td><td>FALSE</td><td>FALSE</td><td> TRUE</td></tr>\n",
       "\t<tr><th scope=row>L6 CT</th><td>FALSE</td><td>FALSE</td><td>FALSE</td><td>FALSE</td><td>FALSE</td><td>FALSE</td><td>FALSE</td><td>FALSE</td><td>FALSE</td></tr>\n",
       "\t<tr><th scope=row>L6 IT</th><td>FALSE</td><td>FALSE</td><td>FALSE</td><td>FALSE</td><td>FALSE</td><td>FALSE</td><td>FALSE</td><td>FALSE</td><td>FALSE</td></tr>\n",
       "\t<tr><th scope=row>L6 IT Car3</th><td>FALSE</td><td> TRUE</td><td>FALSE</td><td>FALSE</td><td>FALSE</td><td>FALSE</td><td>FALSE</td><td>FALSE</td><td>FALSE</td></tr>\n",
       "\t<tr><th scope=row>L6B</th><td>FALSE</td><td>FALSE</td><td>FALSE</td><td>FALSE</td><td>FALSE</td><td>FALSE</td><td>FALSE</td><td>FALSE</td><td>FALSE</td></tr>\n",
       "\t<tr><th scope=row>LAMP5</th><td>FALSE</td><td>FALSE</td><td>FALSE</td><td>FALSE</td><td>FALSE</td><td>FALSE</td><td>FALSE</td><td>FALSE</td><td>FALSE</td></tr>\n",
       "\t<tr><th scope=row>LAMP5 LHX6</th><td> TRUE</td><td> TRUE</td><td> TRUE</td><td>FALSE</td><td>FALSE</td><td>FALSE</td><td>FALSE</td><td>FALSE</td><td> TRUE</td></tr>\n",
       "\t<tr><th scope=row>Micro/PVM</th><td>FALSE</td><td>FALSE</td><td>FALSE</td><td>FALSE</td><td>FALSE</td><td>FALSE</td><td>FALSE</td><td>FALSE</td><td>FALSE</td></tr>\n",
       "\t<tr><th scope=row>Oligo</th><td>FALSE</td><td>FALSE</td><td>FALSE</td><td>FALSE</td><td>FALSE</td><td>FALSE</td><td>FALSE</td><td>FALSE</td><td>FALSE</td></tr>\n",
       "\t<tr><th scope=row>OPC</th><td>FALSE</td><td>FALSE</td><td>FALSE</td><td>FALSE</td><td>FALSE</td><td>FALSE</td><td>FALSE</td><td>FALSE</td><td>FALSE</td></tr>\n",
       "\t<tr><th scope=row>PAX6</th><td> TRUE</td><td> TRUE</td><td> TRUE</td><td> TRUE</td><td>FALSE</td><td>FALSE</td><td> TRUE</td><td> TRUE</td><td> TRUE</td></tr>\n",
       "\t<tr><th scope=row>PVALB</th><td>FALSE</td><td>FALSE</td><td>FALSE</td><td>FALSE</td><td>FALSE</td><td>FALSE</td><td>FALSE</td><td>FALSE</td><td>FALSE</td></tr>\n",
       "\t<tr><th scope=row>SNCG</th><td>FALSE</td><td> TRUE</td><td>FALSE</td><td>FALSE</td><td>FALSE</td><td>FALSE</td><td>FALSE</td><td>FALSE</td><td> TRUE</td></tr>\n",
       "\t<tr><th scope=row>SST</th><td>FALSE</td><td>FALSE</td><td>FALSE</td><td>FALSE</td><td>FALSE</td><td>FALSE</td><td>FALSE</td><td>FALSE</td><td>FALSE</td></tr>\n",
       "\t<tr><th scope=row>SST CHODL</th><td> TRUE</td><td> TRUE</td><td> TRUE</td><td> TRUE</td><td> TRUE</td><td> TRUE</td><td> TRUE</td><td> TRUE</td><td> TRUE</td></tr>\n",
       "\t<tr><th scope=row>VIP</th><td>FALSE</td><td>FALSE</td><td>FALSE</td><td>FALSE</td><td>FALSE</td><td>FALSE</td><td>FALSE</td><td>FALSE</td><td>FALSE</td></tr>\n",
       "\t<tr><th scope=row>VLMC</th><td> TRUE</td><td> TRUE</td><td> TRUE</td><td> TRUE</td><td> TRUE</td><td>FALSE</td><td> TRUE</td><td> TRUE</td><td> TRUE</td></tr>\n",
       "</tbody>\n",
       "</table>\n"
      ],
      "text/latex": [
       "A matrix: 24 × 9 of type lgl\n",
       "\\begin{tabular}{r|lllllllll}\n",
       "  & A1C & A24 & A9 & AnG & FI & M1C & MTG & S1C & V1C\\\\\n",
       "\\hline\n",
       "\tAstro & FALSE & FALSE & FALSE & FALSE & FALSE & FALSE & FALSE & FALSE & FALSE\\\\\n",
       "\tChandelier &  TRUE &  TRUE &  TRUE & FALSE & FALSE & FALSE &  TRUE & FALSE &  TRUE\\\\\n",
       "\tEndo &  TRUE &  TRUE &  TRUE &  TRUE &  TRUE &  TRUE &  TRUE &  TRUE &  TRUE\\\\\n",
       "\tL2/3 IT & FALSE & FALSE & FALSE & FALSE & FALSE & FALSE & FALSE & FALSE & FALSE\\\\\n",
       "\tL4 IT & FALSE & FALSE & FALSE & FALSE & FALSE & FALSE & FALSE & FALSE & FALSE\\\\\n",
       "\tL5 ET &  TRUE &  TRUE &  TRUE &  TRUE &  TRUE &  TRUE &  TRUE &  TRUE &  TRUE\\\\\n",
       "\tL5 IT & FALSE & FALSE & FALSE & FALSE & FALSE & FALSE & FALSE & FALSE & FALSE\\\\\n",
       "\tL5/6 NP &  TRUE &  TRUE & FALSE & FALSE & FALSE & FALSE & FALSE & FALSE &  TRUE\\\\\n",
       "\tL6 CT & FALSE & FALSE & FALSE & FALSE & FALSE & FALSE & FALSE & FALSE & FALSE\\\\\n",
       "\tL6 IT & FALSE & FALSE & FALSE & FALSE & FALSE & FALSE & FALSE & FALSE & FALSE\\\\\n",
       "\tL6 IT Car3 & FALSE &  TRUE & FALSE & FALSE & FALSE & FALSE & FALSE & FALSE & FALSE\\\\\n",
       "\tL6B & FALSE & FALSE & FALSE & FALSE & FALSE & FALSE & FALSE & FALSE & FALSE\\\\\n",
       "\tLAMP5 & FALSE & FALSE & FALSE & FALSE & FALSE & FALSE & FALSE & FALSE & FALSE\\\\\n",
       "\tLAMP5 LHX6 &  TRUE &  TRUE &  TRUE & FALSE & FALSE & FALSE & FALSE & FALSE &  TRUE\\\\\n",
       "\tMicro/PVM & FALSE & FALSE & FALSE & FALSE & FALSE & FALSE & FALSE & FALSE & FALSE\\\\\n",
       "\tOligo & FALSE & FALSE & FALSE & FALSE & FALSE & FALSE & FALSE & FALSE & FALSE\\\\\n",
       "\tOPC & FALSE & FALSE & FALSE & FALSE & FALSE & FALSE & FALSE & FALSE & FALSE\\\\\n",
       "\tPAX6 &  TRUE &  TRUE &  TRUE &  TRUE & FALSE & FALSE &  TRUE &  TRUE &  TRUE\\\\\n",
       "\tPVALB & FALSE & FALSE & FALSE & FALSE & FALSE & FALSE & FALSE & FALSE & FALSE\\\\\n",
       "\tSNCG & FALSE &  TRUE & FALSE & FALSE & FALSE & FALSE & FALSE & FALSE &  TRUE\\\\\n",
       "\tSST & FALSE & FALSE & FALSE & FALSE & FALSE & FALSE & FALSE & FALSE & FALSE\\\\\n",
       "\tSST CHODL &  TRUE &  TRUE &  TRUE &  TRUE &  TRUE &  TRUE &  TRUE &  TRUE &  TRUE\\\\\n",
       "\tVIP & FALSE & FALSE & FALSE & FALSE & FALSE & FALSE & FALSE & FALSE & FALSE\\\\\n",
       "\tVLMC &  TRUE &  TRUE &  TRUE &  TRUE &  TRUE & FALSE &  TRUE &  TRUE &  TRUE\\\\\n",
       "\\end{tabular}\n"
      ],
      "text/markdown": [
       "\n",
       "A matrix: 24 × 9 of type lgl\n",
       "\n",
       "| <!--/--> | A1C | A24 | A9 | AnG | FI | M1C | MTG | S1C | V1C |\n",
       "|---|---|---|---|---|---|---|---|---|---|\n",
       "| Astro | FALSE | FALSE | FALSE | FALSE | FALSE | FALSE | FALSE | FALSE | FALSE |\n",
       "| Chandelier |  TRUE |  TRUE |  TRUE | FALSE | FALSE | FALSE |  TRUE | FALSE |  TRUE |\n",
       "| Endo |  TRUE |  TRUE |  TRUE |  TRUE |  TRUE |  TRUE |  TRUE |  TRUE |  TRUE |\n",
       "| L2/3 IT | FALSE | FALSE | FALSE | FALSE | FALSE | FALSE | FALSE | FALSE | FALSE |\n",
       "| L4 IT | FALSE | FALSE | FALSE | FALSE | FALSE | FALSE | FALSE | FALSE | FALSE |\n",
       "| L5 ET |  TRUE |  TRUE |  TRUE |  TRUE |  TRUE |  TRUE |  TRUE |  TRUE |  TRUE |\n",
       "| L5 IT | FALSE | FALSE | FALSE | FALSE | FALSE | FALSE | FALSE | FALSE | FALSE |\n",
       "| L5/6 NP |  TRUE |  TRUE | FALSE | FALSE | FALSE | FALSE | FALSE | FALSE |  TRUE |\n",
       "| L6 CT | FALSE | FALSE | FALSE | FALSE | FALSE | FALSE | FALSE | FALSE | FALSE |\n",
       "| L6 IT | FALSE | FALSE | FALSE | FALSE | FALSE | FALSE | FALSE | FALSE | FALSE |\n",
       "| L6 IT Car3 | FALSE |  TRUE | FALSE | FALSE | FALSE | FALSE | FALSE | FALSE | FALSE |\n",
       "| L6B | FALSE | FALSE | FALSE | FALSE | FALSE | FALSE | FALSE | FALSE | FALSE |\n",
       "| LAMP5 | FALSE | FALSE | FALSE | FALSE | FALSE | FALSE | FALSE | FALSE | FALSE |\n",
       "| LAMP5 LHX6 |  TRUE |  TRUE |  TRUE | FALSE | FALSE | FALSE | FALSE | FALSE |  TRUE |\n",
       "| Micro/PVM | FALSE | FALSE | FALSE | FALSE | FALSE | FALSE | FALSE | FALSE | FALSE |\n",
       "| Oligo | FALSE | FALSE | FALSE | FALSE | FALSE | FALSE | FALSE | FALSE | FALSE |\n",
       "| OPC | FALSE | FALSE | FALSE | FALSE | FALSE | FALSE | FALSE | FALSE | FALSE |\n",
       "| PAX6 |  TRUE |  TRUE |  TRUE |  TRUE | FALSE | FALSE |  TRUE |  TRUE |  TRUE |\n",
       "| PVALB | FALSE | FALSE | FALSE | FALSE | FALSE | FALSE | FALSE | FALSE | FALSE |\n",
       "| SNCG | FALSE |  TRUE | FALSE | FALSE | FALSE | FALSE | FALSE | FALSE |  TRUE |\n",
       "| SST | FALSE | FALSE | FALSE | FALSE | FALSE | FALSE | FALSE | FALSE | FALSE |\n",
       "| SST CHODL |  TRUE |  TRUE |  TRUE |  TRUE |  TRUE |  TRUE |  TRUE |  TRUE |  TRUE |\n",
       "| VIP | FALSE | FALSE | FALSE | FALSE | FALSE | FALSE | FALSE | FALSE | FALSE |\n",
       "| VLMC |  TRUE |  TRUE |  TRUE |  TRUE |  TRUE | FALSE |  TRUE |  TRUE |  TRUE |\n",
       "\n"
      ],
      "text/plain": [
       "            \n",
       "             A1C   A24   A9    AnG   FI    M1C   MTG   S1C   V1C  \n",
       "  Astro      FALSE FALSE FALSE FALSE FALSE FALSE FALSE FALSE FALSE\n",
       "  Chandelier  TRUE  TRUE  TRUE FALSE FALSE FALSE  TRUE FALSE  TRUE\n",
       "  Endo        TRUE  TRUE  TRUE  TRUE  TRUE  TRUE  TRUE  TRUE  TRUE\n",
       "  L2/3 IT    FALSE FALSE FALSE FALSE FALSE FALSE FALSE FALSE FALSE\n",
       "  L4 IT      FALSE FALSE FALSE FALSE FALSE FALSE FALSE FALSE FALSE\n",
       "  L5 ET       TRUE  TRUE  TRUE  TRUE  TRUE  TRUE  TRUE  TRUE  TRUE\n",
       "  L5 IT      FALSE FALSE FALSE FALSE FALSE FALSE FALSE FALSE FALSE\n",
       "  L5/6 NP     TRUE  TRUE FALSE FALSE FALSE FALSE FALSE FALSE  TRUE\n",
       "  L6 CT      FALSE FALSE FALSE FALSE FALSE FALSE FALSE FALSE FALSE\n",
       "  L6 IT      FALSE FALSE FALSE FALSE FALSE FALSE FALSE FALSE FALSE\n",
       "  L6 IT Car3 FALSE  TRUE FALSE FALSE FALSE FALSE FALSE FALSE FALSE\n",
       "  L6B        FALSE FALSE FALSE FALSE FALSE FALSE FALSE FALSE FALSE\n",
       "  LAMP5      FALSE FALSE FALSE FALSE FALSE FALSE FALSE FALSE FALSE\n",
       "  LAMP5 LHX6  TRUE  TRUE  TRUE FALSE FALSE FALSE FALSE FALSE  TRUE\n",
       "  Micro/PVM  FALSE FALSE FALSE FALSE FALSE FALSE FALSE FALSE FALSE\n",
       "  Oligo      FALSE FALSE FALSE FALSE FALSE FALSE FALSE FALSE FALSE\n",
       "  OPC        FALSE FALSE FALSE FALSE FALSE FALSE FALSE FALSE FALSE\n",
       "  PAX6        TRUE  TRUE  TRUE  TRUE FALSE FALSE  TRUE  TRUE  TRUE\n",
       "  PVALB      FALSE FALSE FALSE FALSE FALSE FALSE FALSE FALSE FALSE\n",
       "  SNCG       FALSE  TRUE FALSE FALSE FALSE FALSE FALSE FALSE  TRUE\n",
       "  SST        FALSE FALSE FALSE FALSE FALSE FALSE FALSE FALSE FALSE\n",
       "  SST CHODL   TRUE  TRUE  TRUE  TRUE  TRUE  TRUE  TRUE  TRUE  TRUE\n",
       "  VIP        FALSE FALSE FALSE FALSE FALSE FALSE FALSE FALSE FALSE\n",
       "  VLMC        TRUE  TRUE  TRUE  TRUE  TRUE FALSE  TRUE  TRUE  TRUE"
      ]
     },
     "metadata": {},
     "output_type": "display_data"
    }
   ],
   "source": [
    "table(meta_df$Subclass_F, meta_df$Region) < 1000"
   ]
  },
  {
   "cell_type": "code",
   "execution_count": 14,
   "id": "c1664926-97a4-4bf7-94f8-531da5867031",
   "metadata": {
    "tags": []
   },
   "outputs": [],
   "source": [
    "target <- 1000\n",
    "output_dir <- \"downsample_analysis/sample_barcodes/\"\n",
    "for (subclass in unique(meta_df$Subclass_F)) {\n",
    "    subclass_name <- gsub(\"[ /]\", \"_\", subclass)\n",
    "    tmp_df <- meta_df[meta_df$Subclass_F == subclass, ]\n",
    "    sel_barcodes <- c()\n",
    "    for (region in unique(tmp_df$Region)) {\n",
    "        tmp_barcodes <- rownames(tmp_df[tmp_df$Region == region, ])\n",
    "        n <- min(target, length(tmp_barcodes))\n",
    "        sel_barcodes <- c(sel_barcodes, sample(tmp_barcodes, n, replace = FALSE))\n",
    "    }\n",
    "    out_df <- data.frame(barcode = sel_barcodes)\n",
    "    out_file <- file.path(output_dir, sprintf(\"%s.tsv\", subclass_name))\n",
    "    write.table(out_df, out_file, col.names = T, sep = \"\\t\", quote = F, row.names = F)\n",
    "}"
   ]
  },
  {
   "cell_type": "code",
   "execution_count": 16,
   "id": "45692cc0-4446-4278-802b-32f4869d5379",
   "metadata": {
    "tags": []
   },
   "outputs": [],
   "source": [
    "# Sanity Check\n",
    "subclass <- \"L5_IT\"\n",
    "object <- readRDS(sprintf(\"cell_gene_matrix/%s.rds\", subclass))\n",
    "barcodes <- read.table(file.path(output_dir, sprintf(\"%s.tsv\", subclass)), sep = \"\\t\", header = T)"
   ]
  },
  {
   "cell_type": "code",
   "execution_count": 17,
   "id": "c5cea8da-642e-44b5-b550-a586fbb36946",
   "metadata": {
    "tags": []
   },
   "outputs": [
    {
     "data": {
      "text/html": [
       "TRUE"
      ],
      "text/latex": [
       "TRUE"
      ],
      "text/markdown": [
       "TRUE"
      ],
      "text/plain": [
       "[1] TRUE"
      ]
     },
     "metadata": {},
     "output_type": "display_data"
    }
   ],
   "source": [
    "all(barcodes$barcode %in% colnames(object))"
   ]
  },
  {
   "cell_type": "code",
   "execution_count": 18,
   "id": "8c2d3c30-9055-4fde-a949-222be5a6cbb4",
   "metadata": {
    "tags": []
   },
   "outputs": [
    {
     "data": {
      "text/html": [
       "9000"
      ],
      "text/latex": [
       "9000"
      ],
      "text/markdown": [
       "9000"
      ],
      "text/plain": [
       "[1] 9000"
      ]
     },
     "metadata": {},
     "output_type": "display_data"
    }
   ],
   "source": [
    "length(barcodes$barcode)"
   ]
  },
  {
   "cell_type": "code",
   "execution_count": 19,
   "id": "39c94a2f-8309-495e-9bd8-f40360b8b82c",
   "metadata": {},
   "outputs": [
    {
     "data": {
      "text/html": [
       "1643041"
      ],
      "text/latex": [
       "1643041"
      ],
      "text/markdown": [
       "1643041"
      ],
      "text/plain": [
       "[1] 1643041"
      ]
     },
     "metadata": {},
     "output_type": "display_data"
    }
   ],
   "source": [
    "nrow(meta_df)"
   ]
  },
  {
   "cell_type": "code",
   "execution_count": null,
   "id": "0e210106-164b-473e-8308-2d0fcbc43754",
   "metadata": {},
   "outputs": [],
   "source": []
  }
 ],
 "metadata": {
  "kernelspec": {
   "display_name": "R",
   "language": "R",
   "name": "ir"
  },
  "language_info": {
   "codemirror_mode": "r",
   "file_extension": ".r",
   "mimetype": "text/x-r-source",
   "name": "R",
   "pygments_lexer": "r",
   "version": "4.3.1"
  }
 },
 "nbformat": 4,
 "nbformat_minor": 5
}
