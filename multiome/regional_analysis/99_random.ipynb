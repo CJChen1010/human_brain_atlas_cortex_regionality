{
 "cells": [
  {
   "cell_type": "markdown",
   "id": "b974186a-759b-4ec6-b7ca-83d58b42835b",
   "metadata": {},
   "source": [
    "# Random codes"
   ]
  },
  {
   "cell_type": "code",
   "execution_count": 1,
   "id": "36a38ae8-9baf-43a1-8307-fcf179bf56be",
   "metadata": {
    "tags": []
   },
   "outputs": [],
   "source": [
    "suppressPackageStartupMessages({\n",
    "    library(CellChat)\n",
    "    library(patchwork)\n",
    "    library(fs)\n",
    "    library(tidyverse)\n",
    "    library(patchwork)\n",
    "    library(pheatmap)\n",
    "})\n",
    "options(stringsAsFactors = FALSE)"
   ]
  },
  {
   "cell_type": "code",
   "execution_count": null,
   "id": "5f17ca5b-4fe4-4789-aaa5-22a87c38c6a0",
   "metadata": {},
   "outputs": [],
   "source": []
  }
 ],
 "metadata": {
  "kernelspec": {
   "display_name": "R",
   "language": "R",
   "name": "ir"
  },
  "language_info": {
   "codemirror_mode": "r",
   "file_extension": ".r",
   "mimetype": "text/x-r-source",
   "name": "R",
   "pygments_lexer": "r",
   "version": "4.3.1"
  }
 },
 "nbformat": 4,
 "nbformat_minor": 5
}
