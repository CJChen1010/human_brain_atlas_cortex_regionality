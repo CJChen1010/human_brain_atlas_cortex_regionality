{
 "cells": [
  {
   "cell_type": "markdown",
   "id": "19b09a60-d79c-40da-ad7b-2f71c9de3758",
   "metadata": {},
   "source": [
    "# Aggregate LDSC results"
   ]
  },
  {
   "cell_type": "code",
   "execution_count": 1,
   "id": "df4de5de-d023-4b10-8ee3-d92fbe01b640",
   "metadata": {
    "tags": []
   },
   "outputs": [],
   "source": [
    "import os\n",
    "import re\n",
    "from pathlib import Path"
   ]
  },
  {
   "cell_type": "code",
   "execution_count": 2,
   "id": "6a2db0c6-1ee2-4d35-bfee-1710e1168c58",
   "metadata": {
    "tags": []
   },
   "outputs": [],
   "source": [
    "root_dir = Path(\"/tscc/projects/ps-epigen/users/biy022/biccn/data/SNAREdata/subclass_regional_ldsc_v3/\")\n",
    "os.chdir(root_dir)"
   ]
  },
  {
   "cell_type": "code",
   "execution_count": 3,
   "id": "e21b2556-acc0-4a82-9540-38d629704933",
   "metadata": {
    "tags": []
   },
   "outputs": [],
   "source": [
    "pattern = re.compile(r'([A-Za-z0-9._-]+)\\.types\\.cell_type_results\\.txt')"
   ]
  },
  {
   "cell_type": "code",
   "execution_count": 4,
   "id": "e9961e6d-b2ed-4f82-a394-09df4066fbdb",
   "metadata": {
    "tags": []
   },
   "outputs": [],
   "source": [
    "for subclass_dir in Path(\"./\").iterdir():\n",
    "    if subclass_dir.stem == \"baseset\":\n",
    "        continue\n",
    "    with open(subclass_dir / \"ldsc_aggregate.tsv\", \"w\") as output_file:\n",
    "        output_file.write(\"phenotype\\tsubclass\\tcoefficient\\tcoefficient_ste\\tpvalue\\n\")\n",
    "        for ldsc_path in subclass_dir.glob(\"results/*cell_type_results.txt\"):\n",
    "            file_name = ldsc_path.name\n",
    "            result = pattern.match(file_name)\n",
    "            if result is None:\n",
    "                print(file_name)\n",
    "            else:\n",
    "                pheno_category = result.group(1)\n",
    "                with ldsc_path.open() as f:\n",
    "                    next(f)\n",
    "                    for curr_line in f:\n",
    "                        curr_line = curr_line.strip()\n",
    "                        curr_line_contents = curr_line.split('\\t')\n",
    "                        cell_type = curr_line_contents[0]\n",
    "                        coefficient = curr_line_contents[1]\n",
    "                        coefficient_ste = curr_line_contents[2]\n",
    "                        pvalue = curr_line_contents[3]\n",
    "\n",
    "                        output_file.write('{0}\\t{1}\\t{2}\\t{3}\\t{4}\\n'.format(\n",
    "                            pheno_category, cell_type, coefficient, coefficient_ste, pvalue))"
   ]
  },
  {
   "cell_type": "code",
   "execution_count": null,
   "id": "f28c5e8e-a0c5-4e06-b774-182b66adfcc3",
   "metadata": {},
   "outputs": [],
   "source": []
  }
 ],
 "metadata": {
  "kernelspec": {
   "display_name": "Python 3 (ipykernel)",
   "language": "python",
   "name": "python3"
  },
  "language_info": {
   "codemirror_mode": {
    "name": "ipython",
    "version": 3
   },
   "file_extension": ".py",
   "mimetype": "text/x-python",
   "name": "python",
   "nbconvert_exporter": "python",
   "pygments_lexer": "ipython3",
   "version": "3.9.17"
  }
 },
 "nbformat": 4,
 "nbformat_minor": 5
}
