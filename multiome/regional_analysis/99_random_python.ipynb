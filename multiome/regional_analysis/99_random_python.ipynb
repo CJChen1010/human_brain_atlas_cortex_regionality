{
 "cells": [
  {
   "cell_type": "code",
   "execution_count": 1,
   "id": "c592fd2c-0ab0-460e-a576-866839e90e54",
   "metadata": {},
   "outputs": [],
   "source": [
    "import pandas as pd\n",
    "import scanpy as sc\n",
    "import decoupler as dc\n",
    "from pathlib import Path\n",
    "import os"
   ]
  },
  {
   "cell_type": "code",
   "execution_count": 2,
   "id": "c963e64c-efa8-4454-813b-a8c90c575573",
   "metadata": {},
   "outputs": [],
   "source": [
    "root_dir = Path(\"/tscc/projects/ps-epigen/users/biy022/biccn/data/SNAREdata/\")\n",
    "os.chdir(root_dir / \"share/gene_expr_20241125\")"
   ]
  },
  {
   "cell_type": "code",
   "execution_count": 3,
   "id": "80500736-a76a-4cf6-b085-a5f43b4bbe43",
   "metadata": {},
   "outputs": [],
   "source": [
    "source_dir = root_dir / \"scenicplus/other_celltypes/\"\n",
    "rna_counts = dict()\n",
    "for file in source_dir.glob(\"*_rna_matrix.h5ad\"):\n",
    "    subclass = file.stem.split(\"_rna_matrix\")[0]\n",
    "    rna_counts[subclass] = sc.read_h5ad(file)"
   ]
  },
  {
   "cell_type": "code",
   "execution_count": 5,
   "id": "85785869-b08e-4f0d-b0d5-c096f3b45cfc",
   "metadata": {},
   "outputs": [],
   "source": [
    "# gene_list = pd.read_csv(\"gene_list.tsv\", sep=\"\\t\", header=None)[0].to_list()"
   ]
  },
  {
   "cell_type": "code",
   "execution_count": 6,
   "id": "478d813b-7df0-4aed-a968-e0cf3823a6a4",
   "metadata": {},
   "outputs": [
    {
     "name": "stdout",
     "output_type": "stream",
     "text": [
      "PVALB\n",
      "L6_IT\n",
      "LAMP5\n",
      "LAMP5_LHX6\n",
      "L6_CT\n",
      "Endo\n",
      "VIP\n",
      "Oligo\n",
      "SST_CHODL\n",
      "L5_IT\n",
      "Chandelier\n",
      "Micro\n",
      "SST\n",
      "L6_IT_Car3\n",
      "L2_3_IT\n",
      "L4_IT\n",
      "SNCG\n",
      "Astro\n",
      "L5_ET\n",
      "OPC\n",
      "L5_6_NP\n",
      "L6B\n",
      "VLMC\n",
      "PAX6\n"
     ]
    }
   ],
   "source": [
    "for subclass in rna_counts.keys():\n",
    "    print(subclass)\n",
    "    mat = rna_counts[subclass].copy()\n",
    "    if mat.raw != None:\n",
    "        mat = mat.raw.to_adata().copy()\n",
    "\n",
    "    mat_aggr = dc.get_pseudobulk(\n",
    "        mat,\n",
    "        sample_col=\"Region\",\n",
    "        groups_col=None,\n",
    "        min_cells=0,\n",
    "        min_counts=0,\n",
    "        remove_empty=False\n",
    "    )\n",
    "    sc.pp.normalize_total(mat_aggr, target_sum=1e6)\n",
    "    sc.pp.log1p(mat_aggr, base=2)\n",
    "\n",
    "    rna_counts[subclass] = mat_aggr"
   ]
  },
  {
   "cell_type": "code",
   "execution_count": 7,
   "id": "bb242029-c8e3-4ab2-9972-4b94d6789f14",
   "metadata": {},
   "outputs": [
    {
     "name": "stdout",
     "output_type": "stream",
     "text": [
      "PVALB\n",
      "L6_IT\n",
      "LAMP5\n",
      "LAMP5_LHX6\n",
      "L6_CT\n",
      "Endo\n",
      "VIP\n",
      "Oligo\n",
      "SST_CHODL\n",
      "L5_IT\n",
      "Chandelier\n",
      "Micro\n",
      "SST\n",
      "L6_IT_Car3\n",
      "L2_3_IT\n",
      "L4_IT\n",
      "SNCG\n",
      "Astro\n",
      "L5_ET\n",
      "OPC\n",
      "L5_6_NP\n",
      "L6B\n",
      "VLMC\n",
      "PAX6\n"
     ]
    }
   ],
   "source": [
    "for subclass in rna_counts.keys():\n",
    "    print(subclass)\n",
    "    # glist = [x for x in gene_list if x in rna_counts[subclass].var.index.to_list()]\n",
    "    mat = rna_counts[subclass][:, :]\n",
    "    df = pd.DataFrame(mat.X.toarray().T, index=mat.var_names, columns=mat.obs_names)\n",
    "    df.to_csv(\"{}.csv\".format(subclass), sep=\",\", header=True, index=True)"
   ]
  },
  {
   "cell_type": "code",
   "execution_count": null,
   "id": "189f0eb0-4850-4342-9ed1-70b75a3b74b1",
   "metadata": {},
   "outputs": [],
   "source": []
  }
 ],
 "metadata": {
  "kernelspec": {
   "display_name": "Python 3 (ipykernel)",
   "language": "python",
   "name": "python3"
  },
  "language_info": {
   "codemirror_mode": {
    "name": "ipython",
    "version": 3
   },
   "file_extension": ".py",
   "mimetype": "text/x-python",
   "name": "python",
   "nbconvert_exporter": "python",
   "pygments_lexer": "ipython3",
   "version": "3.11.9"
  }
 },
 "nbformat": 4,
 "nbformat_minor": 5
}
