{
 "cells": [
  {
   "cell_type": "markdown",
   "id": "2544556b-26be-411e-a631-5af671727326",
   "metadata": {},
   "source": [
    "# Split fragment files into regional fragments"
   ]
  },
  {
   "cell_type": "code",
   "execution_count": 1,
   "id": "1210ffff-8d66-42ce-84a0-4bf49bd18f9e",
   "metadata": {
    "tags": []
   },
   "outputs": [],
   "source": [
    "suppressPackageStartupMessages({\n",
    "    library(Seurat)\n",
    "    library(repr)\n",
    "    library(patchwork)\n",
    "    library(ggplot2)\n",
    "    library(Signac)\n",
    "    library(tidyverse)\n",
    "    library(GenomicRanges)\n",
    "    library(edgeR)\n",
    "    library(SingleCellExperiment)\n",
    "    library(Matrix)\n",
    "    library(scran)\n",
    "    library(scater)\n",
    "    library(ggrepel)\n",
    "    library(fs)\n",
    "    library(tidyverse)\n",
    "    library(randomForest)\n",
    "    library(reticulate)\n",
    "    library(pheatmap)\n",
    "    library(gridExtra)\n",
    "    library(RColorBrewer)\n",
    "    library(MAST)\n",
    "    library(data.table)\n",
    "    library(ComplexHeatmap)\n",
    "})\n",
    "options(future.globals.maxSize = Inf)\n",
    "options(Seurat.object.assay.version = \"v5\")\n",
    "options(ggrepel.max.overlaps = Inf)"
   ]
  },
  {
   "cell_type": "code",
   "execution_count": 2,
   "id": "4f814f50-52bd-4b7f-9048-f904941e635c",
   "metadata": {
    "tags": []
   },
   "outputs": [],
   "source": [
    "setwd(\"/tscc/projects/ps-epigen/users/biy022/biccn/data/SNAREdata/\")"
   ]
  },
  {
   "cell_type": "code",
   "execution_count": 4,
   "id": "b40ba5a1-c2ea-4c82-9a6a-1f8ff102235f",
   "metadata": {
    "tags": []
   },
   "outputs": [],
   "source": [
    "meta_data <- read.table(\n",
    "    \"cell_gene_matrix/20230313_RNA_metadata.xls\", \n",
    "    header = TRUE, row.names = 1, sep = \"\\t\"\n",
    ")"
   ]
  },
  {
   "cell_type": "code",
   "execution_count": 14,
   "id": "cf402df9-cae1-4958-833a-84cc65c582cb",
   "metadata": {
    "collapsed": true,
    "jupyter": {
     "outputs_hidden": true
    },
    "tags": []
   },
   "outputs": [
    {
     "name": "stdout",
     "output_type": "stream",
     "text": [
      "[1] \"Astro\"\n",
      "[1] \"Chandelier\"\n",
      "[1] \"Endo\"\n",
      "[1] \"L2_3_IT\"\n",
      "[1] \"L4_IT\"\n",
      "[1] \"L5_6_NP\"\n",
      "[1] \"L5_ET\"\n",
      "[1] \"L5_IT\"\n",
      "[1] \"L6B\"\n",
      "[1] \"L6_CT\"\n",
      "[1] \"L6_IT\"\n",
      "[1] \"L6_IT_Car3\"\n",
      "[1] \"LAMP5\"\n",
      "[1] \"LAMP5_LHX6\"\n",
      "[1] \"Micro_PVM\"\n"
     ]
    },
    {
     "name": "stderr",
     "output_type": "stream",
     "text": [
      "Warning message in CreateChromatinAssay(counts = atac_matrix, fragments = sprintf(\"subclass_fragments/%s.sorted.bed.gz\", :\n",
      "“Overlapping ranges supplied. Ranges should be non-overlapping.”\n",
      "Computing hash\n",
      "\n",
      "Processing file /tscc/projects/ps-epigen/users/biy022/biccn/data/SNAREdata/subclass_fragments/Micro_PVM.sorted.bed.gz\n",
      "\n",
      "\n",
      "\n",
      "\n"
     ]
    },
    {
     "name": "stdout",
     "output_type": "stream",
     "text": [
      "[1] \"OPC\"\n"
     ]
    },
    {
     "name": "stderr",
     "output_type": "stream",
     "text": [
      "Warning message in CreateChromatinAssay(counts = atac_matrix, fragments = sprintf(\"subclass_fragments/%s.sorted.bed.gz\", :\n",
      "“Overlapping ranges supplied. Ranges should be non-overlapping.”\n",
      "Computing hash\n",
      "\n",
      "Processing file /tscc/projects/ps-epigen/users/biy022/biccn/data/SNAREdata/subclass_fragments/OPC.sorted.bed.gz\n",
      "\n",
      "\n",
      "\n",
      "\n"
     ]
    },
    {
     "name": "stdout",
     "output_type": "stream",
     "text": [
      "[1] \"Oligo\"\n"
     ]
    },
    {
     "name": "stderr",
     "output_type": "stream",
     "text": [
      "Warning message in CreateChromatinAssay(counts = atac_matrix, fragments = sprintf(\"subclass_fragments/%s.sorted.bed.gz\", :\n",
      "“Overlapping ranges supplied. Ranges should be non-overlapping.”\n",
      "Computing hash\n",
      "\n",
      "Processing file /tscc/projects/ps-epigen/users/biy022/biccn/data/SNAREdata/subclass_fragments/Oligo.sorted.bed.gz\n",
      "\n",
      "\n",
      "\n",
      "\n"
     ]
    },
    {
     "name": "stdout",
     "output_type": "stream",
     "text": [
      "[1] \"PAX6\"\n"
     ]
    },
    {
     "name": "stderr",
     "output_type": "stream",
     "text": [
      "Warning message in CreateChromatinAssay(counts = atac_matrix, fragments = sprintf(\"subclass_fragments/%s.sorted.bed.gz\", :\n",
      "“Overlapping ranges supplied. Ranges should be non-overlapping.”\n",
      "Computing hash\n",
      "\n",
      "Processing file /tscc/projects/ps-epigen/users/biy022/biccn/data/SNAREdata/subclass_fragments/PAX6.sorted.bed.gz\n",
      "\n",
      "\n",
      "\n",
      "\n"
     ]
    },
    {
     "name": "stdout",
     "output_type": "stream",
     "text": [
      "[1] \"PVALB\"\n"
     ]
    },
    {
     "name": "stderr",
     "output_type": "stream",
     "text": [
      "Warning message in CreateChromatinAssay(counts = atac_matrix, fragments = sprintf(\"subclass_fragments/%s.sorted.bed.gz\", :\n",
      "“Overlapping ranges supplied. Ranges should be non-overlapping.”\n",
      "Computing hash\n",
      "\n",
      "Processing file /tscc/projects/ps-epigen/users/biy022/biccn/data/SNAREdata/subclass_fragments/PVALB.sorted.bed.gz\n",
      "\n",
      "\n",
      "\n",
      "\n"
     ]
    },
    {
     "name": "stdout",
     "output_type": "stream",
     "text": [
      "[1] \"SNCG\"\n"
     ]
    },
    {
     "name": "stderr",
     "output_type": "stream",
     "text": [
      "Warning message in CreateChromatinAssay(counts = atac_matrix, fragments = sprintf(\"subclass_fragments/%s.sorted.bed.gz\", :\n",
      "“Overlapping ranges supplied. Ranges should be non-overlapping.”\n",
      "Computing hash\n",
      "\n",
      "Processing file /tscc/projects/ps-epigen/users/biy022/biccn/data/SNAREdata/subclass_fragments/SNCG.sorted.bed.gz\n",
      "\n",
      "\n",
      "\n",
      "\n"
     ]
    },
    {
     "name": "stdout",
     "output_type": "stream",
     "text": [
      "[1] \"SST\"\n"
     ]
    },
    {
     "name": "stderr",
     "output_type": "stream",
     "text": [
      "Warning message in CreateChromatinAssay(counts = atac_matrix, fragments = sprintf(\"subclass_fragments/%s.sorted.bed.gz\", :\n",
      "“Overlapping ranges supplied. Ranges should be non-overlapping.”\n",
      "Computing hash\n",
      "\n",
      "Processing file /tscc/projects/ps-epigen/users/biy022/biccn/data/SNAREdata/subclass_fragments/SST.sorted.bed.gz\n",
      "\n",
      "\n",
      "\n",
      "\n"
     ]
    },
    {
     "name": "stdout",
     "output_type": "stream",
     "text": [
      "[1] \"SST_CHODL\"\n"
     ]
    },
    {
     "name": "stderr",
     "output_type": "stream",
     "text": [
      "Warning message in CreateChromatinAssay(counts = atac_matrix, fragments = sprintf(\"subclass_fragments/%s.sorted.bed.gz\", :\n",
      "“Overlapping ranges supplied. Ranges should be non-overlapping.”\n",
      "Computing hash\n",
      "\n",
      "Processing file /tscc/projects/ps-epigen/users/biy022/biccn/data/SNAREdata/subclass_fragments/SST_CHODL.sorted.bed.gz\n",
      "\n",
      "\n",
      "\n",
      "\n"
     ]
    },
    {
     "name": "stdout",
     "output_type": "stream",
     "text": [
      "[1] \"VIP\"\n"
     ]
    },
    {
     "name": "stderr",
     "output_type": "stream",
     "text": [
      "Warning message in CreateChromatinAssay(counts = atac_matrix, fragments = sprintf(\"subclass_fragments/%s.sorted.bed.gz\", :\n",
      "“Overlapping ranges supplied. Ranges should be non-overlapping.”\n",
      "Computing hash\n",
      "\n",
      "Processing file /tscc/projects/ps-epigen/users/biy022/biccn/data/SNAREdata/subclass_fragments/VIP.sorted.bed.gz\n",
      "\n",
      "\n",
      "\n",
      "\n"
     ]
    },
    {
     "name": "stdout",
     "output_type": "stream",
     "text": [
      "[1] \"VLMC\"\n"
     ]
    },
    {
     "name": "stderr",
     "output_type": "stream",
     "text": [
      "Warning message in CreateChromatinAssay(counts = atac_matrix, fragments = sprintf(\"subclass_fragments/%s.sorted.bed.gz\", :\n",
      "“Overlapping ranges supplied. Ranges should be non-overlapping.”\n",
      "Computing hash\n",
      "\n",
      "Processing file /tscc/projects/ps-epigen/users/biy022/biccn/data/SNAREdata/subclass_fragments/VLMC.sorted.bed.gz\n",
      "\n",
      "\n",
      "\n",
      "\n"
     ]
    }
   ],
   "source": [
    "for (file in dir_ls(\"subclass_fragments/\", glob = \"*bed\")) {\n",
    "    subclass <- str_split_1(path_file(file), \"[.]\")[1]\n",
    "    print(subclass)\n",
    "    flush.console()\n",
    "    \n",
    "    if (dir_exists(sprintf(\"subclass_regional_fragments_peaks/%s\", subclass))) {\n",
    "        next\n",
    "    }\n",
    "    \n",
    "    barcode_file <- sprintf(\"cell_peak_matrix/%s-barcodes.tsv\", subclass)\n",
    "    rds_file <- sprintf(\"cell_peak_matrix/%s.rds\", subclass)\n",
    "    \n",
    "    atac_matrix <- readRDS(rds_file)\n",
    "    # atac_matrix <- as(atac_matrix, \"dgCMatrix\")\n",
    "    all_barcodes <- read.table(barcode_file, sep = \"\\t\", header = FALSE)$V1\n",
    "    subclass_meta <- meta_data[all_barcodes, ]\n",
    "    \n",
    "    chrom_assay <- CreateChromatinAssay(\n",
    "        counts = atac_matrix,\n",
    "        fragments = sprintf(\"subclass_fragments/%s.sorted.bed.gz\", subclass),\n",
    "        sep = c(\"-\", \"-\")\n",
    "    )\n",
    "    \n",
    "    seurat_object <- CreateSeuratObject(\n",
    "        counts = chrom_assay,\n",
    "        assay = \"ATAC\",\n",
    "        meta.data = subclass_meta\n",
    "    )\n",
    "    \n",
    "    dir_create(sprintf(\"subclass_regional_fragments_peaks/%s\", subclass))\n",
    "    SplitFragments(\n",
    "        seurat_object,\n",
    "        assay = \"ATAC\",\n",
    "        group.by = \"Region\",\n",
    "        outdir = sprintf(\"subclass_regional_fragments_peaks/%s\", subclass)\n",
    "    )\n",
    "}"
   ]
  },
  {
   "cell_type": "code",
   "execution_count": null,
   "id": "37ba281c-46ab-4440-a6e6-c8963ff756e0",
   "metadata": {},
   "outputs": [],
   "source": []
  }
 ],
 "metadata": {
  "kernelspec": {
   "display_name": "R",
   "language": "R",
   "name": "ir"
  },
  "language_info": {
   "codemirror_mode": "r",
   "file_extension": ".r",
   "mimetype": "text/x-r-source",
   "name": "R",
   "pygments_lexer": "r",
   "version": "4.3.1"
  }
 },
 "nbformat": 4,
 "nbformat_minor": 5
}
