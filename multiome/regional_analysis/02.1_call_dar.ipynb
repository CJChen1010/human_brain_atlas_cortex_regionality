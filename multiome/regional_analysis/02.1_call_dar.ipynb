{
 "cells": [
  {
   "cell_type": "markdown",
   "id": "83f85394-fd62-4aaf-b921-14861301e5c1",
   "metadata": {},
   "source": [
    "# DAR in each brain region for each subclass"
   ]
  },
  {
   "cell_type": "code",
   "execution_count": 1,
   "id": "e93fd673-9c33-4a09-9d05-8f061ce9c02b",
   "metadata": {
    "tags": []
   },
   "outputs": [],
   "source": [
    "suppressPackageStartupMessages({\n",
    "    library(Seurat)\n",
    "    library(repr)\n",
    "    library(patchwork)\n",
    "    library(ggplot2)\n",
    "    library(Signac)\n",
    "    library(tidyverse)\n",
    "    library(GenomicRanges)\n",
    "    library(edgeR)\n",
    "    library(SingleCellExperiment)\n",
    "    library(Matrix)\n",
    "    library(scran)\n",
    "    library(scater)\n",
    "    library(ggrepel)\n",
    "    library(fs)\n",
    "})\n",
    "options(future.globals.maxSize = Inf)\n",
    "options(Seurat.object.assay.version = \"v5\")\n",
    "options(ggrepel.max.overlaps = Inf)"
   ]
  },
  {
   "cell_type": "code",
   "execution_count": 2,
   "id": "07822db0-b22c-42d3-8d0b-30c651d5ddce",
   "metadata": {
    "tags": []
   },
   "outputs": [],
   "source": [
    "setwd(\"/tscc/projects/ps-epigen/users/biy022/biccn/data/SNAREdata\")"
   ]
  },
  {
   "cell_type": "code",
   "execution_count": 3,
   "id": "2fac19ae-b8d0-4e58-b0bf-ef984329e9cc",
   "metadata": {
    "tags": []
   },
   "outputs": [],
   "source": [
    "matrix_dir <- \"cell_peak_matrix/\"\n",
    "result_dir <- \"regional_dar_deg/dar/\"\n",
    "metafile <- \"cell_gene_matrix/20230313_RNA_metadata.xls\"\n",
    "meta_table <- read.table(metafile, header = TRUE, row.names = 1, sep = \"\\t\")"
   ]
  },
  {
   "cell_type": "code",
   "execution_count": 5,
   "id": "4f43d8e9-20f4-404b-bb27-8d7f9b675127",
   "metadata": {
    "tags": []
   },
   "outputs": [
    {
     "name": "stdout",
     "output_type": "stream",
     "text": [
      "[1] \"Astro\"\n",
      "[1] \"Chandelier\"\n",
      "[1] \"Endo\"\n",
      "[1] \"L2_3_IT\"\n",
      "[1] \"L4_IT\"\n",
      "[1] \"L5_6_NP\"\n",
      "[1] \"L5_ET\"\n",
      "[1] \"L5_IT\"\n",
      "[1] \"L6B\"\n",
      "[1] \"L6_CT\"\n",
      "[1] \"L6_IT\"\n",
      "[1] \"L6_IT_Car3\"\n",
      "[1] \"LAMP5\"\n",
      "[1] \"LAMP5_LHX6\"\n",
      "[1] \"Micro\"\n",
      "[1] \"OPC\"\n",
      "[1] \"Oligo\"\n",
      "[1] \"PAX6\"\n",
      "[1] \"PVALB\"\n",
      "[1] \"SNCG\"\n",
      "[1] \"SST\"\n",
      "[1] \"SST_CHODL\"\n",
      "[1] \"VIP\"\n"
     ]
    },
    {
     "name": "stderr",
     "output_type": "stream",
     "text": [
      "Removing 27 rows with all zero counts\n",
      "\n"
     ]
    },
    {
     "name": "stdout",
     "output_type": "stream",
     "text": [
      "[1] \"VLMC\"\n"
     ]
    },
    {
     "name": "stderr",
     "output_type": "stream",
     "text": [
      "Removing 36839 rows with all zero counts\n",
      "\n"
     ]
    }
   ],
   "source": [
    "for (file in dir_ls(matrix_dir, glob = \"*rds\")) {\n",
    "    subclass <- path_ext_remove(path_file(file))\n",
    "    print(subclass)\n",
    "    if (subclass == \"SST_CHODL\") {\n",
    "        next\n",
    "    }\n",
    "    \n",
    "    subclass_result_dir <- sprintf(\"%s/%s/\", result_dir, subclass)\n",
    "    if (!dir_exists(subclass_result_dir)) {\n",
    "        dir_create(subclass_result_dir)\n",
    "    }\n",
    "    else {\n",
    "        next\n",
    "    }\n",
    "    subclass_matrix_file <- sprintf(\"%s/%s.rds\", matrix_dir, subclass)\n",
    "    subclass_matrix <- readRDS(subclass_matrix_file)\n",
    "    subclass_meta <- meta_table[colnames(subclass_matrix), ]\n",
    "    \n",
    "    subclass_meta <- subclass_meta[match(colnames(subclass_matrix), rownames(subclass_meta)), ]\n",
    "    subclass_meta$region_donor <- paste(subclass_meta$Region, subclass_meta$PatientID, sep = \"_\")\n",
    "    transposed_matrix <- t(subclass_matrix)\n",
    "    summed_counts <- rowsum(transposed_matrix, group = subclass_meta$region_donor)\n",
    "    subclass_matrix_aggr <- t(summed_counts)\n",
    "    \n",
    "    group_info <- do.call(rbind, strsplit(colnames(subclass_matrix_aggr), \"_\"))\n",
    "    group_info <- data.frame(group_info)\n",
    "    colnames(group_info) <- c(\"region\", \"patient\")\n",
    "    rownames(group_info) <- colnames(subclass_matrix_aggr)\n",
    "    \n",
    "    group <- factor(group_info$region)\n",
    "    y <- DGEList(counts = subclass_matrix_aggr, group = group, remove.zeros = TRUE)\n",
    "    keep <- filterByExpr(y, min.count = 5, min.total.count = 15)\n",
    "    y <- y[keep, , keep.lib.sizes=FALSE]\n",
    "    y <- calcNormFactors(y)\n",
    "    design <- model.matrix(~0+group, data = y$samples)\n",
    "    colnames(design) <- levels(y$samples$group)\n",
    "    y <- estimateDisp(y, design = design, robust = TRUE)\n",
    "    fit <- glmQLFit(y, design = design)\n",
    "    \n",
    "    n_levels <- length(levels(y$samples$group))\n",
    "    contrast_base <- rep(-(1.0 / (n_levels - 1)), n_levels)\n",
    "    for (i in 1:n_levels) {\n",
    "        contrast <- contrast_base\n",
    "        contrast[i] <- 1\n",
    "        level <- levels(y$samples$group)[i]\n",
    "        qlf <- glmQLFTest(fit, contrast = contrast)\n",
    "        result <- topTags(qlf, n = Inf, sort.by = \"PValue\")$table\n",
    "        write.table(\n",
    "            result, sprintf(\"%s/%s_result.tsv\", subclass_result_dir, level), \n",
    "            col.names = TRUE, row.names = TRUE, sep=\"\\t\", quote = FALSE\n",
    "        )\n",
    "    }\n",
    "}"
   ]
  },
  {
   "cell_type": "code",
   "execution_count": null,
   "id": "c5c8cfd4-aaac-4443-97c9-207b1cdb5b18",
   "metadata": {},
   "outputs": [],
   "source": []
  }
 ],
 "metadata": {
  "kernelspec": {
   "display_name": "R",
   "language": "R",
   "name": "ir"
  },
  "language_info": {
   "codemirror_mode": "r",
   "file_extension": ".r",
   "mimetype": "text/x-r-source",
   "name": "R",
   "pygments_lexer": "r",
   "version": "4.3.1"
  }
 },
 "nbformat": 4,
 "nbformat_minor": 5
}
