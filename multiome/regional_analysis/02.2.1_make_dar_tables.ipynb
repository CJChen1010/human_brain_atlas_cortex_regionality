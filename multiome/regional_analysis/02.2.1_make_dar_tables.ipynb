{
 "cells": [
  {
   "cell_type": "markdown",
   "id": "b2be7463-947f-487b-bb6d-1e7c854c7cda",
   "metadata": {},
   "source": [
    "# Save regional DARs"
   ]
  },
  {
   "cell_type": "code",
   "execution_count": 1,
   "id": "7038ab2a-5946-440a-9999-617cdc18d57d",
   "metadata": {},
   "outputs": [],
   "source": [
    "import pandas as pd\n",
    "import os\n",
    "from pathlib import Path"
   ]
  },
  {
   "cell_type": "code",
   "execution_count": 2,
   "id": "53efd77e-11ee-4c22-8c14-0960fd994939",
   "metadata": {},
   "outputs": [],
   "source": [
    "os.chdir(\"/tscc/projects/ps-epigen/users/biy022/biccn/data/SNAREdata/\")\n",
    "deg_dir = Path(\"regional_dar_deg/dar\")\n",
    "output_dir = Path(\"../../analysis/final_files/Tables/regional_dars/\")"
   ]
  },
  {
   "cell_type": "code",
   "execution_count": 3,
   "id": "cfa168ef-1b2c-4dea-8443-c07d31a5dec0",
   "metadata": {},
   "outputs": [],
   "source": [
    "subclass_dirs = list(deg_dir.iterdir())\n",
    "for sdir in subclass_dirs:\n",
    "    subclass = sdir.stem\n",
    "    subclass_dfs = []\n",
    "    for rfile in sdir.glob(\"*_result.tsv\"):\n",
    "        region = rfile.stem.split(\"_\")[0]\n",
    "        r_df = pd.read_csv(rfile, header=0, sep=\"\\t\", index_col=0)\n",
    "        r_df.reset_index(inplace=True)\n",
    "        r_df.rename(columns={\"index\": \"peak\"}, inplace=True)\n",
    "        r_df[\"region\"] = region\n",
    "        r_df[\"subclass\"] = subclass\n",
    "        r_df = r_df[(r_df[\"logFC\"] > 0) & (r_df[\"FDR\"] < 0.05)]\n",
    "        subclass_dfs.append(r_df)\n",
    "    subclass_df = pd.concat(subclass_dfs, axis=0)\n",
    "    subclass_df.to_csv(output_dir / f\"{subclass}_dar.tsv\", header=True, sep=\"\\t\", index=False)"
   ]
  },
  {
   "cell_type": "code",
   "execution_count": null,
   "id": "f45d58fd-22c8-4b95-94b6-cf2b56eda37b",
   "metadata": {},
   "outputs": [],
   "source": []
  }
 ],
 "metadata": {
  "kernelspec": {
   "display_name": "Python 3 (ipykernel)",
   "language": "python",
   "name": "python3"
  },
  "language_info": {
   "codemirror_mode": {
    "name": "ipython",
    "version": 3
   },
   "file_extension": ".py",
   "mimetype": "text/x-python",
   "name": "python",
   "nbconvert_exporter": "python",
   "pygments_lexer": "ipython3",
   "version": "3.11.9"
  }
 },
 "nbformat": 4,
 "nbformat_minor": 5
}
