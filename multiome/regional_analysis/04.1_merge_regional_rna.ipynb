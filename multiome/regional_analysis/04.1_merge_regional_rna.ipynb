{
 "cells": [
  {
   "cell_type": "markdown",
   "id": "51c871c4-89a1-466c-b7b5-b5007392260d",
   "metadata": {},
   "source": [
    "# Merge rna count matrix in a regional manner"
   ]
  },
  {
   "cell_type": "code",
   "execution_count": 1,
   "id": "b1d3574e-863f-4d84-ba9b-0d97d53298f2",
   "metadata": {
    "tags": []
   },
   "outputs": [],
   "source": [
    "suppressPackageStartupMessages({\n",
    "    library(Seurat)\n",
    "    library(repr)\n",
    "    library(patchwork)\n",
    "    library(ggplot2)\n",
    "    library(Signac)\n",
    "    library(tidyverse)\n",
    "    library(GenomicRanges)\n",
    "    library(edgeR)\n",
    "    library(SingleCellExperiment)\n",
    "    library(Matrix)\n",
    "    library(scran)\n",
    "    library(scater)\n",
    "    library(ggrepel)\n",
    "    library(fs)\n",
    "})\n",
    "options(future.globals.maxSize = Inf)\n",
    "options(Seurat.object.assay.version = \"v5\")\n",
    "options(ggrepel.max.overlaps = Inf)"
   ]
  },
  {
   "cell_type": "code",
   "execution_count": 2,
   "id": "11e05503-3411-4b22-9a7e-1af04bb1f2d2",
   "metadata": {
    "tags": []
   },
   "outputs": [],
   "source": [
    "setwd(\"/tscc/projects/ps-epigen/users/biy022/biccn/data/SNAREdata/\")"
   ]
  },
  {
   "cell_type": "code",
   "execution_count": 3,
   "id": "a5328adf-c883-4bcf-9434-34916aacd9c3",
   "metadata": {
    "tags": []
   },
   "outputs": [],
   "source": [
    "subclasses <- c()\n",
    "for (file in dir_ls(\"cell_gene_matrix/\", glob = \"*rds\")) {\n",
    "    subclass <- str_split_1(path_file(file), pattern = \".rds\")[1]\n",
    "    subclasses <- c(subclasses, subclass)\n",
    "}\n",
    "subclass_matrices <- vector(mode = \"list\", length = length(subclasses))\n",
    "names(subclass_matrices) <- subclasses\n",
    "for (file in dir_ls(\"cell_gene_matrix/\", glob = \"*rds\")) {\n",
    "    subclass <- str_split_1(path_file(file), pattern = \".rds\")[1]\n",
    "    subclass_matrices[[subclass]] <- readRDS(file)\n",
    "}"
   ]
  },
  {
   "cell_type": "code",
   "execution_count": 4,
   "id": "17f738af-b974-4e38-9f41-fa6e06c2be85",
   "metadata": {
    "tags": []
   },
   "outputs": [],
   "source": [
    "column_merge_dgC_matrices <- function(matrix_list) {\n",
    "    all_rows <- unique(unlist(lapply(matrix_list, rownames)))\n",
    "    all_rows <- sort(all_rows)\n",
    "    \n",
    "    aligned_matrices <- lapply(matrix_list, function(mat) {\n",
    "        mat_extended <- Matrix(0, nrow = length(all_rows), ncol = ncol(mat), sparse = TRUE)\n",
    "        rownames(mat_extended) <- all_rows\n",
    "        colnames(mat_extended) <- colnames(mat)\n",
    "        mat_extended[rownames(mat), ] <- mat\n",
    "        return(mat_extended)\n",
    "    })\n",
    "    \n",
    "    do.call(cbind, aligned_matrices)\n",
    "}"
   ]
  },
  {
   "cell_type": "code",
   "execution_count": 5,
   "id": "01987441-90df-4593-b472-fa21e011d74e",
   "metadata": {
    "tags": []
   },
   "outputs": [],
   "source": [
    "meta_table <- read.table(\n",
    "    \"cell_gene_matrix/20230313_RNA_metadata.xls\", \n",
    "    sep = \"\\t\", header = TRUE, row.names = 1\n",
    ")"
   ]
  },
  {
   "cell_type": "code",
   "execution_count": 28,
   "id": "b06f95e2-a623-4d73-a6a5-ee052028d27f",
   "metadata": {
    "tags": []
   },
   "outputs": [
    {
     "name": "stdout",
     "output_type": "stream",
     "text": [
      "[1] \"A1C\"\n",
      "[1] \"A9\"\n",
      "[1] \"A24\"\n",
      "[1] \"AnG\"\n",
      "[1] \"FI\"\n",
      "[1] \"M1C\"\n",
      "[1] \"MTG\"\n",
      "[1] \"S1C\"\n",
      "[1] \"V1C\"\n"
     ]
    }
   ],
   "source": [
    "region_names <- unique(meta_table$Region)\n",
    "region_combined_matrices <- vector(mode = \"list\", length = length(region_names))\n",
    "names(region_combined_matrices) <- region_names\n",
    "\n",
    "for (region in region_names) {\n",
    "    print(region)\n",
    "    flush.console()\n",
    "    region_table <- meta_table[meta_table$Region == region, ]\n",
    "    region_matrices <- vector(mode = \"list\", length = length(subclass_matrices))\n",
    "    names(region_matrices) <- names(subclass_matrices)\n",
    "    for (subclass in names(subclass_matrices)) {\n",
    "        subclass_matrix <- subclass_matrices[[subclass]]\n",
    "        region_matrices[[subclass]] <- subclass_matrix[, colnames(subclass_matrix) %in% rownames(region_table)]\n",
    "    }\n",
    "    \n",
    "    all_rows <- rownames(region_matrices[[\"L2_3_IT\"]])\n",
    "    for (subclass in names(region_matrices)) {\n",
    "        region_matrices[[subclass]] <- region_matrices[[subclass]][all_rows, ]\n",
    "    }\n",
    "    region_combined_matrices[[region]] <- do.call(cbind, region_matrices)\n",
    "}"
   ]
  },
  {
   "cell_type": "code",
   "execution_count": 29,
   "id": "9e421008-b81e-4c83-a63e-b52f22ecc93d",
   "metadata": {
    "tags": []
   },
   "outputs": [],
   "source": [
    "for (region in names(region_combined_matrices)) {\n",
    "    saveRDS(\n",
    "        region_combined_matrices[[region]], \n",
    "        sprintf(\"regional_combined_datasets/rna_counts/%s.rds\", region)\n",
    "    )\n",
    "}"
   ]
  },
  {
   "cell_type": "code",
   "execution_count": null,
   "id": "cf8398ee-195a-4be9-b536-6bcdc3c97d2a",
   "metadata": {},
   "outputs": [],
   "source": []
  }
 ],
 "metadata": {
  "kernelspec": {
   "display_name": "R",
   "language": "R",
   "name": "ir"
  },
  "language_info": {
   "codemirror_mode": "r",
   "file_extension": ".r",
   "mimetype": "text/x-r-source",
   "name": "R",
   "pygments_lexer": "r",
   "version": "4.3.1"
  }
 },
 "nbformat": 4,
 "nbformat_minor": 5
}
