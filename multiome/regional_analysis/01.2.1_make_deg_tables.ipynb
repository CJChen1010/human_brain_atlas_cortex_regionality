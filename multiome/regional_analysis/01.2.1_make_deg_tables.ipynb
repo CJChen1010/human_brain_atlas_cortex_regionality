{
 "cells": [
  {
   "cell_type": "markdown",
   "id": "6e85fa4b-555c-40bc-978a-9f4e94ab84d6",
   "metadata": {},
   "source": [
    "# Save the regional degs"
   ]
  },
  {
   "cell_type": "code",
   "execution_count": 1,
   "id": "7e2844ac-3d6a-4f0a-9021-bcd0fbd363bc",
   "metadata": {},
   "outputs": [],
   "source": [
    "import pandas as pd\n",
    "import os\n",
    "from pathlib import Path"
   ]
  },
  {
   "cell_type": "code",
   "execution_count": 2,
   "id": "35e1a579-b63e-46a9-9020-fc30f13fe523",
   "metadata": {},
   "outputs": [],
   "source": [
    "os.chdir(\"/tscc/projects/ps-epigen/users/biy022/biccn/data/SNAREdata/\")\n",
    "deg_dir = Path(\"regional_dar_deg/deg\")\n",
    "output_dir = Path(\"../../analysis/final_files/Tables/regional_degs/\")"
   ]
  },
  {
   "cell_type": "code",
   "execution_count": 3,
   "id": "772e757d-f20e-4c93-8240-13f3e338eb88",
   "metadata": {},
   "outputs": [],
   "source": [
    "subclass_dirs = list(deg_dir.iterdir())\n",
    "for sdir in subclass_dirs:\n",
    "    subclass = sdir.stem\n",
    "    subclass_dfs = []\n",
    "    for rfile in sdir.glob(\"*_result.tsv\"):\n",
    "        region = rfile.stem.split(\"_\")[0]\n",
    "        r_df = pd.read_csv(rfile, header=0, sep=\"\\t\", index_col=0)\n",
    "        r_df.reset_index(inplace=True)\n",
    "        r_df.rename(columns={\"index\": \"gene\"}, inplace=True)\n",
    "        r_df[\"region\"] = region\n",
    "        r_df[\"subclass\"] = subclass\n",
    "        r_df = r_df[(r_df[\"logFC\"] > 0) & (r_df[\"FDR\"] < 0.001)]\n",
    "        subclass_dfs.append(r_df)\n",
    "    subclass_df = pd.concat(subclass_dfs, axis=0)\n",
    "    subclass_df.to_csv(output_dir / f\"{subclass}_deg.tsv\", header=True, sep=\"\\t\", index=False)"
   ]
  },
  {
   "cell_type": "code",
   "execution_count": null,
   "id": "40e632bc-d2a6-41fe-9499-d07a041d81e4",
   "metadata": {},
   "outputs": [],
   "source": []
  }
 ],
 "metadata": {
  "kernelspec": {
   "display_name": "Python 3 (ipykernel)",
   "language": "python",
   "name": "python3"
  },
  "language_info": {
   "codemirror_mode": {
    "name": "ipython",
    "version": 3
   },
   "file_extension": ".py",
   "mimetype": "text/x-python",
   "name": "python",
   "nbconvert_exporter": "python",
   "pygments_lexer": "ipython3",
   "version": "3.11.9"
  }
 },
 "nbformat": 4,
 "nbformat_minor": 5
}
