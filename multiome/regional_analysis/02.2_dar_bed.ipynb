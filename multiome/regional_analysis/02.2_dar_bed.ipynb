{
 "cells": [
  {
   "cell_type": "markdown",
   "id": "42c83f10-dfc5-44e7-888c-411ad55f7d22",
   "metadata": {},
   "source": [
    "# Convert DAR results to bed format"
   ]
  },
  {
   "cell_type": "code",
   "execution_count": 1,
   "id": "a4dc24db-2bcd-4d99-b262-dc5e0d9483d7",
   "metadata": {},
   "outputs": [],
   "source": [
    "import pandas as pd\n",
    "import os\n",
    "from pathlib import Path"
   ]
  },
  {
   "cell_type": "code",
   "execution_count": 2,
   "id": "8b580eff-24f3-4442-a181-02e7f696d0c3",
   "metadata": {},
   "outputs": [],
   "source": [
    "root_dir = Path(\"/tscc/projects/ps-epigen/users/biy022/biccn/data/SNAREdata/regional_dar_deg/\")\n",
    "os.chdir(root_dir)\n",
    "source_dir = Path(\"dar\")\n",
    "result_dir = Path(\"dar_homer\")"
   ]
  },
  {
   "cell_type": "code",
   "execution_count": 3,
   "id": "90a1934f-d164-4e87-8b70-b055dc65c111",
   "metadata": {},
   "outputs": [],
   "source": [
    "os.chdir(source_dir)"
   ]
  },
  {
   "cell_type": "code",
   "execution_count": 4,
   "id": "4f81ee9f-3984-48d9-ab04-c1e61b310933",
   "metadata": {},
   "outputs": [],
   "source": [
    "for subclass_dir in Path(\"./\").iterdir():\n",
    "    for region_file in subclass_dir.glob(\"*_result.tsv\"):\n",
    "        region_df = pd.read_csv(region_file, sep=\"\\t\", header=0, index_col=0)\n",
    "        region_df_sig = region_df[(region_df[\"logFC\"] > 0.0) & (region_df[\"FDR\"] < 0.05)].index.to_list()\n",
    "        \n",
    "        if len(region_df_sig) <= 10:\n",
    "            continue\n",
    "\n",
    "        region = region_file.stem.split(\"_\")[0]\n",
    "        with open(subclass_dir / \"{}.bed\".format(region), \"w\") as fout:\n",
    "            for i, peak in enumerate(region_df_sig):\n",
    "                chrom, start, end = peak.split(\"-\")\n",
    "                fout.write(\"{}\\t{}\\t{}\\t{}_{}\\t100\\t+\\n\".format(chrom, start, end, region, i))"
   ]
  },
  {
   "cell_type": "code",
   "execution_count": null,
   "id": "8ebb99ad-e489-4ee1-a3f0-e7d4dd7fca4d",
   "metadata": {},
   "outputs": [],
   "source": []
  }
 ],
 "metadata": {
  "kernelspec": {
   "display_name": "Python 3 (ipykernel)",
   "language": "python",
   "name": "python3"
  },
  "language_info": {
   "codemirror_mode": {
    "name": "ipython",
    "version": 3
   },
   "file_extension": ".py",
   "mimetype": "text/x-python",
   "name": "python",
   "nbconvert_exporter": "python",
   "pygments_lexer": "ipython3",
   "version": "3.11.9"
  }
 },
 "nbformat": 4,
 "nbformat_minor": 5
}
