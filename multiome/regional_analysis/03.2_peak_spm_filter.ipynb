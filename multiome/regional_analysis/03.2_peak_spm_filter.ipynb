{
 "cells": [
  {
   "cell_type": "markdown",
   "id": "d44bd88c-0819-42fe-a3e0-b0655c24cd45",
   "metadata": {
    "tags": []
   },
   "source": [
    "# Filter peak set by spm"
   ]
  },
  {
   "cell_type": "code",
   "execution_count": 1,
   "id": "eabf5a8d-624c-44fb-85d0-62a10dfac8f3",
   "metadata": {
    "tags": []
   },
   "outputs": [],
   "source": [
    "import pandas as pd\n",
    "import os\n",
    "from pathlib import Path"
   ]
  },
  {
   "cell_type": "code",
   "execution_count": 2,
   "id": "f6cf25ef-1728-4d8c-997c-5b89fa8d68ed",
   "metadata": {
    "tags": []
   },
   "outputs": [],
   "source": [
    "root_dir = Path(\"/tscc/projects/ps-epigen/users/biy022/biccn/data/SNAREdata/\")\n",
    "os.chdir(root_dir)\n",
    "result_dir = Path(\"subclass_regional_ldsc/\")"
   ]
  },
  {
   "cell_type": "markdown",
   "id": "cd6c8777-79ca-4747-8844-f5830f867b6a",
   "metadata": {},
   "source": [
    "### Filtering based on spm ranking"
   ]
  },
  {
   "cell_type": "code",
   "execution_count": 5,
   "id": "7172e2df-e043-46cc-964c-337ef7ccbe12",
   "metadata": {
    "tags": []
   },
   "outputs": [
    {
     "name": "stdout",
     "output_type": "stream",
     "text": [
      "subclass_regional_fragments_peaks/L2_3_IT\n",
      "subclass_regional_fragments_peaks/L6_CT\n",
      "subclass_regional_fragments_peaks/PVALB\n",
      "subclass_regional_fragments_peaks/L5_6_NP\n",
      "subclass_regional_fragments_peaks/L5_ET\n",
      "subclass_regional_fragments_peaks/LAMP5_LHX6\n",
      "subclass_regional_fragments_peaks/Endo\n",
      "subclass_regional_fragments_peaks/L4_IT\n",
      "subclass_regional_fragments_peaks/PAX6\n",
      "subclass_regional_fragments_peaks/LAMP5\n",
      "subclass_regional_fragments_peaks/Oligo\n",
      "subclass_regional_fragments_peaks/L5_IT\n",
      "subclass_regional_fragments_peaks/Astro\n",
      "subclass_regional_fragments_peaks/SNCG\n",
      "subclass_regional_fragments_peaks/VLMC\n",
      "subclass_regional_fragments_peaks/L6_IT_Car3\n",
      "subclass_regional_fragments_peaks/L6_IT\n",
      "subclass_regional_fragments_peaks/Micro_PVM\n",
      "subclass_regional_fragments_peaks/OPC\n",
      "subclass_regional_fragments_peaks/SST\n",
      "subclass_regional_fragments_peaks/SST_CHODL\n",
      "subclass_regional_fragments_peaks/Chandelier\n",
      "subclass_regional_fragments_peaks/VIP\n",
      "subclass_regional_fragments_peaks/L6B\n"
     ]
    }
   ],
   "source": [
    "for subclass_dir in Path(\"subclass_regional_fragments_peaks/\").iterdir():\n",
    "    print(subclass_dir)\n",
    "    subclass = subclass_dir.stem\n",
    "    \n",
    "    N = 5000\n",
    "    union_table = pd.read_csv(\n",
    "        subclass_dir / \"regional_raw_peaks/union_peaks.filteredNfixed.union.peakSet\",\n",
    "        sep=\"\\t\", header=0\n",
    "    )\n",
    "    union_table_filtered = union_table[union_table[\"spm\"] > 2.0]\n",
    "    union_table_filtered_selected = union_table_filtered.sort_values(\n",
    "        by=[\"label\", \"spm\"], ascending=[True, False]).groupby(\"label\").head(N)\n",
    "    \n",
    "    result_dir_subclass = result_dir / subclass / \"peaks\"\n",
    "    result_dir_subclass.mkdir(exist_ok=True, parents=True)\n",
    "    for label, subdf in union_table_filtered_selected.groupby(\"label\"):\n",
    "        subdf[[\"seqnames\", \"start\", \"end\", \"name\", \"score\", \"strand\"]].to_csv(\n",
    "            result_dir_subclass / \"{}.bed\".format(label),\n",
    "            header=False, sep=\"\\t\", index=False\n",
    "        )\n",
    "    union_table_filtered[[\"seqnames\", \"start\", \"end\", \"name\", \"score\", \"strand\"]].to_csv(\n",
    "        result_dir_subclass / \"union_set.bed\",\n",
    "        header=False, sep=\"\\t\", index=False\n",
    "    )"
   ]
  },
  {
   "cell_type": "markdown",
   "id": "c39658a4-bf1c-4b9b-80f0-84e67eb9610b",
   "metadata": {},
   "source": [
    "### Filtering based on spm cutoff (>2)"
   ]
  },
  {
   "cell_type": "code",
   "execution_count": 6,
   "id": "b491bfa7-9ef3-4c19-99dd-6f542d729942",
   "metadata": {
    "tags": []
   },
   "outputs": [
    {
     "name": "stdout",
     "output_type": "stream",
     "text": [
      "L2_3_IT\n",
      "L6_CT\n",
      "PVALB\n",
      "L5_6_NP\n",
      "L5_ET\n",
      "LAMP5_LHX6\n",
      "Endo\n",
      "L4_IT\n",
      "PAX6\n",
      "LAMP5\n",
      "Oligo\n",
      "L5_IT\n",
      "Astro\n",
      "SNCG\n",
      "VLMC\n",
      "L6_IT_Car3\n",
      "L6_IT\n",
      "Micro_PVM\n",
      "OPC\n",
      "SST\n",
      "SST_CHODL\n",
      "Chandelier\n",
      "VIP\n",
      "L6B\n"
     ]
    }
   ],
   "source": [
    "for subclass_dir in Path(\"subclass_regional_fragments_peaks/\").iterdir():\n",
    "    subclass = subclass_dir.stem\n",
    "    print(subclass)\n",
    "    \n",
    "    union_table = pd.read_csv(\n",
    "        subclass_dir / \"regional_raw_peaks/union_peaks.filteredNfixed.union.peakSet\",\n",
    "        sep=\"\\t\", header=0\n",
    "    )\n",
    "    union_table_filtered = union_table[union_table[\"spm\"] > 2.0]\n",
    "    union_table_filtered.to_csv(\n",
    "        subclass_dir / \"regional_raw_peaks/union_peaks_spm_filtered.bed\",\n",
    "        header=False, sep=\"\\t\", index=False\n",
    "    )"
   ]
  },
  {
   "cell_type": "markdown",
   "id": "9d797065-37cc-405e-b1e4-8afd0ca8f316",
   "metadata": {},
   "source": [
    "### Extract summit base for filtered peaks"
   ]
  },
  {
   "cell_type": "code",
   "execution_count": 3,
   "id": "348b09a2-24c1-4fe8-8c41-5dce5cec3d4f",
   "metadata": {
    "tags": []
   },
   "outputs": [],
   "source": [
    "os.chdir(\"subclass_regional_fragments_peaks\")"
   ]
  },
  {
   "cell_type": "code",
   "execution_count": 7,
   "id": "9221d934-6903-4d89-8b44-66f7851c1fc5",
   "metadata": {
    "tags": []
   },
   "outputs": [],
   "source": [
    "for subclass_dir in Path(\"./\").iterdir():\n",
    "    # print(subclass_dir)\n",
    "    if subclass_dir.stem == \"baseset\":\n",
    "        continue\n",
    "    union_table = pd.read_csv(\n",
    "        \"{}/regional_raw_peaks/union_peaks_spm_filtered.bed\".format(subclass_dir),\n",
    "        header=None, sep=\"\\t\", index_col=None\n",
    "    )\n",
    "    union_table = union_table[[0, 1, 2, 6, 10]]\n",
    "    union_table.columns = [\"seqname\", \"start\", \"end\", \"name\", \"score\"]\n",
    "    union_table[\"start\"] = union_table[\"start\"] + 249\n",
    "    union_table[\"end\"] = union_table[\"start\"] + 1\n",
    "    union_table.to_csv(\n",
    "        \"{}/regional_raw_peaks/union_peaks_spm_filtered_summits.bed\".format(subclass_dir),\n",
    "        header=False, sep=\"\\t\", index=False\n",
    "    )"
   ]
  },
  {
   "cell_type": "code",
   "execution_count": null,
   "id": "6d200647-521a-474c-a8aa-ca57eee2fa45",
   "metadata": {},
   "outputs": [],
   "source": []
  }
 ],
 "metadata": {
  "kernelspec": {
   "display_name": "Python 3 (ipykernel)",
   "language": "python",
   "name": "python3"
  },
  "language_info": {
   "codemirror_mode": {
    "name": "ipython",
    "version": 3
   },
   "file_extension": ".py",
   "mimetype": "text/x-python",
   "name": "python",
   "nbconvert_exporter": "python",
   "pygments_lexer": "ipython3",
   "version": "3.9.17"
  }
 },
 "nbformat": 4,
 "nbformat_minor": 5
}
