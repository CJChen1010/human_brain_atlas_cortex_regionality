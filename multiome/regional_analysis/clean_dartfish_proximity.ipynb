{
 "cells": [
  {
   "cell_type": "code",
   "execution_count": 2,
   "id": "97bbb070-50c0-4d45-acd2-3fd018798c78",
   "metadata": {},
   "outputs": [],
   "source": [
    "import pandas as pd\n",
    "import ast"
   ]
  },
  {
   "cell_type": "code",
   "execution_count": 3,
   "id": "23c13cf7-0641-4e42-a8fd-115a8fb9002f",
   "metadata": {},
   "outputs": [],
   "source": [
    "tmp_df = pd.read_csv(\"/tscc/projects/ps-epigen/users/biy022/biccn/data/SNAREdata/dartfish/proximity_analysis_Astro_200um.csv\", sep=\",\")"
   ]
  },
  {
   "cell_type": "code",
   "execution_count": 5,
   "id": "fc417434-68e6-4445-8df0-b8aa9f7d1ab7",
   "metadata": {},
   "outputs": [],
   "source": [
    "tmp_df[\"CellTypeCounts\"] = tmp_df[\"CellTypeCounts\"].apply(ast.literal_eval)"
   ]
  },
  {
   "cell_type": "code",
   "execution_count": 12,
   "id": "56b5b9b8-ecef-40e7-b347-5ab816835daf",
   "metadata": {},
   "outputs": [
    {
     "data": {
      "text/html": [
       "<div>\n",
       "<style scoped>\n",
       "    .dataframe tbody tr th:only-of-type {\n",
       "        vertical-align: middle;\n",
       "    }\n",
       "\n",
       "    .dataframe tbody tr th {\n",
       "        vertical-align: top;\n",
       "    }\n",
       "\n",
       "    .dataframe thead th {\n",
       "        text-align: right;\n",
       "    }\n",
       "</style>\n",
       "<table border=\"1\" class=\"dataframe\">\n",
       "  <thead>\n",
       "    <tr style=\"text-align: right;\">\n",
       "      <th></th>\n",
       "      <th>CellType</th>\n",
       "      <th>Sampled_x</th>\n",
       "      <th>Sampled_y</th>\n",
       "      <th>Region</th>\n",
       "      <th>CellTypeCounts</th>\n",
       "    </tr>\n",
       "  </thead>\n",
       "  <tbody>\n",
       "    <tr>\n",
       "      <th>0</th>\n",
       "      <td>Astro</td>\n",
       "      <td>3887.000000</td>\n",
       "      <td>28793.000000</td>\n",
       "      <td>V1C</td>\n",
       "      <td>{'Astro': 17, 'L6 CT': 11, 'L6 IT': 8, 'Micro/...</td>\n",
       "    </tr>\n",
       "    <tr>\n",
       "      <th>1</th>\n",
       "      <td>Astro</td>\n",
       "      <td>12736.000000</td>\n",
       "      <td>-7484.000000</td>\n",
       "      <td>S1C</td>\n",
       "      <td>{'Oligo': 50, 'SST': 6, 'L6 IT': 5, 'L6 IT Car...</td>\n",
       "    </tr>\n",
       "    <tr>\n",
       "      <th>2</th>\n",
       "      <td>Astro</td>\n",
       "      <td>5627.000000</td>\n",
       "      <td>-5643.000000</td>\n",
       "      <td>A1C</td>\n",
       "      <td>{'Oligo': 37, 'Astro': 9, 'Micro/PVM': 2, 'L6 ...</td>\n",
       "    </tr>\n",
       "    <tr>\n",
       "      <th>3</th>\n",
       "      <td>Astro</td>\n",
       "      <td>1048.000000</td>\n",
       "      <td>26643.000000</td>\n",
       "      <td>V1C</td>\n",
       "      <td>{'L6 CT': 16, 'L6 IT Car3': 14, 'L6 IT': 12, '...</td>\n",
       "    </tr>\n",
       "    <tr>\n",
       "      <th>4</th>\n",
       "      <td>Astro</td>\n",
       "      <td>15392.000000</td>\n",
       "      <td>-11780.000000</td>\n",
       "      <td>MTG</td>\n",
       "      <td>{'L2/3 IT': 16, 'Oligo': 5, 'OPC': 4, 'Micro/P...</td>\n",
       "    </tr>\n",
       "    <tr>\n",
       "      <th>...</th>\n",
       "      <td>...</td>\n",
       "      <td>...</td>\n",
       "      <td>...</td>\n",
       "      <td>...</td>\n",
       "      <td>...</td>\n",
       "    </tr>\n",
       "    <tr>\n",
       "      <th>95</th>\n",
       "      <td>Astro</td>\n",
       "      <td>522.000000</td>\n",
       "      <td>29504.000000</td>\n",
       "      <td>V1C</td>\n",
       "      <td>{'Astro': 18, 'L6 CT': 15, 'L6 IT': 13, 'L5 IT...</td>\n",
       "    </tr>\n",
       "    <tr>\n",
       "      <th>96</th>\n",
       "      <td>Astro</td>\n",
       "      <td>3780.544414</td>\n",
       "      <td>-24213.121642</td>\n",
       "      <td>ACC</td>\n",
       "      <td>{'Astro': 11, 'Micro/PVM': 11, 'L5 IT': 6, 'L4...</td>\n",
       "    </tr>\n",
       "    <tr>\n",
       "      <th>97</th>\n",
       "      <td>Astro</td>\n",
       "      <td>338.000000</td>\n",
       "      <td>28955.000000</td>\n",
       "      <td>V1C</td>\n",
       "      <td>{'L6 CT': 16, 'L6 IT': 13, 'Astro': 11, 'SST':...</td>\n",
       "    </tr>\n",
       "    <tr>\n",
       "      <th>98</th>\n",
       "      <td>Astro</td>\n",
       "      <td>6373.000000</td>\n",
       "      <td>-13510.000000</td>\n",
       "      <td>A1C</td>\n",
       "      <td>{'Oligo': 33, 'Astro': 9, 'L5 IT': 7, 'L6 IT C...</td>\n",
       "    </tr>\n",
       "    <tr>\n",
       "      <th>99</th>\n",
       "      <td>Astro</td>\n",
       "      <td>14535.000000</td>\n",
       "      <td>-2880.000000</td>\n",
       "      <td>S1C</td>\n",
       "      <td>{'Oligo': 79, 'Astro': 4, 'L6 CT': 2, 'L6 IT': 1}</td>\n",
       "    </tr>\n",
       "  </tbody>\n",
       "</table>\n",
       "<p>100 rows × 5 columns</p>\n",
       "</div>"
      ],
      "text/plain": [
       "   CellType     Sampled_x     Sampled_y Region  \\\n",
       "0     Astro   3887.000000  28793.000000    V1C   \n",
       "1     Astro  12736.000000  -7484.000000    S1C   \n",
       "2     Astro   5627.000000  -5643.000000    A1C   \n",
       "3     Astro   1048.000000  26643.000000    V1C   \n",
       "4     Astro  15392.000000 -11780.000000    MTG   \n",
       "..      ...           ...           ...    ...   \n",
       "95    Astro    522.000000  29504.000000    V1C   \n",
       "96    Astro   3780.544414 -24213.121642    ACC   \n",
       "97    Astro    338.000000  28955.000000    V1C   \n",
       "98    Astro   6373.000000 -13510.000000    A1C   \n",
       "99    Astro  14535.000000  -2880.000000    S1C   \n",
       "\n",
       "                                       CellTypeCounts  \n",
       "0   {'Astro': 17, 'L6 CT': 11, 'L6 IT': 8, 'Micro/...  \n",
       "1   {'Oligo': 50, 'SST': 6, 'L6 IT': 5, 'L6 IT Car...  \n",
       "2   {'Oligo': 37, 'Astro': 9, 'Micro/PVM': 2, 'L6 ...  \n",
       "3   {'L6 CT': 16, 'L6 IT Car3': 14, 'L6 IT': 12, '...  \n",
       "4   {'L2/3 IT': 16, 'Oligo': 5, 'OPC': 4, 'Micro/P...  \n",
       "..                                                ...  \n",
       "95  {'Astro': 18, 'L6 CT': 15, 'L6 IT': 13, 'L5 IT...  \n",
       "96  {'Astro': 11, 'Micro/PVM': 11, 'L5 IT': 6, 'L4...  \n",
       "97  {'L6 CT': 16, 'L6 IT': 13, 'Astro': 11, 'SST':...  \n",
       "98  {'Oligo': 33, 'Astro': 9, 'L5 IT': 7, 'L6 IT C...  \n",
       "99  {'Oligo': 79, 'Astro': 4, 'L6 CT': 2, 'L6 IT': 1}  \n",
       "\n",
       "[100 rows x 5 columns]"
      ]
     },
     "execution_count": 12,
     "metadata": {},
     "output_type": "execute_result"
    }
   ],
   "source": [
    "tmp_df"
   ]
  },
  {
   "cell_type": "code",
   "execution_count": 11,
   "id": "7d934077-8b2c-43aa-a1a5-20f0e4fd53e9",
   "metadata": {},
   "outputs": [],
   "source": [
    "from collections import Counter\n",
    "\n",
    "# Function to merge and sum dictionaries\n",
    "def sum_dicts(dicts):\n",
    "    result = Counter()  # Counter is great for summing dictionaries\n",
    "    for d in dicts:\n",
    "        result.update(d)  # Adds the counts for the same keys\n",
    "    return dict(result)  # Convert back to a regular dictionary"
   ]
  },
  {
   "cell_type": "code",
   "execution_count": 56,
   "id": "cd2402b0-c422-41b0-9163-c2fd585a075c",
   "metadata": {},
   "outputs": [],
   "source": [
    "result = tmp_df.groupby(\"Region\")[\"CellTypeCounts\"].apply(sum_dicts).reset_index()"
   ]
  },
  {
   "cell_type": "code",
   "execution_count": 16,
   "id": "d42408b5-c47e-4c46-ad6d-ac21b94d5338",
   "metadata": {},
   "outputs": [],
   "source": [
    "result_df = result.fillna(0)"
   ]
  },
  {
   "cell_type": "code",
   "execution_count": 17,
   "id": "648ceadc-48af-4592-91df-32c5709e9ddc",
   "metadata": {},
   "outputs": [],
   "source": [
    "import seaborn as sns"
   ]
  },
  {
   "cell_type": "code",
   "execution_count": 31,
   "id": "e177487a-dbf3-4259-8a9b-1e2e1ebbbfef",
   "metadata": {},
   "outputs": [],
   "source": [
    "result_df[\"percent\"] = result_df.groupby(\"Region\")[\"CellTypeCounts\"].transform(lambda x: x / x.sum())"
   ]
  },
  {
   "cell_type": "code",
   "execution_count": 36,
   "id": "c5f5b369-959f-43fc-b7f9-76580dab2369",
   "metadata": {},
   "outputs": [],
   "source": [
    "subclass_order = [\n",
    "    \"L2/3 IT\", \"L4 IT\", \"L5 IT\", \"L6 IT\", \"L6 IT Car3\", \"L6 CT\", \"L5 ET\", \"L5/6 NP\", \"L6B\",\n",
    "    \"PVALB\", \"LAMP5\", \"LAMP5 LHX6\", \"PAX6\", \"SNCG\", \"VIP\", \"SST\", \"SST CHODL\", \"Chandelier\",\n",
    "    \"Oligo\", \"Astro\", \"Micro/PVM\", \"OPC\", \"Endo\", \"VLMC\"\n",
    "]"
   ]
  },
  {
   "cell_type": "code",
   "execution_count": 37,
   "id": "76a39cdd-be2b-48ff-8138-64eca75d620e",
   "metadata": {},
   "outputs": [],
   "source": [
    "result_df[\"level_1\"] = pd.Categorical(result_df[\"level_1\"], categories=subclass_order)"
   ]
  },
  {
   "cell_type": "code",
   "execution_count": 38,
   "id": "bd7eaf76-ac60-415c-9d1f-04cced58d11f",
   "metadata": {},
   "outputs": [
    {
     "data": {
      "text/html": [
       "<div>\n",
       "<style scoped>\n",
       "    .dataframe tbody tr th:only-of-type {\n",
       "        vertical-align: middle;\n",
       "    }\n",
       "\n",
       "    .dataframe tbody tr th {\n",
       "        vertical-align: top;\n",
       "    }\n",
       "\n",
       "    .dataframe thead th {\n",
       "        text-align: right;\n",
       "    }\n",
       "</style>\n",
       "<table border=\"1\" class=\"dataframe\">\n",
       "  <thead>\n",
       "    <tr style=\"text-align: right;\">\n",
       "      <th></th>\n",
       "      <th>Region</th>\n",
       "      <th>level_1</th>\n",
       "      <th>CellTypeCounts</th>\n",
       "      <th>percent</th>\n",
       "    </tr>\n",
       "  </thead>\n",
       "  <tbody>\n",
       "    <tr>\n",
       "      <th>0</th>\n",
       "      <td>A1C</td>\n",
       "      <td>Oligo</td>\n",
       "      <td>330.0</td>\n",
       "      <td>0.453920</td>\n",
       "    </tr>\n",
       "    <tr>\n",
       "      <th>1</th>\n",
       "      <td>A1C</td>\n",
       "      <td>Astro</td>\n",
       "      <td>106.0</td>\n",
       "      <td>0.145805</td>\n",
       "    </tr>\n",
       "    <tr>\n",
       "      <th>2</th>\n",
       "      <td>A1C</td>\n",
       "      <td>Micro/PVM</td>\n",
       "      <td>41.0</td>\n",
       "      <td>0.056396</td>\n",
       "    </tr>\n",
       "    <tr>\n",
       "      <th>3</th>\n",
       "      <td>A1C</td>\n",
       "      <td>L6 CT</td>\n",
       "      <td>22.0</td>\n",
       "      <td>0.030261</td>\n",
       "    </tr>\n",
       "    <tr>\n",
       "      <th>4</th>\n",
       "      <td>A1C</td>\n",
       "      <td>L2/3 IT</td>\n",
       "      <td>58.0</td>\n",
       "      <td>0.079780</td>\n",
       "    </tr>\n",
       "    <tr>\n",
       "      <th>...</th>\n",
       "      <td>...</td>\n",
       "      <td>...</td>\n",
       "      <td>...</td>\n",
       "      <td>...</td>\n",
       "    </tr>\n",
       "    <tr>\n",
       "      <th>211</th>\n",
       "      <td>V1C</td>\n",
       "      <td>LAMP5 LHX6</td>\n",
       "      <td>26.0</td>\n",
       "      <td>0.010454</td>\n",
       "    </tr>\n",
       "    <tr>\n",
       "      <th>212</th>\n",
       "      <td>V1C</td>\n",
       "      <td>L4 IT</td>\n",
       "      <td>188.0</td>\n",
       "      <td>0.075593</td>\n",
       "    </tr>\n",
       "    <tr>\n",
       "      <th>213</th>\n",
       "      <td>V1C</td>\n",
       "      <td>LAMP5</td>\n",
       "      <td>29.0</td>\n",
       "      <td>0.011661</td>\n",
       "    </tr>\n",
       "    <tr>\n",
       "      <th>214</th>\n",
       "      <td>V1C</td>\n",
       "      <td>SST CHODL</td>\n",
       "      <td>0.0</td>\n",
       "      <td>0.000000</td>\n",
       "    </tr>\n",
       "    <tr>\n",
       "      <th>215</th>\n",
       "      <td>V1C</td>\n",
       "      <td>L5 ET</td>\n",
       "      <td>8.0</td>\n",
       "      <td>0.003217</td>\n",
       "    </tr>\n",
       "  </tbody>\n",
       "</table>\n",
       "<p>216 rows × 4 columns</p>\n",
       "</div>"
      ],
      "text/plain": [
       "    Region     level_1  CellTypeCounts   percent\n",
       "0      A1C       Oligo           330.0  0.453920\n",
       "1      A1C       Astro           106.0  0.145805\n",
       "2      A1C   Micro/PVM            41.0  0.056396\n",
       "3      A1C       L6 CT            22.0  0.030261\n",
       "4      A1C     L2/3 IT            58.0  0.079780\n",
       "..     ...         ...             ...       ...\n",
       "211    V1C  LAMP5 LHX6            26.0  0.010454\n",
       "212    V1C       L4 IT           188.0  0.075593\n",
       "213    V1C       LAMP5            29.0  0.011661\n",
       "214    V1C   SST CHODL             0.0  0.000000\n",
       "215    V1C       L5 ET             8.0  0.003217\n",
       "\n",
       "[216 rows x 4 columns]"
      ]
     },
     "execution_count": 38,
     "metadata": {},
     "output_type": "execute_result"
    }
   ],
   "source": [
    "result_df"
   ]
  },
  {
   "cell_type": "code",
   "execution_count": 39,
   "id": "f70eba0e-6bd5-4cc1-87f0-094d035422f0",
   "metadata": {},
   "outputs": [
    {
     "data": {
      "text/plain": [
       "<AxesSubplot: xlabel='Region', ylabel='Count'>"
      ]
     },
     "execution_count": 39,
     "metadata": {},
     "output_type": "execute_result"
    },
    {
     "data": {
      "image/png": "[encoded data removed]",
      "text/plain": [
       "<Figure size 640x480 with 1 Axes>"
      ]
     },
     "metadata": {},
     "output_type": "display_data"
    }
   ],
   "source": [
    "sns.histplot(result_df, x=\"Region\", hue=\"level_1\", weights=\"percent\", multiple=\"stack\",)"
   ]
  },
  {
   "cell_type": "code",
   "execution_count": 51,
   "id": "3b2a69b4-72aa-4a2a-82f0-35c1eda84809",
   "metadata": {},
   "outputs": [],
   "source": [
    "count = 0\n",
    "for obj_tmp in tmp_df[tmp_df[\"Region\"] == \"V1C\"][\"CellTypeCounts\"]:\n",
    "    if \"SST CHODL\" in obj_tmp:\n",
    "        count += obj_tmp[\"SST CHODL\"]"
   ]
  },
  {
   "cell_type": "code",
   "execution_count": 52,
   "id": "f02df4b9-b72a-46b8-83ee-c6b198255520",
   "metadata": {},
   "outputs": [
    {
     "data": {
      "text/plain": [
       "0"
      ]
     },
     "execution_count": 52,
     "metadata": {},
     "output_type": "execute_result"
    }
   ],
   "source": [
    "count"
   ]
  },
  {
   "cell_type": "code",
   "execution_count": 58,
   "id": "d557b199-dced-44fd-a2c1-adc637f6f843",
   "metadata": {},
   "outputs": [],
   "source": [
    "result_df.columns = [\"region\", \"subclass\", \"counts\", \"percent\"]"
   ]
  },
  {
   "cell_type": "code",
   "execution_count": 60,
   "id": "b6f8e34a-5b78-4801-b444-b3526764a23b",
   "metadata": {},
   "outputs": [],
   "source": [
    "result_df.to_csv(\"/tscc/projects/ps-epigen/users/biy022/biccn/data/SNAREdata/dartfish/proximity_analysis_Astro_200um_cleaned.csv\", index=False)"
   ]
  },
  {
   "cell_type": "code",
   "execution_count": null,
   "id": "653421e0-6fd9-49a4-a48f-eeb7b54861e4",
   "metadata": {},
   "outputs": [],
   "source": []
  }
 ],
 "metadata": {
  "kernelspec": {
   "display_name": "Python 3 (ipykernel)",
   "language": "python",
   "name": "python3"
  },
  "language_info": {
   "codemirror_mode": {
    "name": "ipython",
    "version": 3
   },
   "file_extension": ".py",
   "mimetype": "text/x-python",
   "name": "python",
   "nbconvert_exporter": "python",
   "pygments_lexer": "ipython3",
   "version": "3.11.9"
  }
 },
 "nbformat": 4,
 "nbformat_minor": 5
}
