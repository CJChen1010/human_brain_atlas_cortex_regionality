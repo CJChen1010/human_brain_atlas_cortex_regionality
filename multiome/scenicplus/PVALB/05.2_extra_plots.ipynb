{
 "cells": [
  {
   "cell_type": "markdown",
   "id": "4a69734b-f423-4105-ba13-2bcdbdee3f01",
   "metadata": {},
   "source": [
    "# Some summary plots"
   ]
  },
  {
   "cell_type": "code",
   "execution_count": 1,
   "id": "eaca1094-9393-485f-965b-ab5e86d48789",
   "metadata": {},
   "outputs": [],
   "source": [
    "import pandas as pd\n",
    "import numpy as np\n",
    "import math\n",
    "from matplotlib_venn import venn2, venn2_circles\n",
    "from matplotlib import rcParams\n",
    "import matplotlib.pyplot as plt\n",
    "import seaborn as sns\n",
    "import scanpy as sc\n",
    "import decoupler as dc"
   ]
  },
  {
   "cell_type": "code",
   "execution_count": 2,
   "id": "7cee8f83-8445-4d00-8170-e69209574fc2",
   "metadata": {},
   "outputs": [],
   "source": [
    "from pathlib import Path\n",
    "import os"
   ]
  },
  {
   "cell_type": "code",
   "execution_count": 3,
   "id": "fd609958-292e-4098-9fa8-bc96edc786b6",
   "metadata": {},
   "outputs": [],
   "source": [
    "root_dir = \"/tscc/projects/ps-epigen/users/biy022/biccn/data/SNAREdata/scenicplus/PVALB/\"\n",
    "os.chdir(root_dir)\n",
    "figure_dir = Path(\"/tscc/projects/ps-epigen/users/biy022/biccn/analysis/final_figures/new_summary_20250324/\")"
   ]
  },
  {
   "cell_type": "code",
   "execution_count": 4,
   "id": "fa7b8060-d894-437c-8bc2-9acc3973f92a",
   "metadata": {},
   "outputs": [],
   "source": [
    "direct_table = pd.read_csv(\"scplus_outputs/eRegulon_direct.tsv\", sep=\"\\t\", header=0)\n",
    "extend_table = pd.read_csv(\"scplus_outputs/eRegulons_extended.tsv\", sep=\"\\t\", header=0)\n",
    "regulons_table = pd.concat([direct_table, extend_table], axis=0)\n",
    "regulons_table.reset_index(drop=True, inplace=True)\n",
    "regulons_table = regulons_table[regulons_table[\"eRegulon_name\"].str.endswith(\"+/+\")].copy()"
   ]
  },
  {
   "cell_type": "code",
   "execution_count": 5,
   "id": "049bf7ee-aac4-48d7-991a-3b3762185265",
   "metadata": {},
   "outputs": [],
   "source": [
    "RC_positive_peak_table = pd.read_csv(\n",
    "    \"../other_celltypes/corr_regions_5e-1_5e-2_expr_filtered/PVALB_positive.tsv\",\n",
    "    sep=\"\\t\", header=None\n",
    ")\n",
    "RC_positive_peak_table.columns = [\"Region\"]\n",
    "RC_negative_peak_table = pd.read_csv(\n",
    "    \"../other_celltypes/corr_regions_5e-1_5e-2_expr_filtered/PVALB_negative.tsv\",\n",
    "    sep=\"\\t\", header=None\n",
    ")\n",
    "RC_negative_peak_table.columns = [\"Region\"]\n",
    "RC_positive_peak_table[\"Region\"] = RC_positive_peak_table.apply(\n",
    "    lambda x: \":\".join(x[\"Region\"].split(\"-\", 1)), axis=1)\n",
    "RC_negative_peak_table[\"Region\"] = RC_negative_peak_table.apply(\n",
    "    lambda x: \":\".join(x[\"Region\"].split(\"-\", 1)), axis=1)"
   ]
  },
  {
   "cell_type": "code",
   "execution_count": 6,
   "id": "6ffb240a-ea5d-46fe-b3d4-3468e385af13",
   "metadata": {},
   "outputs": [],
   "source": [
    "RC_corr_table = pd.read_csv(\n",
    "    \"../other_celltypes/corr_genes_7e-1_1e-2_expr_filtered/PVALB_RC_table.tsv\",\n",
    "    header=0, sep=\"\\t\"\n",
    ")"
   ]
  },
  {
   "cell_type": "code",
   "execution_count": 7,
   "id": "457da995-dd21-4b4a-b522-d1118ce1ba5c",
   "metadata": {},
   "outputs": [],
   "source": [
    "ST_positive_peak_table = pd.read_csv(\n",
    "    \"../other_celltypes/corr_regions_ST_5e-1_5e-2_expr_filtered/PVALB_positive.tsv\",\n",
    "    sep=\"\\t\", header=None\n",
    ")\n",
    "ST_positive_peak_table.columns = [\"Region\"]\n",
    "ST_negative_peak_table = pd.read_csv(\n",
    "    \"../other_celltypes/corr_regions_ST_5e-1_5e-2_expr_filtered/PVALB_negative.tsv\",\n",
    "    sep=\"\\t\", header=None\n",
    ")\n",
    "ST_negative_peak_table.columns = [\"Region\"]\n",
    "ST_positive_peak_table[\"Region\"] = ST_positive_peak_table.apply(\n",
    "    lambda x: \":\".join(x[\"Region\"].split(\"-\", 1)), axis=1)\n",
    "ST_negative_peak_table[\"Region\"] = ST_negative_peak_table.apply(\n",
    "    lambda x: \":\".join(x[\"Region\"].split(\"-\", 1)), axis=1)"
   ]
  },
  {
   "cell_type": "code",
   "execution_count": 8,
   "id": "c2abf8d3-5cd8-4e5c-bbc0-a1fbbdbfd353",
   "metadata": {},
   "outputs": [],
   "source": [
    "ST_corr_table = pd.read_csv(\n",
    "    \"../other_celltypes/corr_genes_ST_7e-1_1e-2_expr_filtered/PVALB_RC_table.tsv\",\n",
    "    header=0, sep=\"\\t\"\n",
    ")"
   ]
  },
  {
   "cell_type": "code",
   "execution_count": 9,
   "id": "45ba1fc9-3560-42b3-b787-75ad2bca731c",
   "metadata": {},
   "outputs": [],
   "source": [
    "RC_positive_edges = pd.merge(regulons_table, RC_positive_peak_table, on=\"Region\", how=\"inner\")\n",
    "RC_negative_edges = pd.merge(regulons_table, RC_negative_peak_table, on=\"Region\", how=\"inner\")"
   ]
  },
  {
   "cell_type": "code",
   "execution_count": 10,
   "id": "d75c1f2f-6315-4a78-9f5c-da296c2a1c8c",
   "metadata": {},
   "outputs": [],
   "source": [
    "ST_positive_edges = pd.merge(regulons_table, ST_positive_peak_table, on=\"Region\", how=\"inner\")\n",
    "ST_negative_edges = pd.merge(regulons_table, ST_negative_peak_table, on=\"Region\", how=\"inner\")"
   ]
  },
  {
   "cell_type": "markdown",
   "id": "d709ece9-3a52-45f4-9ef2-2189d24ac5bf",
   "metadata": {},
   "source": [
    "# Plot the enhancers and target genes"
   ]
  },
  {
   "cell_type": "code",
   "execution_count": 11,
   "id": "618d3b1d-8d3b-4784-a541-aa583efe3cd1",
   "metadata": {},
   "outputs": [
    {
     "name": "stderr",
     "output_type": "stream",
     "text": [
      "/tscc/nfs/home/biy022/miniconda3/envs/scenicplus/lib/python3.11/site-packages/scanpy/preprocessing/_normalization.py:155: UserWarning: Revieved a view of an AnnData. Making a copy.\n",
      "  view_to_actual(adata)\n"
     ]
    }
   ],
   "source": [
    "atac_object = sc.read_h5ad(\"PVALB_atac_matrix.h5ad\")\n",
    "atac_region_counts = dc.get_pseudobulk(\n",
    "    adata=atac_object,\n",
    "    sample_col=\"Region\",\n",
    "    groups_col=None,\n",
    "    min_cells=0,\n",
    "    min_counts=0,\n",
    "    min_prop=0.0,\n",
    "    min_smpls=0,\n",
    "    remove_empty=True,\n",
    "    mode=\"sum\"\n",
    ")\n",
    "sc.pp.normalize_total(atac_region_counts, target_sum=1e6)\n",
    "sc.pp.log1p(atac_region_counts, base=2)"
   ]
  },
  {
   "cell_type": "raw",
   "id": "7377c70c-3165-4476-887f-30c3912ece23",
   "metadata": {},
   "source": [
    "## RC"
   ]
  },
  {
   "cell_type": "raw",
   "id": "3f012f83-5161-42f7-b271-76397689ea73",
   "metadata": {},
   "source": [
    "region_align = [\"A24\", \"A9\", \"FI\", \"M1C\", \"S1C\", \"MTG\", \"A1C\", \"AnG\", \"V1C\"]"
   ]
  },
  {
   "cell_type": "raw",
   "id": "40e227bc-84ea-4c21-83b9-cac2b44d2494",
   "metadata": {},
   "source": [
    "RC_pe = RC_positive_edges[\"Region\"].to_list()\n",
    "RC_pe = [\"-\".join(xx.split(\":\")) for xx in RC_pe]\n",
    "RC_ne = RC_negative_edges[\"Region\"].to_list()\n",
    "RC_ne = [\"-\".join(xx.split(\":\")) for xx in RC_ne]\n",
    "RC_enhancers = RC_pe + RC_ne\n",
    "plot_matrix = atac_region_counts[region_align, RC_enhancers].X.T.copy()\n",
    "row_means = np.mean(plot_matrix, axis=1, keepdims=True)\n",
    "row_stds = np.std(plot_matrix, axis=1, keepdims=True)\n",
    "plot_matrix_z = (plot_matrix - row_means) / row_stds"
   ]
  },
  {
   "cell_type": "raw",
   "id": "7f243987-fafd-4934-ba15-6c773104ad78",
   "metadata": {},
   "source": [
    "fig, ax = plt.subplots(1, 1)\n",
    "fig.set_figwidth(8)\n",
    "fig.set_figheight(6)\n",
    "sns.heatmap(\n",
    "    plot_matrix_z,\n",
    "    xticklabels=region_align,\n",
    "    yticklabels=[],\n",
    "    vmin=-2,\n",
    "    vmax=2,\n",
    "    ax=ax\n",
    ")\n",
    "fig.savefig(figure_dir / \"PVALB-RC-atac.pdf\", dpi=300, format=\"pdf\")"
   ]
  },
  {
   "cell_type": "raw",
   "id": "370d7810-5e9c-4925-ba6f-527d2f70ca3b",
   "metadata": {},
   "source": [
    "RC_corr_table[\"group1\"] = \"null\"\n",
    "RC_corr_table_null = RC_corr_table.copy()\n",
    "RC_corr_table.loc[RC_corr_table[\"gene\"].isin(set(RC_positive_edges[\"Gene\"])), \"group1\"] = \"positive_enhancer\"\n",
    "RC_corr_table_pos = RC_corr_table[RC_corr_table[\"group1\"].isin([\"positive_enhancer\"])].copy()\n",
    "RC_corr_table.loc[RC_corr_table[\"gene\"].isin(set(RC_negative_edges[\"Gene\"])), \"group1\"] = \"negative_enhancer\"\n",
    "RC_corr_table_neg = RC_corr_table[RC_corr_table[\"group1\"].isin([\"negative_enhancer\"])].copy()\n",
    "plot_table = pd.concat([RC_corr_table_null, RC_corr_table_pos, RC_corr_table_neg])\n",
    "del RC_corr_table[\"group1\"]"
   ]
  },
  {
   "cell_type": "raw",
   "id": "81008870-0ebc-40a4-b72b-dd0fa8d25236",
   "metadata": {},
   "source": [
    "from scipy.stats import mannwhitneyu\n",
    "group_null = plot_table[plot_table[\"group1\"] == \"null\"][\"corr\"]\n",
    "group_pos = plot_table[plot_table[\"group1\"] == \"positive_enhancer\"][\"corr\"]\n",
    "group_neg = plot_table[plot_table[\"group1\"] == \"negative_enhancer\"][\"corr\"]\n",
    "\n",
    "stat_pos, p_pos = mannwhitneyu(group_pos, group_null)\n",
    "print(f\"Rank-sum test result for positive enhancers: stats: {stat_pos}, p value: {p_pos}\")\n",
    "stat_neg, p_neg = mannwhitneyu(group_null, group_neg)\n",
    "print(f\"Rank-sum test result for negative enhancers: stats: {stat_neg}, p value: {p_neg}\")"
   ]
  },
  {
   "cell_type": "raw",
   "id": "787c5410-70d0-4944-bd7e-1bcb7673e946",
   "metadata": {},
   "source": [
    "sns.set_context(\"notebook\", font_scale=1.5)\n",
    "print(plot_table[\"group1\"].value_counts())\n",
    "fig, ax = plt.subplots(1, 1)\n",
    "fig.set_figwidth(8)\n",
    "fig.set_figheight(6)\n",
    "sns.violinplot(\n",
    "    plot_table, x=\"group1\", y=\"corr\", hue=\"group1\", \n",
    "    order=[\"negative_enhancer\", \"null\", \"positive_enhancer\"], ax=ax\n",
    ")\n",
    "null_median = np.median(group_null)\n",
    "ax.axhline(null_median, color=\"black\", linestyle=\"dotted\", linewidth=2)\n",
    "ax.set_ylim(-1.3, 1.3)\n",
    "def add_bracket(x1, x2, y, pvalue, h, ax):\n",
    "    ax.plot([x1, x1, x2, x2], [y, y+h, y+h, y], lw=1.5, color=\"black\")\n",
    "    ax.text((x1+x2)/2, y+2*h, f\"p={pvalue:.2e}\", ha=\"center\", va=\"bottom\")\n",
    "bracket_base = np.max(plot_table[\"corr\"])\n",
    "add_bracket(0, 1, bracket_base+0.1, p_neg, 0.05, ax)\n",
    "add_bracket(1, 2, bracket_base+0.2, p_pos, 0.05, ax)\n",
    "fig.savefig(figure_dir / \"PVALB-RC-target-genes.pdf\", dpi=300, format=\"pdf\")"
   ]
  },
  {
   "cell_type": "markdown",
   "id": "ca697d5a-9386-4a1b-97f9-129bd25dfbc0",
   "metadata": {},
   "source": [
    "## ST"
   ]
  },
  {
   "cell_type": "code",
   "execution_count": 12,
   "id": "eb1d9a0a-1a21-4d16-b0ac-3d0a0b3b7797",
   "metadata": {},
   "outputs": [],
   "source": [
    "region_align = [\"A24\", \"A9\", \"FI\", \"MTG\", \"AnG\", \"M1C\", \"S1C\", \"A1C\", \"V1C\"]"
   ]
  },
  {
   "cell_type": "code",
   "execution_count": 13,
   "id": "eabe9897-651b-4847-a40b-edf16b2d1c14",
   "metadata": {},
   "outputs": [],
   "source": [
    "ST_pe = ST_positive_edges[\"Region\"].to_list()\n",
    "ST_pe = [\"-\".join(xx.split(\":\")) for xx in ST_pe]\n",
    "ST_ne = ST_negative_edges[\"Region\"].to_list()\n",
    "ST_ne = [\"-\".join(xx.split(\":\")) for xx in ST_ne]\n",
    "ST_enhancers = ST_pe + ST_ne\n",
    "plot_matrix = atac_region_counts[region_align, ST_enhancers].X.T.copy()\n",
    "row_means = np.mean(plot_matrix, axis=1, keepdims=True)\n",
    "row_stds = np.std(plot_matrix, axis=1, keepdims=True)\n",
    "plot_matrix_z = (plot_matrix - row_means) / row_stds"
   ]
  },
  {
   "cell_type": "code",
   "execution_count": 14,
   "id": "9f45ebe3-b9a0-4c8f-aea2-8bf24471908d",
   "metadata": {},
   "outputs": [
    {
     "data": {
      "image/png": "[encoded data removed]",
      "text/plain": [
       "<Figure size 800x600 with 2 Axes>"
      ]
     },
     "metadata": {},
     "output_type": "display_data"
    }
   ],
   "source": [
    "fig, ax = plt.subplots(1, 1)\n",
    "fig.set_figwidth(8)\n",
    "fig.set_figheight(6)\n",
    "sns.heatmap(\n",
    "    plot_matrix_z,\n",
    "    xticklabels=region_align,\n",
    "    yticklabels=[],\n",
    "    vmin=-2,\n",
    "    vmax=2,\n",
    "    ax=ax\n",
    ")\n",
    "fig.savefig(figure_dir / \"PVALB-ST-atac.pdf\", dpi=300, format=\"pdf\")"
   ]
  },
  {
   "cell_type": "code",
   "execution_count": 15,
   "id": "2739116d-fc90-4ae9-95c5-f02f9ff1f823",
   "metadata": {},
   "outputs": [],
   "source": [
    "ST_corr_table[\"group1\"] = \"null\"\n",
    "ST_corr_table_null = ST_corr_table.copy()\n",
    "ST_corr_table.loc[ST_corr_table[\"gene\"].isin(set(ST_positive_edges[\"Gene\"])), \"group1\"] = \"positive_enhancer\"\n",
    "ST_corr_table_pos = ST_corr_table[ST_corr_table[\"group1\"].isin([\"positive_enhancer\"])].copy()\n",
    "ST_corr_table.loc[ST_corr_table[\"gene\"].isin(set(ST_negative_edges[\"Gene\"])), \"group1\"] = \"negative_enhancer\"\n",
    "ST_corr_table_neg = ST_corr_table[ST_corr_table[\"group1\"].isin([\"negative_enhancer\"])].copy()\n",
    "plot_table = pd.concat([ST_corr_table_null, ST_corr_table_pos, ST_corr_table_neg])\n",
    "del ST_corr_table[\"group1\"]"
   ]
  },
  {
   "cell_type": "code",
   "execution_count": 16,
   "id": "15ff917f-5a9f-49cd-9513-9d3d262c1179",
   "metadata": {},
   "outputs": [
    {
     "name": "stdout",
     "output_type": "stream",
     "text": [
      "Rank-sum test result for positive enhancers: stats: 468306.5, p value: 1.8347364424613708e-10\n",
      "Rank-sum test result for negative enhancers: stats: 1222076.5, p value: 7.577093494083799e-32\n"
     ]
    }
   ],
   "source": [
    "from scipy.stats import mannwhitneyu\n",
    "group_null = plot_table[plot_table[\"group1\"] == \"null\"][\"corr\"]\n",
    "group_pos = plot_table[plot_table[\"group1\"] == \"positive_enhancer\"][\"corr\"]\n",
    "group_neg = plot_table[plot_table[\"group1\"] == \"negative_enhancer\"][\"corr\"]\n",
    "\n",
    "stat_pos, p_pos = mannwhitneyu(group_pos, group_null)\n",
    "print(f\"Rank-sum test result for positive enhancers: stats: {stat_pos}, p value: {p_pos}\")\n",
    "stat_neg, p_neg = mannwhitneyu(group_null, group_neg)\n",
    "print(f\"Rank-sum test result for negative enhancers: stats: {stat_neg}, p value: {p_neg}\")"
   ]
  },
  {
   "cell_type": "code",
   "execution_count": 17,
   "id": "c06b0a29-89bd-4659-b262-f49fbe0658fa",
   "metadata": {},
   "outputs": [
    {
     "name": "stdout",
     "output_type": "stream",
     "text": [
      "null                 22279\n",
      "negative_enhancer       58\n",
      "positive_enhancer       24\n",
      "Name: group1, dtype: int64\n"
     ]
    },
    {
     "data": {
      "image/png": "[encoded data removed]",
      "text/plain": [
       "<Figure size 800x600 with 1 Axes>"
      ]
     },
     "metadata": {},
     "output_type": "display_data"
    }
   ],
   "source": [
    "sns.set_context(\"notebook\", font_scale=1.5)\n",
    "print(plot_table[\"group1\"].value_counts())\n",
    "fig, ax = plt.subplots(1, 1)\n",
    "fig.set_figwidth(8)\n",
    "fig.set_figheight(6)\n",
    "sns.violinplot(\n",
    "    plot_table, x=\"group1\", y=\"corr\", hue=\"group1\", \n",
    "    order=[\"negative_enhancer\", \"null\", \"positive_enhancer\"], ax=ax\n",
    ")\n",
    "null_median = np.median(group_null)\n",
    "ax.axhline(null_median, color=\"black\", linestyle=\"dotted\", linewidth=2)\n",
    "ax.set_ylim(-1.3, 1.3)\n",
    "def add_bracket(x1, x2, y, pvalue, h, ax):\n",
    "    ax.plot([x1, x1, x2, x2], [y, y+h, y+h, y], lw=1.5, color=\"black\")\n",
    "    ax.text((x1+x2)/2, y+2*h, f\"p={pvalue:.2e}\", ha=\"center\", va=\"bottom\")\n",
    "bracket_base = np.max(plot_table[\"corr\"])\n",
    "add_bracket(0, 1, bracket_base+0.1, p_neg, 0.05, ax)\n",
    "add_bracket(1, 2, bracket_base+0.2, p_pos, 0.05, ax)\n",
    "fig.savefig(figure_dir / \"PVALB-ST-target-genes.pdf\", dpi=300, format=\"pdf\")"
   ]
  },
  {
   "cell_type": "markdown",
   "id": "f9ece0bc-9775-44f4-9294-b2cd0464391c",
   "metadata": {},
   "source": [
    "# Wilcox test for all TF regulons"
   ]
  },
  {
   "cell_type": "raw",
   "id": "f4827ca3-f7e5-4918-ae2b-c8123cc23682",
   "metadata": {},
   "source": [
    "## RC"
   ]
  },
  {
   "cell_type": "raw",
   "id": "b72ed5a4-89e3-4325-b298-fd7012736fa8",
   "metadata": {},
   "source": [
    "RC_atac_corr_table = pd.read_csv(\n",
    "    \"../other_celltypes/corr_regions_5e-1_5e-2_expr_filtered/PVALB_RC_table.tsv\",\n",
    "    sep=\"\\t\", header=0\n",
    ")\n",
    "RC_atac_corr_table[\"region\"] = RC_atac_corr_table.apply(\n",
    "    lambda x: \":\".join(x[\"region\"].split(\"-\", 1)), axis=1)"
   ]
  },
  {
   "cell_type": "raw",
   "id": "4b39789d-9c81-4fed-b3ff-ce93339dd9e5",
   "metadata": {},
   "source": [
    "corr_lists = []\n",
    "all_enhancer_corr = RC_atac_corr_table.loc[\n",
    "    RC_atac_corr_table[\"region\"].isin(regulons_table[\"Region\"].to_list()), [\"region\", \"corr\"]].copy()\n",
    "all_enhancer_corr[\"label\"] = \"null\"\n",
    "corr_lists.append(all_enhancer_corr)\n",
    "for ctf in regulons_table[\"TF\"].unique():\n",
    "    ctf_enhancers = regulons_table[regulons_table[\"TF\"] == ctf][\"Region\"].to_list()\n",
    "    ctf_corr = RC_atac_corr_table.loc[RC_atac_corr_table[\"region\"].isin(ctf_enhancers), [\"region\", \"corr\"]].copy()\n",
    "    ctf_corr[\"label\"] = ctf\n",
    "    corr_lists.append(ctf_corr)"
   ]
  },
  {
   "cell_type": "raw",
   "id": "64201a26-3493-4649-a66e-17b8cad90fda",
   "metadata": {},
   "source": [
    "median_null = np.median(corr_lists[0][\"corr\"])\n",
    "medians_all = [np.median(xx[\"corr\"]) for xx in corr_lists]\n",
    "sorted_indices = np.argsort(medians_all)\n",
    "plot_corr_table = pd.concat([corr_lists[ii] for ii in sorted_indices], axis=0)"
   ]
  },
  {
   "cell_type": "raw",
   "id": "b97e1fba-2ae7-4b25-9ac1-37f074589271",
   "metadata": {},
   "source": [
    "from scipy.stats import mannwhitneyu\n",
    "from statsmodels.stats.multitest import multipletests\n",
    "rank_sum_test_result = dict()\n",
    "median_diff_result = dict()\n",
    "for factor_name in plot_corr_table[\"label\"].unique():\n",
    "    if factor_name == \"null\":\n",
    "        continue\n",
    "    values_null = plot_corr_table[plot_corr_table[\"label\"] == \"null\"][\"corr\"]\n",
    "    values_curr = plot_corr_table[plot_corr_table[\"label\"] == factor_name][\"corr\"]\n",
    "    stats_curr, p_curr = mannwhitneyu(values_curr, values_null)\n",
    "    rank_sum_test_result[factor_name] = p_curr\n",
    "    median_diff_result[factor_name] = np.median(values_curr) - np.median(values_null)\n",
    "keys = rank_sum_test_result.keys()\n",
    "pvalues = np.array(list(rank_sum_test_result.values()))\n",
    "adjusted_p = multipletests(pvalues, method=\"fdr_bh\")[1]\n",
    "rank_sum_test_result = {k: v for k, v in zip(keys, adjusted_p)}"
   ]
  },
  {
   "cell_type": "raw",
   "id": "412a0263-fbc8-41ea-8e7b-95a435ae14cb",
   "metadata": {},
   "source": [
    "RC_result_df = pd.DataFrame({\n",
    "    \"median_diff\": median_diff_result,\n",
    "    \"adjusted_p\": rank_sum_test_result\n",
    "})\n",
    "RC_result_df.to_csv(figure_dir / \"PVALB-RC-TF-activity.tsv\", header=True, sep=\"\\t\", index=True)"
   ]
  },
  {
   "cell_type": "markdown",
   "id": "67a8de48-25e1-498b-87bb-4bd3842005f4",
   "metadata": {},
   "source": [
    "## ST"
   ]
  },
  {
   "cell_type": "code",
   "execution_count": 18,
   "id": "c201b00f-14a4-4e49-b8b6-33cebfdba4b3",
   "metadata": {},
   "outputs": [],
   "source": [
    "ST_atac_corr_table = pd.read_csv(\n",
    "    \"../other_celltypes/corr_regions_ST_5e-1_5e-2_expr_filtered/PVALB_ST_table.tsv\",\n",
    "    sep=\"\\t\", header=0\n",
    ")\n",
    "ST_atac_corr_table[\"region\"] = ST_atac_corr_table.apply(\n",
    "    lambda x: \":\".join(x[\"region\"].split(\"-\", 1)), axis=1)"
   ]
  },
  {
   "cell_type": "code",
   "execution_count": 19,
   "id": "7d3f5317-3889-459b-8282-434d521ad61f",
   "metadata": {},
   "outputs": [],
   "source": [
    "corr_lists = []\n",
    "all_enhancer_corr = ST_atac_corr_table.loc[\n",
    "    ST_atac_corr_table[\"region\"].isin(regulons_table[\"Region\"].to_list()), [\"region\", \"corr\"]].copy()\n",
    "all_enhancer_corr[\"label\"] = \"null\"\n",
    "corr_lists.append(all_enhancer_corr)\n",
    "for ctf in regulons_table[\"TF\"].unique():\n",
    "    ctf_enhancers = regulons_table[regulons_table[\"TF\"] == ctf][\"Region\"].to_list()\n",
    "    ctf_corr = ST_atac_corr_table.loc[ST_atac_corr_table[\"region\"].isin(ctf_enhancers), [\"region\", \"corr\"]].copy()\n",
    "    ctf_corr[\"label\"] = ctf\n",
    "    corr_lists.append(ctf_corr)"
   ]
  },
  {
   "cell_type": "code",
   "execution_count": 20,
   "id": "7d145cdb-0dc1-4a5f-9bb5-c9f6cfa919e0",
   "metadata": {},
   "outputs": [],
   "source": [
    "median_null = np.median(corr_lists[0][\"corr\"])\n",
    "medians_all = [np.median(xx[\"corr\"]) for xx in corr_lists]\n",
    "sorted_indices = np.argsort(medians_all)\n",
    "plot_corr_table = pd.concat([corr_lists[ii] for ii in sorted_indices], axis=0)"
   ]
  },
  {
   "cell_type": "code",
   "execution_count": 21,
   "id": "0a57de36-f89e-4000-a5bd-a6053d676e7d",
   "metadata": {},
   "outputs": [],
   "source": [
    "from scipy.stats import mannwhitneyu\n",
    "from statsmodels.stats.multitest import multipletests\n",
    "rank_sum_test_result = dict()\n",
    "median_diff_result = dict()\n",
    "for factor_name in plot_corr_table[\"label\"].unique():\n",
    "    if factor_name == \"null\":\n",
    "        continue\n",
    "    values_null = plot_corr_table[plot_corr_table[\"label\"] == \"null\"][\"corr\"]\n",
    "    values_curr = plot_corr_table[plot_corr_table[\"label\"] == factor_name][\"corr\"]\n",
    "    stats_curr, p_curr = mannwhitneyu(values_curr, values_null)\n",
    "    rank_sum_test_result[factor_name] = p_curr\n",
    "    median_diff_result[factor_name] = np.median(values_curr) - np.median(values_null)\n",
    "keys = rank_sum_test_result.keys()\n",
    "pvalues = np.array(list(rank_sum_test_result.values()))\n",
    "adjusted_p = multipletests(pvalues, method=\"fdr_bh\")[1]\n",
    "rank_sum_test_result = {k: v for k, v in zip(keys, adjusted_p)}"
   ]
  },
  {
   "cell_type": "code",
   "execution_count": 22,
   "id": "5eb852ea-9ea5-495c-ae05-400fc513662b",
   "metadata": {},
   "outputs": [],
   "source": [
    "ST_result_df = pd.DataFrame({\n",
    "    \"median_diff\": median_diff_result,\n",
    "    \"adjusted_p\": rank_sum_test_result\n",
    "})\n",
    "ST_result_df.to_csv(figure_dir / \"PVALB-ST-TF-activity.tsv\", header=True, sep=\"\\t\", index=True)"
   ]
  },
  {
   "cell_type": "code",
   "execution_count": null,
   "id": "67bb21bf-0ce6-410a-8853-ee6e9a41f553",
   "metadata": {},
   "outputs": [],
   "source": []
  }
 ],
 "metadata": {
  "kernelspec": {
   "display_name": "Python 3 (ipykernel)",
   "language": "python",
   "name": "python3"
  },
  "language_info": {
   "codemirror_mode": {
    "name": "ipython",
    "version": 3
   },
   "file_extension": ".py",
   "mimetype": "text/x-python",
   "name": "python",
   "nbconvert_exporter": "python",
   "pygments_lexer": "ipython3",
   "version": "3.11.9"
  }
 },
 "nbformat": 4,
 "nbformat_minor": 5
}
