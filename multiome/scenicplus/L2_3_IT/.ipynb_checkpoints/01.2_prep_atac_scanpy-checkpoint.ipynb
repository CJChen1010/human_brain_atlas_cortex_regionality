{
 "cells": [
  {
   "cell_type": "markdown",
   "id": "23b11155-da3d-422d-bb01-51cf9831a681",
   "metadata": {},
   "source": [
    "# Export ATAC to anndata"
   ]
  },
  {
   "cell_type": "code",
   "execution_count": 1,
   "id": "290a0434-3f44-4eab-8837-f3048d8fbabb",
   "metadata": {},
   "outputs": [],
   "source": [
    "import scanpy as sc\n",
    "import pandas as pd"
   ]
  },
  {
   "cell_type": "code",
   "execution_count": 2,
   "id": "a33b31ef-9004-4d78-80b2-fc140d3d82e8",
   "metadata": {},
   "outputs": [],
   "source": [
    "import os"
   ]
  },
  {
   "cell_type": "code",
   "execution_count": 3,
   "id": "298365d7-de2b-4ee1-8a06-9e2711360ee9",
   "metadata": {},
   "outputs": [],
   "source": [
    "from pathlib import Path\n",
    "root_dir = Path(\"/tscc/projects/ps-epigen/users/biy022/biccn/data/SNAREdata/scenicplus/\")\n",
    "os.chdir(root_dir / \"L2_3_IT\")"
   ]
  },
  {
   "cell_type": "code",
   "execution_count": 4,
   "id": "4d912772-ac77-4d60-a615-b4316ae88e93",
   "metadata": {},
   "outputs": [],
   "source": [
    "atac_counts = sc.read_mtx(\"L2_3_IT_atac_matrix.mtx\")"
   ]
  },
  {
   "cell_type": "code",
   "execution_count": 5,
   "id": "06aae5a3-d906-4095-83f0-a85cd99ebf52",
   "metadata": {},
   "outputs": [],
   "source": [
    "atac_counts = atac_counts.T.copy()"
   ]
  },
  {
   "cell_type": "code",
   "execution_count": 6,
   "id": "28fd1607-cbe3-488d-8d30-7061d9d6e758",
   "metadata": {},
   "outputs": [],
   "source": [
    "cell_meta = pd.read_csv(\"L2_3_IT_meta_data.tsv\", header=0, index_col=0, sep=\"\\t\")\n",
    "region_names = pd.read_csv(\"L2_3_IT_atac_regions.tsv\", header=None, index_col=0, sep=\"\\t\")\n",
    "region_names.index.name = None"
   ]
  },
  {
   "cell_type": "code",
   "execution_count": 7,
   "id": "f64cce35-9b3c-4f98-b31b-178670c56f33",
   "metadata": {},
   "outputs": [],
   "source": [
    "atac_counts.obs = cell_meta\n",
    "atac_counts.var = region_names"
   ]
  },
  {
   "cell_type": "code",
   "execution_count": 9,
   "id": "e4f6d953-3dc5-4d35-b8dc-aa7e212f10d0",
   "metadata": {},
   "outputs": [],
   "source": [
    "sampled_barcodes = pd.read_csv(\"L2_3_IT_cell_barcodes_25p_sampled.tsv\", sep=\"\\t\", header=None)\n",
    "sampled_barcodes.columns = [\"barcodes\"]\n",
    "atac_counts = atac_counts[sampled_barcodes[\"barcodes\"]].copy()"
   ]
  },
  {
   "cell_type": "code",
   "execution_count": 10,
   "id": "1f45378f-b111-49f9-9241-face23533c03",
   "metadata": {},
   "outputs": [
    {
     "data": {
      "text/plain": [
       "AnnData object with n_obs × n_vars = 74674 × 554228\n",
       "    obs: 'orig.ident', 'nCount_RNA', 'nFeature_RNA', 'Batch', 'percent.mt', 'Major_Class', 'PatientID', 'Region', 'Subclass_F', 'Cell_type'"
      ]
     },
     "execution_count": 10,
     "metadata": {},
     "output_type": "execute_result"
    }
   ],
   "source": [
    "atac_counts"
   ]
  },
  {
   "cell_type": "code",
   "execution_count": 12,
   "id": "81894efa-e6e0-4482-a5dc-744baff8326c",
   "metadata": {},
   "outputs": [
    {
     "data": {
      "text/html": [
       "<div>\n",
       "<style scoped>\n",
       "    .dataframe tbody tr th:only-of-type {\n",
       "        vertical-align: middle;\n",
       "    }\n",
       "\n",
       "    .dataframe tbody tr th {\n",
       "        vertical-align: top;\n",
       "    }\n",
       "\n",
       "    .dataframe thead th {\n",
       "        text-align: right;\n",
       "    }\n",
       "</style>\n",
       "<table border=\"1\" class=\"dataframe\">\n",
       "  <thead>\n",
       "    <tr style=\"text-align: right;\">\n",
       "      <th></th>\n",
       "      <th>orig.ident</th>\n",
       "      <th>nCount_RNA</th>\n",
       "      <th>nFeature_RNA</th>\n",
       "      <th>Batch</th>\n",
       "      <th>percent.mt</th>\n",
       "      <th>Major_Class</th>\n",
       "      <th>PatientID</th>\n",
       "      <th>Region</th>\n",
       "      <th>Subclass_F</th>\n",
       "      <th>Cell_type</th>\n",
       "    </tr>\n",
       "  </thead>\n",
       "  <tbody>\n",
       "    <tr>\n",
       "      <th>R_20211021A_M1CR45_GACTAGTAAGATGTACAAACATCG</th>\n",
       "      <td>M1CR45</td>\n",
       "      <td>5728</td>\n",
       "      <td>2452</td>\n",
       "      <td>R_20211021A</td>\n",
       "      <td>0.000000</td>\n",
       "      <td>Excitatory</td>\n",
       "      <td>UW 7118</td>\n",
       "      <td>M1C</td>\n",
       "      <td>L2/3 IT</td>\n",
       "      <td>L2/3 IT_3</td>\n",
       "    </tr>\n",
       "    <tr>\n",
       "      <th>R_20210624B_FIR45_GCTAACGAAGATGTACACAGCAGA</th>\n",
       "      <td>FIR45</td>\n",
       "      <td>33807</td>\n",
       "      <td>7161</td>\n",
       "      <td>R_20210624B</td>\n",
       "      <td>0.269175</td>\n",
       "      <td>Excitatory</td>\n",
       "      <td>H19.30.004</td>\n",
       "      <td>FI</td>\n",
       "      <td>L2/3 IT</td>\n",
       "      <td>L2/3 IT_6</td>\n",
       "    </tr>\n",
       "    <tr>\n",
       "      <th>R_20220217B_ANGR94_AGAGTCAAGCCAAGACACCTCCAA</th>\n",
       "      <td>ANGR94</td>\n",
       "      <td>15553</td>\n",
       "      <td>4843</td>\n",
       "      <td>R_20220217B</td>\n",
       "      <td>0.000000</td>\n",
       "      <td>Excitatory</td>\n",
       "      <td>H19.30.002</td>\n",
       "      <td>AnG</td>\n",
       "      <td>L2/3 IT</td>\n",
       "      <td>L2/3 IT_6</td>\n",
       "    </tr>\n",
       "    <tr>\n",
       "      <th>R_20211021A_M1CR40_AACCGAGAAGCAGGAAAACGCTTA</th>\n",
       "      <td>M1CR40</td>\n",
       "      <td>38752</td>\n",
       "      <td>7489</td>\n",
       "      <td>R_20211021A</td>\n",
       "      <td>0.010322</td>\n",
       "      <td>Excitatory</td>\n",
       "      <td>UW 7118</td>\n",
       "      <td>M1C</td>\n",
       "      <td>L2/3 IT</td>\n",
       "      <td>L2/3 IT_6</td>\n",
       "    </tr>\n",
       "    <tr>\n",
       "      <th>R_20210617B_ANGR47_AGTACAAGAAGACGGACAATGGAA</th>\n",
       "      <td>ANGR47</td>\n",
       "      <td>4311</td>\n",
       "      <td>2169</td>\n",
       "      <td>R_20210617B</td>\n",
       "      <td>0.115982</td>\n",
       "      <td>Excitatory</td>\n",
       "      <td>H19.30.004</td>\n",
       "      <td>AnG</td>\n",
       "      <td>L2/3 IT</td>\n",
       "      <td>L2/3 IT_6</td>\n",
       "    </tr>\n",
       "  </tbody>\n",
       "</table>\n",
       "</div>"
      ],
      "text/plain": [
       "                                            orig.ident  nCount_RNA  \\\n",
       "R_20211021A_M1CR45_GACTAGTAAGATGTACAAACATCG     M1CR45        5728   \n",
       "R_20210624B_FIR45_GCTAACGAAGATGTACACAGCAGA       FIR45       33807   \n",
       "R_20220217B_ANGR94_AGAGTCAAGCCAAGACACCTCCAA     ANGR94       15553   \n",
       "R_20211021A_M1CR40_AACCGAGAAGCAGGAAAACGCTTA     M1CR40       38752   \n",
       "R_20210617B_ANGR47_AGTACAAGAAGACGGACAATGGAA     ANGR47        4311   \n",
       "\n",
       "                                             nFeature_RNA        Batch  \\\n",
       "R_20211021A_M1CR45_GACTAGTAAGATGTACAAACATCG          2452  R_20211021A   \n",
       "R_20210624B_FIR45_GCTAACGAAGATGTACACAGCAGA           7161  R_20210624B   \n",
       "R_20220217B_ANGR94_AGAGTCAAGCCAAGACACCTCCAA          4843  R_20220217B   \n",
       "R_20211021A_M1CR40_AACCGAGAAGCAGGAAAACGCTTA          7489  R_20211021A   \n",
       "R_20210617B_ANGR47_AGTACAAGAAGACGGACAATGGAA          2169  R_20210617B   \n",
       "\n",
       "                                             percent.mt Major_Class  \\\n",
       "R_20211021A_M1CR45_GACTAGTAAGATGTACAAACATCG    0.000000  Excitatory   \n",
       "R_20210624B_FIR45_GCTAACGAAGATGTACACAGCAGA     0.269175  Excitatory   \n",
       "R_20220217B_ANGR94_AGAGTCAAGCCAAGACACCTCCAA    0.000000  Excitatory   \n",
       "R_20211021A_M1CR40_AACCGAGAAGCAGGAAAACGCTTA    0.010322  Excitatory   \n",
       "R_20210617B_ANGR47_AGTACAAGAAGACGGACAATGGAA    0.115982  Excitatory   \n",
       "\n",
       "                                              PatientID Region Subclass_F  \\\n",
       "R_20211021A_M1CR45_GACTAGTAAGATGTACAAACATCG     UW 7118    M1C    L2/3 IT   \n",
       "R_20210624B_FIR45_GCTAACGAAGATGTACACAGCAGA   H19.30.004     FI    L2/3 IT   \n",
       "R_20220217B_ANGR94_AGAGTCAAGCCAAGACACCTCCAA  H19.30.002    AnG    L2/3 IT   \n",
       "R_20211021A_M1CR40_AACCGAGAAGCAGGAAAACGCTTA     UW 7118    M1C    L2/3 IT   \n",
       "R_20210617B_ANGR47_AGTACAAGAAGACGGACAATGGAA  H19.30.004    AnG    L2/3 IT   \n",
       "\n",
       "                                             Cell_type  \n",
       "R_20211021A_M1CR45_GACTAGTAAGATGTACAAACATCG  L2/3 IT_3  \n",
       "R_20210624B_FIR45_GCTAACGAAGATGTACACAGCAGA   L2/3 IT_6  \n",
       "R_20220217B_ANGR94_AGAGTCAAGCCAAGACACCTCCAA  L2/3 IT_6  \n",
       "R_20211021A_M1CR40_AACCGAGAAGCAGGAAAACGCTTA  L2/3 IT_6  \n",
       "R_20210617B_ANGR47_AGTACAAGAAGACGGACAATGGAA  L2/3 IT_6  "
      ]
     },
     "execution_count": 12,
     "metadata": {},
     "output_type": "execute_result"
    }
   ],
   "source": [
    "atac_counts.obs.head()"
   ]
  },
  {
   "cell_type": "code",
   "execution_count": 13,
   "id": "45fedd84-ae64-4dfb-8bce-589e044e0ab6",
   "metadata": {},
   "outputs": [],
   "source": [
    "atac_counts.write(\"L2_3_IT_atac_matrix.h5ad\")"
   ]
  },
  {
   "cell_type": "code",
   "execution_count": null,
   "id": "e9356914-6c7f-46ce-bce4-5b316c91e845",
   "metadata": {},
   "outputs": [],
   "source": []
  }
 ],
 "metadata": {
  "kernelspec": {
   "display_name": "Python 3 (ipykernel)",
   "language": "python",
   "name": "python3"
  },
  "language_info": {
   "codemirror_mode": {
    "name": "ipython",
    "version": 3
   },
   "file_extension": ".py",
   "mimetype": "text/x-python",
   "name": "python",
   "nbconvert_exporter": "python",
   "pygments_lexer": "ipython3",
   "version": "3.11.9"
  }
 },
 "nbformat": 4,
 "nbformat_minor": 5
}
