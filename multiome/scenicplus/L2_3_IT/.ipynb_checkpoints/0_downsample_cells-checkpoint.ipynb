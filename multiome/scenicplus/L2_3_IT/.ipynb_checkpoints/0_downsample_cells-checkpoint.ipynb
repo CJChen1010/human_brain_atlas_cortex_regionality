{
 "cells": [
  {
   "cell_type": "markdown",
   "id": "7fedaf5c-c9af-4e55-a57c-076f0a0e4bc5",
   "metadata": {},
   "source": [
    "# Downsample cell barcodes"
   ]
  },
  {
   "cell_type": "code",
   "execution_count": 1,
   "id": "9d1871f8-8d53-4247-a9f2-5ef6dbb9ecec",
   "metadata": {},
   "outputs": [],
   "source": [
    "import pandas as pd"
   ]
  },
  {
   "cell_type": "code",
   "execution_count": 2,
   "id": "f0ab9daf-8343-43e5-8eb4-24e35887dab2",
   "metadata": {},
   "outputs": [],
   "source": [
    "import os"
   ]
  },
  {
   "cell_type": "code",
   "execution_count": 3,
   "id": "4c39cc67-2dec-4cae-9bf6-61a22970e87f",
   "metadata": {},
   "outputs": [],
   "source": [
    "root_dir = \"/tscc/projects/ps-epigen/users/biy022/biccn/data/SNAREdata/scenicplus/L2_3_IT/\"\n",
    "os.chdir(root_dir)"
   ]
  },
  {
   "cell_type": "code",
   "execution_count": 4,
   "id": "9abeaec2-c69b-49be-bfbe-0b8796bc21f1",
   "metadata": {},
   "outputs": [],
   "source": [
    "barcode_list = pd.read_csv(\"L2_3_IT_cell_barcodes.tsv\", sep=\"\\t\", header=None)\n",
    "barcode_list.columns = [\"barcodes\"]"
   ]
  },
  {
   "cell_type": "code",
   "execution_count": 5,
   "id": "7f0e886a-7836-49ff-a243-f5d50a6e4ac1",
   "metadata": {},
   "outputs": [],
   "source": [
    "barcode_sampled = barcode_list.sample(frac=0.25, random_state=42)"
   ]
  },
  {
   "cell_type": "code",
   "execution_count": 6,
   "id": "abb0bfef-d972-4d23-86db-924062a7d5f4",
   "metadata": {},
   "outputs": [],
   "source": [
    "barcode_sampled.to_csv(\"L2_3_IT_cell_barcodes_25p_sampled.tsv\", sep=\"\\t\", header=False, index=False)"
   ]
  },
  {
   "cell_type": "code",
   "execution_count": 7,
   "id": "444c6abe-caba-4490-a8f6-69c224731bb7",
   "metadata": {},
   "outputs": [],
   "source": [
    "meta_df = pd.read_csv(\"L2_3_IT_meta_data.tsv\", sep=\"\\t\", header=0)\n",
    "meta_df = meta_df.loc[barcode_sampled[\"barcodes\"], :].copy()\n",
    "meta_df.to_csv(\"L2_3_IT_meta_data_25p_sampled.tsv\", sep=\"\\t\", header=True, index=True)"
   ]
  },
  {
   "cell_type": "code",
   "execution_count": null,
   "id": "99b7f504-fa8c-46ee-908d-6db7eb81d14e",
   "metadata": {},
   "outputs": [],
   "source": []
  }
 ],
 "metadata": {
  "kernelspec": {
   "display_name": "Python 3 (ipykernel)",
   "language": "python",
   "name": "python3"
  },
  "language_info": {
   "codemirror_mode": {
    "name": "ipython",
    "version": 3
   },
   "file_extension": ".py",
   "mimetype": "text/x-python",
   "name": "python",
   "nbconvert_exporter": "python",
   "pygments_lexer": "ipython3",
   "version": "3.11.9"
  }
 },
 "nbformat": 4,
 "nbformat_minor": 5
}
