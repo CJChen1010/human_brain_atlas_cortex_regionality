{
 "cells": [
  {
   "cell_type": "markdown",
   "id": "e51b9ed1-ab84-4666-9b70-c36367cbcd93",
   "metadata": {},
   "source": [
    "# Downsample the dataset"
   ]
  },
  {
   "cell_type": "code",
   "execution_count": 1,
   "id": "c663de89-a3a7-45b8-83f0-bc2bdb731e1d",
   "metadata": {
    "tags": []
   },
   "outputs": [],
   "source": [
    "suppressPackageStartupMessages({\n",
    "    library(Seurat)\n",
    "    library(repr)\n",
    "    library(patchwork)\n",
    "    library(ggplot2)\n",
    "    library(Signac)\n",
    "    library(tidyverse)\n",
    "    library(GenomicRanges)\n",
    "    library(edgeR)\n",
    "    library(SingleCellExperiment)\n",
    "    library(Matrix)\n",
    "    library(scran)\n",
    "    library(scater)\n",
    "    library(ggrepel)\n",
    "    library(fs)\n",
    "    library(tidyverse)\n",
    "    library(randomForest)\n",
    "    library(reticulate)\n",
    "    library(pheatmap)\n",
    "    library(gridExtra)\n",
    "    library(RColorBrewer)\n",
    "    library(MAST)\n",
    "    library(data.table)\n",
    "    library(ComplexHeatmap)\n",
    "})\n",
    "options(future.globals.maxSize = Inf)\n",
    "options(Seurat.object.assay.version = \"v5\")\n",
    "options(ggrepel.max.overlaps = Inf)"
   ]
  },
  {
   "cell_type": "code",
   "execution_count": 2,
   "id": "ce643f7d-e3b4-4849-bafe-9581f263c819",
   "metadata": {
    "tags": []
   },
   "outputs": [],
   "source": [
    "setwd(\"/tscc/projects/ps-epigen/users/biy022/biccn/data/SNAREdata/\")"
   ]
  },
  {
   "cell_type": "markdown",
   "id": "2c28df71-ea4b-4003-b77c-50f879080d04",
   "metadata": {},
   "source": [
    "## Preprocessing"
   ]
  },
  {
   "cell_type": "code",
   "execution_count": 3,
   "id": "9d1dcde8-0105-4694-83e6-a30acdc34381",
   "metadata": {
    "tags": []
   },
   "outputs": [],
   "source": [
    "regions_bed <- read.table(\n",
    "    \"cell_peak_matrix/peaks.bed\", header = FALSE, sep = \"\\t\", colClasses = \"character\")\n",
    "regions <- apply(regions_bed[, 1:3], 1, base::paste, collapse = \"-\")"
   ]
  },
  {
   "cell_type": "code",
   "execution_count": 4,
   "id": "b50ad58a-d084-470c-9141-7caa9a8005e7",
   "metadata": {
    "tags": []
   },
   "outputs": [],
   "source": [
    "write.table(\n",
    "    regions, \"cell_peak_matrix/regions.csv\", col.names = FALSE, row.names = FALSE,\n",
    "    quote = FALSE, sep = \",\")"
   ]
  },
  {
   "cell_type": "code",
   "execution_count": 5,
   "id": "d4623c05-65d1-42f3-aeac-fd6988ba0bf4",
   "metadata": {
    "tags": []
   },
   "outputs": [
    {
     "name": "stderr",
     "output_type": "stream",
     "text": [
      "'as(<dgTMatrix>, \"dgCMatrix\")' is deprecated.\n",
      "Use 'as(., \"CsparseMatrix\")' instead.\n",
      "See help(\"Deprecated\") and help(\"Matrix-deprecated\").\n",
      "\n"
     ]
    }
   ],
   "source": [
    "# First create dgCMatrix rds objects for atac (WTF?)\n",
    "for (file in dir_ls(\"cell_peak_matrix/\", glob = \"*mtx\")) {\n",
    "    subclass_name <- path_ext_remove(path_file(file))\n",
    "    barcodes <- read.table(\n",
    "        path_join(c(\"cell_peak_matrix/\", paste0(subclass_name, \"-barcodes.tsv\"))),\n",
    "        header = FALSE, sep = \"\\t\")\n",
    "    regions <- read.table(\"cell_peak_matrix/regions.csv\", header = FALSE, sep = \",\")\n",
    "    curr_mat_raw <- readMM(file)\n",
    "    curr_mat <- as(curr_mat_raw, \"dgCMatrix\")\n",
    "    colnames(curr_mat) <- barcodes[, 1]\n",
    "    rownames(curr_mat) <- regions[, 1]\n",
    "    saveRDS(curr_mat, path_join(c(\"cell_peak_matrix/\", paste0(subclass_name, \".rds\"))))\n",
    "}"
   ]
  },
  {
   "cell_type": "code",
   "execution_count": 6,
   "id": "436d9c12-8f16-47a2-8aa1-e6a510aed1a3",
   "metadata": {
    "tags": []
   },
   "outputs": [],
   "source": [
    "# RNA, for some reason IT neurons do not have the same number of genes as other cell types\n",
    "L2_3_IT_rna <- readRDS(\"cell_gene_matrix/L2_3_IT.rds\")\n",
    "filtered_genes <- rownames(L2_3_IT_rna)"
   ]
  },
  {
   "cell_type": "code",
   "execution_count": 9,
   "id": "0661371b-2194-423b-a758-3ef7622cf68e",
   "metadata": {
    "collapsed": true,
    "jupyter": {
     "outputs_hidden": true
    },
    "tags": []
   },
   "outputs": [
    {
     "name": "stdout",
     "output_type": "stream",
     "text": [
      "[1] \"Astro\"\n",
      "[1] \"Chandelier\"\n",
      "[1] \"Endo\"\n",
      "[1] \"L2_3_IT\"\n",
      "[1] \"L4_IT\"\n",
      "[1] \"L5_6_NP\"\n",
      "[1] \"L5_ET\"\n",
      "[1] \"L5_IT\"\n",
      "[1] \"L6B\"\n",
      "[1] \"L6_CT\"\n",
      "[1] \"L6_IT\"\n",
      "[1] \"L6_IT_Car3\"\n",
      "[1] \"LAMP5\"\n",
      "[1] \"LAMP5_LHX6\"\n",
      "[1] \"Micro\"\n",
      "[1] \"OPC\"\n",
      "[1] \"Oligo\"\n",
      "[1] \"PAX6\"\n",
      "[1] \"PVALB\"\n",
      "[1] \"SNCG\"\n",
      "[1] \"SST\"\n",
      "[1] \"SST_CHODL\"\n",
      "[1] \"VIP\"\n",
      "[1] \"VLMC\"\n"
     ]
    }
   ],
   "source": [
    "all_downsampled_barcodes <- c()\n",
    "for (file in dir_ls(\"cell_gene_matrix/\", glob = \"*rds\")) {\n",
    "    subclass_name <- path_ext_remove(path_file(file))\n",
    "    print(subclass_name)\n",
    "    flush.console()\n",
    "    curr_rna <- readRDS(file)\n",
    "    curr_rna <- curr_rna[filtered_genes, ]\n",
    "    curr_atac <- readRDS(path_join(c(\"cell_peak_matrix/\", paste0(subclass_name, \".rds\"))))\n",
    "    downsample_barcodes <- sample(colnames(curr_atac), replace = FALSE, size = min(5000, ncol(curr_atac)))\n",
    "    all_downsampled_barcodes <- c(all_downsampled_barcodes, downsample_barcodes)\n",
    "    curr_atac_down <- curr_atac[, downsample_barcodes]\n",
    "    curr_rna_down <- curr_rna[, downsample_barcodes]\n",
    "    \n",
    "    saveRDS(\n",
    "        curr_rna_down, \n",
    "        path_join(c(\"scenicplus/all/downsample_5k_rna_mtx/\", paste0(subclass_name, \".rds\"))))\n",
    "    saveRDS(\n",
    "        curr_atac_down, \n",
    "        path_join(c(\"scenicplus/all/downsample_5k_atac_mtx/\", paste0(subclass_name, \".rds\"))))\n",
    "}"
   ]
  },
  {
   "cell_type": "code",
   "execution_count": 10,
   "id": "df69dab1-aedf-4128-9f1b-d55e9cfa02be",
   "metadata": {
    "tags": []
   },
   "outputs": [],
   "source": [
    "meta_data <- read.table(\n",
    "    \"cell_gene_matrix/20230313_RNA_metadata.xls\", header = TRUE, row.names = 1, sep = \"\\t\")"
   ]
  },
  {
   "cell_type": "code",
   "execution_count": 11,
   "id": "799cbc26-e800-40bc-acea-4c3a73e4ce71",
   "metadata": {
    "tags": []
   },
   "outputs": [],
   "source": [
    "meta_data_downsample <- meta_data[all_downsampled_barcodes, ]"
   ]
  },
  {
   "cell_type": "code",
   "execution_count": 12,
   "id": "15cf3fb3-09d2-4673-b06e-f164ebbda2aa",
   "metadata": {
    "tags": []
   },
   "outputs": [],
   "source": [
    "write.table(\n",
    "    meta_data_downsample, \n",
    "    \"scenicplus/all/BICCN_5K_meta.tsv\", \n",
    "    col.names = TRUE, \n",
    "    row.names = TRUE, \n",
    "    quote = FALSE, \n",
    "    sep = \"\\t\")"
   ]
  },
  {
   "cell_type": "markdown",
   "id": "9b9f98cc-06a8-4d3c-af9c-c23b54cebd2c",
   "metadata": {},
   "source": [
    "## Combine matrices into one"
   ]
  },
  {
   "cell_type": "code",
   "execution_count": 3,
   "id": "2e4e1dde-caab-42d7-854f-d47cb4357245",
   "metadata": {
    "tags": []
   },
   "outputs": [],
   "source": [
    "rna_mtx <- c()\n",
    "for (file in dir_ls(\"scenicplus/all/downsample_5k_rna_mtx/\", glob = \"*rds\", recurse = TRUE)) {\n",
    "    rna_mtx <- c(rna_mtx, readRDS(file))\n",
    "}"
   ]
  },
  {
   "cell_type": "code",
   "execution_count": 4,
   "id": "a49d334b-f106-4368-994f-b13e3cac33af",
   "metadata": {
    "tags": []
   },
   "outputs": [],
   "source": [
    "rna_matrix <- do.call(cbind, rna_mtx)"
   ]
  },
  {
   "cell_type": "code",
   "execution_count": 5,
   "id": "80803978-f8aa-469b-a209-4e9d5eb826a2",
   "metadata": {
    "tags": []
   },
   "outputs": [],
   "source": [
    "meta_table <- read.table(\n",
    "    \"scenicplus/all/BICCN_5K_meta.tsv\", \n",
    "    header = TRUE, row.names = 1, sep = \"\\t\")"
   ]
  },
  {
   "cell_type": "code",
   "execution_count": 6,
   "id": "e53f8e79-7eaf-435e-bd85-1d96daa70a05",
   "metadata": {
    "tags": []
   },
   "outputs": [
    {
     "data": {
      "text/html": [
       "TRUE"
      ],
      "text/latex": [
       "TRUE"
      ],
      "text/markdown": [
       "TRUE"
      ],
      "text/plain": [
       "[1] TRUE"
      ]
     },
     "metadata": {},
     "output_type": "display_data"
    }
   ],
   "source": [
    "all(colnames(rna_matrix) == rownames(meta_table))"
   ]
  },
  {
   "cell_type": "code",
   "execution_count": 7,
   "id": "3ed6b9e0-49a7-4788-a393-224bdeb2171f",
   "metadata": {
    "tags": []
   },
   "outputs": [
    {
     "data": {
      "text/html": [
       "<style>\n",
       ".list-inline {list-style: none; margin:0; padding: 0}\n",
       ".list-inline>li {display: inline-block}\n",
       ".list-inline>li:not(:last-child)::after {content: \"\\00b7\"; padding: 0 .5ex}\n",
       "</style>\n",
       "<ol class=list-inline><li>32876</li><li>113924</li></ol>\n"
      ],
      "text/latex": [
       "\\begin{enumerate*}\n",
       "\\item 32876\n",
       "\\item 113924\n",
       "\\end{enumerate*}\n"
      ],
      "text/markdown": [
       "1. 32876\n",
       "2. 113924\n",
       "\n",
       "\n"
      ],
      "text/plain": [
       "[1]  32876 113924"
      ]
     },
     "metadata": {},
     "output_type": "display_data"
    }
   ],
   "source": [
    "dim(rna_matrix)"
   ]
  },
  {
   "cell_type": "code",
   "execution_count": 8,
   "id": "d5be4e28-d804-4180-b323-d5065cf244cb",
   "metadata": {
    "tags": []
   },
   "outputs": [
    {
     "data": {
      "text/plain": [
       "NULL"
      ]
     },
     "metadata": {},
     "output_type": "display_data"
    }
   ],
   "source": [
    "writeMM(rna_matrix, \"scenicplus/all/BICCN_5K_rna.mtx\")"
   ]
  },
  {
   "cell_type": "code",
   "execution_count": 9,
   "id": "a310f4ad-45b5-411e-ae76-0138b5ed5ca0",
   "metadata": {},
   "outputs": [],
   "source": [
    "write.table(\n",
    "    rownames(rna_matrix), \n",
    "    \"scenicplus//all/BICCN_5K_gene.tsv\", \n",
    "    col.names = FALSE, \n",
    "    row.names = FALSE, \n",
    "    quote = FALSE, \n",
    "    sep = \"\\t\")"
   ]
  },
  {
   "cell_type": "code",
   "execution_count": 10,
   "id": "3aa6e2aa-767c-46fa-9d37-9518a9258ed5",
   "metadata": {
    "tags": []
   },
   "outputs": [],
   "source": [
    "atac_mtx <- c()\n",
    "for (file in dir_ls(\"scenicplus/all/downsample_5k_atac_mtx/\", glob = \"*rds\", recurse = TRUE)) {\n",
    "    atac_mtx <- c(atac_mtx, readRDS(file))\n",
    "}"
   ]
  },
  {
   "cell_type": "code",
   "execution_count": 11,
   "id": "30cc36b4-92e7-4da9-bbf3-09731fba6574",
   "metadata": {
    "tags": []
   },
   "outputs": [],
   "source": [
    "atac_matrix <- do.call(cbind, atac_mtx)"
   ]
  },
  {
   "cell_type": "code",
   "execution_count": 12,
   "id": "d133c604-0d9d-4361-9532-d361ee3b4b70",
   "metadata": {
    "tags": []
   },
   "outputs": [
    {
     "data": {
      "text/html": [
       "TRUE"
      ],
      "text/latex": [
       "TRUE"
      ],
      "text/markdown": [
       "TRUE"
      ],
      "text/plain": [
       "[1] TRUE"
      ]
     },
     "metadata": {},
     "output_type": "display_data"
    }
   ],
   "source": [
    "all(colnames(atac_matrix) == rownames(meta_table))"
   ]
  },
  {
   "cell_type": "code",
   "execution_count": 13,
   "id": "f22333b1-dc7b-4d76-9e71-e88381a7756a",
   "metadata": {
    "tags": []
   },
   "outputs": [
    {
     "data": {
      "text/html": [
       "<style>\n",
       ".list-inline {list-style: none; margin:0; padding: 0}\n",
       ".list-inline>li {display: inline-block}\n",
       ".list-inline>li:not(:last-child)::after {content: \"\\00b7\"; padding: 0 .5ex}\n",
       "</style>\n",
       "<ol class=list-inline><li>554228</li><li>113924</li></ol>\n"
      ],
      "text/latex": [
       "\\begin{enumerate*}\n",
       "\\item 554228\n",
       "\\item 113924\n",
       "\\end{enumerate*}\n"
      ],
      "text/markdown": [
       "1. 554228\n",
       "2. 113924\n",
       "\n",
       "\n"
      ],
      "text/plain": [
       "[1] 554228 113924"
      ]
     },
     "metadata": {},
     "output_type": "display_data"
    }
   ],
   "source": [
    "dim(atac_matrix)"
   ]
  },
  {
   "cell_type": "code",
   "execution_count": 14,
   "id": "859a68b8-1092-4348-8529-f1ba6ca7573e",
   "metadata": {
    "tags": []
   },
   "outputs": [
    {
     "data": {
      "text/plain": [
       "NULL"
      ]
     },
     "metadata": {},
     "output_type": "display_data"
    }
   ],
   "source": [
    "writeMM(atac_matrix, \"scenicplus/all/BICCN_5K_atac.mtx\")"
   ]
  },
  {
   "cell_type": "code",
   "execution_count": 15,
   "id": "07abb95e-31dd-4357-bb1e-1bc789f5572d",
   "metadata": {},
   "outputs": [],
   "source": [
    "region_names <- read.table(\"scenicplus/all/BICCN_5K_region.tsv\", header = FALSE, sep = \"\\t\")"
   ]
  },
  {
   "cell_type": "code",
   "execution_count": 16,
   "id": "f759c442-dd7a-4063-9252-ec7c1a84d7fb",
   "metadata": {
    "tags": []
   },
   "outputs": [
    {
     "data": {
      "text/html": [
       "TRUE"
      ],
      "text/latex": [
       "TRUE"
      ],
      "text/markdown": [
       "TRUE"
      ],
      "text/plain": [
       "[1] TRUE"
      ]
     },
     "metadata": {},
     "output_type": "display_data"
    }
   ],
   "source": [
    "all(rownames(atac_matrix) == region_names[, 1])"
   ]
  },
  {
   "cell_type": "code",
   "execution_count": 17,
   "id": "4719bbae-6a06-44e3-9d92-b0d196abf881",
   "metadata": {
    "tags": []
   },
   "outputs": [],
   "source": [
    "write.table(\n",
    "    colnames(atac_matrix), \n",
    "    \"scenicplus/all/BICCN_5K_barcodes.tsv\", \n",
    "    col.names = FALSE, \n",
    "    row.names = FALSE, \n",
    "    quote = FALSE, \n",
    "    sep = \"\\t\")"
   ]
  },
  {
   "cell_type": "code",
   "execution_count": null,
   "id": "9fb655ad-5c21-43ec-9315-f321d5d0bdbb",
   "metadata": {},
   "outputs": [],
   "source": []
  }
 ],
 "metadata": {
  "kernelspec": {
   "display_name": "R",
   "language": "R",
   "name": "ir"
  },
  "language_info": {
   "codemirror_mode": "r",
   "file_extension": ".r",
   "mimetype": "text/x-r-source",
   "name": "R",
   "pygments_lexer": "r",
   "version": "4.3.1"
  }
 },
 "nbformat": 4,
 "nbformat_minor": 5
}
