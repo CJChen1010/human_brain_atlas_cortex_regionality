{
 "cells": [
  {
   "cell_type": "markdown",
   "id": "9d4e4aec-c363-4ec4-b161-5c874799c17a",
   "metadata": {},
   "source": [
    "# TF activity for a new set of TFs"
   ]
  },
  {
   "cell_type": "code",
   "execution_count": 1,
   "id": "12911095-a96e-4dcf-843c-1074a625d334",
   "metadata": {},
   "outputs": [],
   "source": [
    "import pandas as pd\n",
    "import seaborn as sns\n",
    "import matplotlib.pyplot as plt\n",
    "from matplotlib import rcParams\n",
    "import scanpy as sc\n",
    "import decoupler as dc\n",
    "import os\n",
    "from pathlib import Path\n",
    "import numpy as np\n",
    "from scipy.stats import pearsonr"
   ]
  },
  {
   "cell_type": "code",
   "execution_count": 2,
   "id": "813e7b77-ee28-4df6-80ca-865bfd791489",
   "metadata": {},
   "outputs": [],
   "source": [
    "root_dir = \"/tscc/projects/ps-epigen/users/biy022/biccn/data/SNAREdata/scenicplus/\"\n",
    "os.chdir(root_dir)"
   ]
  },
  {
   "cell_type": "markdown",
   "id": "c6cb7dde-63b5-4ce7-ae98-2ec8b35a9033",
   "metadata": {},
   "source": [
    "# RC axis"
   ]
  },
  {
   "cell_type": "code",
   "execution_count": 3,
   "id": "9d378d3c-ca7b-4dec-b712-894af10ccbfe",
   "metadata": {},
   "outputs": [],
   "source": [
    "included_celltypes = [\"L2_3_IT\", \"L4_IT\", \"L5_IT\", \"L6_IT\", \"L6_CT\", \"SST\"]\n",
    "included_tfs = [\n",
    "    \"JDP2\", \"KLF9\", \"KLF12\", \"BACH2\", \"RARB\", \"IRF2\", \"NFE2L1\",\n",
    "    \"NFIC\", \"LIN28B\", \"SATB1\", \"ZBTB20\", \"EGR1\", \"ZNF385D\",\n",
    "    \"BCL11A\", \"TCF12\", \"ELF2\", \"NF1\", \"NFIA\", \"SMAD2\", \"LHX2\",\n",
    "    \"NFIB\", \"SMAD3\", \"ZNF846\", \"RFX2\", \"PKNOX2\", \"TCF4\", \"RFX3\"\n",
    "]"
   ]
  },
  {
   "cell_type": "code",
   "execution_count": 4,
   "id": "666f2eab-7d6a-4f91-b9e1-16539a78de6f",
   "metadata": {},
   "outputs": [],
   "source": [
    "result_df = pd.DataFrame(\n",
    "    np.zeros((len(included_tfs), 2 * len(included_celltypes))),\n",
    "    index=included_tfs,\n",
    "    columns=[\"{}-gene\".format(xx) for xx in included_celltypes] + \n",
    "            [\"{}-peak\".format(xx) for xx in included_celltypes]\n",
    ")"
   ]
  },
  {
   "cell_type": "code",
   "execution_count": 5,
   "id": "4e2826ab-96bd-4c95-91cf-bce1bc7669d5",
   "metadata": {},
   "outputs": [],
   "source": [
    "for celltype in included_celltypes:\n",
    "    direct_table = pd.read_csv(Path(celltype) / \"scplus_outputs/eRegulon_direct.tsv\", sep=\"\\t\", header=0)\n",
    "    extend_table = pd.read_csv(Path(celltype) / \"scplus_outputs/eRegulons_extended.tsv\", sep=\"\\t\", header=0)\n",
    "    regulons_table = pd.concat([direct_table, extend_table], axis=0)\n",
    "    regulons_table.reset_index(drop=True, inplace=True)\n",
    "    regulons_table = regulons_table[regulons_table[\"eRegulon_name\"].str.endswith(\"+/+\")].copy()\n",
    "    for tf in included_tfs:\n",
    "        tf_table = regulons_table[regulons_table[\"TF\"] == tf].copy()\n",
    "        if tf_table.shape[0] == 0:\n",
    "            result_df.loc[tf, \"{}-gene\".format(celltype)] = 0.0\n",
    "            result_df.loc[tf, \"{}-peak\".format(celltype)] = 0.0\n",
    "            continue\n",
    "        tf_table[\"Region\"] = tf_table.apply(lambda r: \"-\".join(r[\"Region\"].split(\":\", 1)), axis=1)\n",
    "        celltype_gcorr_table = pd.read_csv(\n",
    "            Path(\"other_celltypes/corr_genes_7e-1_1e-2_expr_filtered/\") / \n",
    "            \"{}_RC_table.tsv\".format(celltype),\n",
    "            header=0, sep=\"\\t\"\n",
    "        )\n",
    "        celltype_rcorr_table = pd.read_csv(\n",
    "            Path(\"other_celltypes/corr_regions_5e-1_5e-2_expr_filtered/\") / \n",
    "            \"{}_RC_table.tsv\".format(celltype),\n",
    "            header=0, sep=\"\\t\"\n",
    "        )\n",
    "        tf_target_genes = tf_table[tf_table[\"Gene\"].isin(\n",
    "            celltype_gcorr_table[\"gene\"])][\"Gene\"].unique().tolist()\n",
    "        tf_target_peaks = tf_table[tf_table[\"Region\"].isin(\n",
    "            celltype_rcorr_table[\"region\"])][\"Region\"].unique().tolist()\n",
    "        result_df.loc[tf, \"{}-gene\".format(celltype)] = celltype_gcorr_table[\n",
    "            celltype_gcorr_table[\"gene\"].isin(tf_target_genes)][\"corr\"].median()\n",
    "        result_df.loc[tf, \"{}-peak\".format(celltype)] = celltype_rcorr_table[\n",
    "            celltype_rcorr_table[\"region\"].isin(tf_target_peaks)][\"corr\"].median()\n",
    "result_df = result_df.fillna(0.0)"
   ]
  },
  {
   "cell_type": "code",
   "execution_count": 6,
   "id": "5e85c77f-160b-4fc2-ade1-fa0d0aea981f",
   "metadata": {},
   "outputs": [],
   "source": [
    "result_df.to_csv(\n",
    "    \"/tscc/projects/ps-epigen/users/biy022/biccn/analysis/final_files/selected_tfs_20250421.tsv\",\n",
    "    header=True, sep=\"\\t\", index=True\n",
    ")"
   ]
  },
  {
   "cell_type": "markdown",
   "id": "a3696e87-499d-432c-b4de-2a38e8d0ca14",
   "metadata": {},
   "source": [
    "# ST axis"
   ]
  },
  {
   "cell_type": "code",
   "execution_count": 7,
   "id": "253cde02-516f-4f01-a0f1-b137f9aaa6ec",
   "metadata": {},
   "outputs": [],
   "source": [
    "included_celltypes = [\"L2_3_IT\", \"L4_IT\", \"L5_IT\", \"L6_IT\", \"L6_CT\", \"SST\", \"PVALB\"]\n",
    "included_tfs = [\n",
    "    \"JDP2\", \"RORA\", \"NFE2L1\", \"NFIC\", \"ZNF385D\", \"KLF9\", \"IRF2\",\n",
    "    \"RARB\", \"FOSL2\", \"SMARCC1\", \"KLF12\", \"ETS1\", \"BACH2\", \"NFIA\",\n",
    "    \"LIN28B\", \"SATB1\", \"EGR1\", \"ELF2\", \"TCF12\", \"NFIX\", \"KLF13\",\n",
    "    \"NF1\", \"SMAD3\", \"NFIB\", \"LHX2\", \"ZNF846\", \"SMAD9\", \"KLF8\",\n",
    "    \"TCF4\", \"RFX7\", \"RFX3\", \"RFX2\"\n",
    "]"
   ]
  },
  {
   "cell_type": "code",
   "execution_count": 8,
   "id": "68eec6dc-92b7-4642-aae1-3703426b8bbb",
   "metadata": {},
   "outputs": [],
   "source": [
    "result_df = pd.DataFrame(\n",
    "    np.zeros((len(included_tfs), 2 * len(included_celltypes))),\n",
    "    index=included_tfs,\n",
    "    columns=[\"{}-gene\".format(xx) for xx in included_celltypes] + \n",
    "            [\"{}-peak\".format(xx) for xx in included_celltypes]\n",
    ")"
   ]
  },
  {
   "cell_type": "code",
   "execution_count": 9,
   "id": "6b519d3f-1b7c-4fc1-bf07-392d4d28edc1",
   "metadata": {},
   "outputs": [],
   "source": [
    "for celltype in included_celltypes:\n",
    "    direct_table = pd.read_csv(Path(celltype) / \"scplus_outputs/eRegulon_direct.tsv\", sep=\"\\t\", header=0)\n",
    "    extend_table = pd.read_csv(Path(celltype) / \"scplus_outputs/eRegulons_extended.tsv\", sep=\"\\t\", header=0)\n",
    "    regulons_table = pd.concat([direct_table, extend_table], axis=0)\n",
    "    regulons_table.reset_index(drop=True, inplace=True)\n",
    "    regulons_table = regulons_table[regulons_table[\"eRegulon_name\"].str.endswith(\"+/+\")].copy()\n",
    "    for tf in included_tfs:\n",
    "        tf_table = regulons_table[regulons_table[\"TF\"] == tf].copy()\n",
    "        if tf_table.shape[0] == 0:\n",
    "            result_df.loc[tf, \"{}-gene\".format(celltype)] = 0.0\n",
    "            result_df.loc[tf, \"{}-peak\".format(celltype)] = 0.0\n",
    "            continue\n",
    "        tf_table[\"Region\"] = tf_table.apply(lambda r: \"-\".join(r[\"Region\"].split(\":\", 1)), axis=1)\n",
    "        celltype_gcorr_table = pd.read_csv(\n",
    "            Path(\"other_celltypes/corr_genes_ST_7e-1_1e-2_expr_filtered/\") / \n",
    "            \"{}_RC_table.tsv\".format(celltype),\n",
    "            header=0, sep=\"\\t\"\n",
    "        )\n",
    "        celltype_rcorr_table = pd.read_csv(\n",
    "            Path(\"other_celltypes/corr_regions_ST_5e-1_5e-2_expr_filtered/\") / \n",
    "            \"{}_ST_table.tsv\".format(celltype),\n",
    "            header=0, sep=\"\\t\"\n",
    "        )\n",
    "        tf_target_genes = tf_table[tf_table[\"Gene\"].isin(\n",
    "            celltype_gcorr_table[\"gene\"])][\"Gene\"].unique().tolist()\n",
    "        tf_target_peaks = tf_table[tf_table[\"Region\"].isin(\n",
    "            celltype_rcorr_table[\"region\"])][\"Region\"].unique().tolist()\n",
    "        result_df.loc[tf, \"{}-gene\".format(celltype)] = celltype_gcorr_table[\n",
    "            celltype_gcorr_table[\"gene\"].isin(tf_target_genes)][\"corr\"].median()\n",
    "        result_df.loc[tf, \"{}-peak\".format(celltype)] = celltype_rcorr_table[\n",
    "            celltype_rcorr_table[\"region\"].isin(tf_target_peaks)][\"corr\"].median()\n",
    "result_df = result_df.fillna(0.0)"
   ]
  },
  {
   "cell_type": "code",
   "execution_count": 10,
   "id": "66b5fb30-4f69-496e-a1ed-a86b08b3c5b2",
   "metadata": {},
   "outputs": [],
   "source": [
    "result_df.to_csv(\n",
    "    \"/tscc/projects/ps-epigen/users/biy022/biccn/analysis/final_files/selected_tfs_ST_20250421.tsv\",\n",
    "    header=True, sep=\"\\t\", index=True\n",
    ")"
   ]
  },
  {
   "cell_type": "code",
   "execution_count": null,
   "id": "94b238f7-098a-4de3-b080-b6c830c5e53f",
   "metadata": {},
   "outputs": [],
   "source": []
  }
 ],
 "metadata": {
  "kernelspec": {
   "display_name": "Python 3 (ipykernel)",
   "language": "python",
   "name": "python3"
  },
  "language_info": {
   "codemirror_mode": {
    "name": "ipython",
    "version": 3
   },
   "file_extension": ".py",
   "mimetype": "text/x-python",
   "name": "python",
   "nbconvert_exporter": "python",
   "pygments_lexer": "ipython3",
   "version": "3.11.9"
  }
 },
 "nbformat": 4,
 "nbformat_minor": 5
}
