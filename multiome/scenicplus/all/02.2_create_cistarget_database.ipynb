{
 "cells": [
  {
   "cell_type": "markdown",
   "id": "df519a48-ccd4-4dd6-b55b-781fa7199101",
   "metadata": {},
   "source": [
    "# Create cistarget database"
   ]
  },
  {
   "cell_type": "code",
   "execution_count": 1,
   "id": "f7c59404-5497-476b-beff-40fdfbb1b9ec",
   "metadata": {},
   "outputs": [],
   "source": [
    "import os\n",
    "import pandas as pd\n",
    "import numpy as np\n",
    "from pathlib import Path\n",
    "import seaborn as sns\n",
    "import matplotlib.pyplot as plt\n",
    "import pickle"
   ]
  },
  {
   "cell_type": "code",
   "execution_count": 2,
   "id": "bcd4e3a5-f4ac-4451-a481-b6eac19f5afc",
   "metadata": {},
   "outputs": [],
   "source": [
    "root_dir = \"/tscc/projects/ps-epigen/users/biy022/biccn/data/SNAREdata/\"\n",
    "os.chdir(Path(root_dir) / \"scenicplus\" / \"all\")"
   ]
  },
  {
   "cell_type": "code",
   "execution_count": 3,
   "id": "91bb90d1-c8a5-44e5-8987-9756ee0b1e54",
   "metadata": {},
   "outputs": [],
   "source": [
    "## follow steps in the tutorial to create background fasta file"
   ]
  },
  {
   "cell_type": "code",
   "execution_count": 4,
   "id": "67f487e5-630a-44b5-be74-e5738c157683",
   "metadata": {},
   "outputs": [],
   "source": [
    "slurm_script_template = (\n",
    "    \"#!/bin/bash\\n\"\n",
    "    \"#SBATCH -p condo\\n\"\n",
    "    \"#SBATCH -q condo\\n\"\n",
    "    \"#SBATCH -J ct_{0}\\n\"\n",
    "    \"#SBATCH -N 3\\n\"\n",
    "    \"#SBATCH -c 8\\n\"\n",
    "    \"#SBATCH --mem 400G\\n\"\n",
    "    \"#SBATCH -t 12:00:00\\n\"\n",
    "    \"#SBATCH -o /tscc/projects/ps-epigen/users/biy022/biccn/data/SNAREdata/scenicplus/all/partial_slurm/ct_{0}.out\\n\"\n",
    "    \"#SBATCH -e /tscc/projects/ps-epigen/users/biy022/biccn/data/SNAREdata/scenicplus/all/partial_slurm/ct_{0}.err\\n\"\n",
    "    \"#SBATCH --mail-user biy022@health.ucsd.edu\\n\"\n",
    "    \"#SBATCH --mail-type FAIL\\n\"\n",
    "    \"#SBATCH -A csd772\\n\"\n",
    "    \"\\n\"\n",
    "    \"set -e\\n\"\n",
    "    \"source ~/.bashrc\\n\"\n",
    "    \"conda activate create_cistarget_databases\\n\"\n",
    "    \"\\n\"\n",
    "\n",
    "    \"SCRIPT_DIR=\\\"/tscc/nfs/home/biy022/softwares/create_cisTarget_databases\\\"\\n\"\n",
    "    \"DATABASE_PREFIX=\\\"BICCN_subclass\\\"\\n\"\n",
    "    \"OUT_DIR=\\\"/tscc/projects/ps-epigen/users/biy022/biccn/data/SNAREdata/scenicplus/all\\\"\\n\"\n",
    "    \"CBDIR=\\\"/tscc/projects/ps-epigen/users/biy022/aertslab_motif_colleciton/v10nr_clust_public/singletons\\\"\\n\"\n",
    "    \"FASTA_FILE=\\\"/tscc/projects/ps-epigen/users/biy022/biccn/data/SNAREdata/scenicplus/all/hg38_BICCN_subclass_with_1kb_bg_padding.fa\\\"\\n\"\n",
    "    \"MOTIF_LIST=\\\"${{OUT_DIR}}/motifs.txt\\\"\\n\"\n",
    "    \"\\n\"\n",
    "    \"create_cistarget_databases_dir=\\\"~/softwares/create_cisTarget_databases/\\\"\\n\\n\"\n",
    "\n",
    "    \"\\\"${{SCRIPT_DIR}}/create_cistarget_motif_databases.py\\\" \\\\\\n\"\n",
    "        \"-f ${{FASTA_FILE}} \\\\\\n\"\n",
    "        \"-M ${{CBDIR}} \\\\\\n\"\n",
    "        \"-m ${{MOTIF_LIST}} \\\\\\n\"\n",
    "        \"-o ${{OUT_DIR}}/partial_database/${{DATABASE_PREFIX}} \\\\\\n\"\n",
    "        \"-p {0} 8 \\\\\\n\"\n",
    "        \"--bgpadding 1000 \\\\\\n\"\n",
    "        \"-t 20\\n\"\n",
    ")"
   ]
  },
  {
   "cell_type": "code",
   "execution_count": 5,
   "id": "c4426ac1-69e7-494f-9b78-cbf9f5d58ea6",
   "metadata": {},
   "outputs": [],
   "source": [
    "for index in np.arange(1, 9):\n",
    "    with open(\"partial_slurm/ct_{}.sh\".format(index), \"w\") as f:\n",
    "        f.write(slurm_script_template.format(index))"
   ]
  },
  {
   "cell_type": "code",
   "execution_count": null,
   "id": "97fa3dcb-fe48-44ab-a1d9-b66b134cb3d9",
   "metadata": {},
   "outputs": [],
   "source": []
  }
 ],
 "metadata": {
  "kernelspec": {
   "display_name": "Python 3 (ipykernel)",
   "language": "python",
   "name": "python3"
  },
  "language_info": {
   "codemirror_mode": {
    "name": "ipython",
    "version": 3
   },
   "file_extension": ".py",
   "mimetype": "text/x-python",
   "name": "python",
   "nbconvert_exporter": "python",
   "pygments_lexer": "ipython3",
   "version": "3.11.9"
  }
 },
 "nbformat": 4,
 "nbformat_minor": 5
}
