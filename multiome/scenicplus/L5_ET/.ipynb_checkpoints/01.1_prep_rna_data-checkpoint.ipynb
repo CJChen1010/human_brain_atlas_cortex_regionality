{
 "cells": [
  {
   "cell_type": "markdown",
   "id": "fe07c5f2-deda-4361-9bcd-c825a3f142e9",
   "metadata": {},
   "source": [
    "# Save RNA count to mtx"
   ]
  },
  {
   "cell_type": "code",
   "execution_count": 1,
   "id": "1cbf58a1-2779-4d16-a880-187826a42c86",
   "metadata": {
    "tags": []
   },
   "outputs": [],
   "source": [
    "suppressPackageStartupMessages({\n",
    "    library(Seurat)\n",
    "    library(SeuratDisk)\n",
    "    library(repr)\n",
    "    library(patchwork)\n",
    "    library(ggplot2)\n",
    "    library(Signac)\n",
    "    library(tidyverse)\n",
    "    library(GenomicRanges)\n",
    "    library(Matrix)\n",
    "    library(ggrepel)\n",
    "    library(fs)\n",
    "    library(pheatmap)\n",
    "    library(gridExtra)\n",
    "    library(RColorBrewer)\n",
    "    library(data.table)\n",
    "    library(ComplexHeatmap)\n",
    "})\n",
    "options(future.globals.maxSize = Inf)\n",
    "options(Seurat.object.assay.version = \"v5\")\n",
    "options(ggrepel.max.overlaps = Inf)"
   ]
  },
  {
   "cell_type": "code",
   "execution_count": 2,
   "id": "1ffb50b2-17b2-4b8e-a88b-a5aa457968a3",
   "metadata": {
    "tags": []
   },
   "outputs": [],
   "source": [
    "root_dir <- \"/tscc/projects/ps-epigen/users/biy022/biccn/data/SNAREdata/cell_gene_matrix/\"\n",
    "setwd(root_dir)"
   ]
  },
  {
   "cell_type": "code",
   "execution_count": 3,
   "id": "d17633c2-9bf7-4b65-9368-383d514d9859",
   "metadata": {
    "tags": []
   },
   "outputs": [],
   "source": [
    "L5_ET_rna <- readRDS(\"L5_ET.rds\")"
   ]
  },
  {
   "cell_type": "code",
   "execution_count": 4,
   "id": "4c1c4c41-9ea9-47ff-8e03-3cfdad02bebe",
   "metadata": {
    "tags": []
   },
   "outputs": [],
   "source": [
    "L5_ET_barcodes <- read.table(\n",
    "    \"../scenicplus/L5_ET/L5_ET_cell_barcodes.tsv\", \n",
    "    header = FALSE, sep = \"\\t\")"
   ]
  },
  {
   "cell_type": "code",
   "execution_count": 5,
   "id": "a05b3bc6-0102-4ef5-b624-24a8c76c745b",
   "metadata": {
    "tags": []
   },
   "outputs": [],
   "source": [
    "L5_ET_rna_filtered <- L5_ET_rna[, L5_ET_barcodes$V1]"
   ]
  },
  {
   "cell_type": "code",
   "execution_count": 6,
   "id": "ea053189-3cd6-4761-9f23-9fea23870c05",
   "metadata": {
    "tags": []
   },
   "outputs": [
    {
     "data": {
      "text/plain": [
       "NULL"
      ]
     },
     "metadata": {},
     "output_type": "display_data"
    }
   ],
   "source": [
    "writeMM(L5_ET_rna_filtered, \"../scenicplus/L5_ET/L5_ET_rna_matrix.mtx\")"
   ]
  },
  {
   "cell_type": "code",
   "execution_count": 7,
   "id": "53af94d3-30ed-483f-8f2b-90d1505447a0",
   "metadata": {},
   "outputs": [],
   "source": [
    "write.table(\n",
    "    rownames(L5_ET_rna_filtered), \"../scenicplus/L5_ET/L5_ET_gene_names.tsv\",\n",
    "    col.names = FALSE, quote = FALSE, sep = \"\\t\", row.names = FALSE)"
   ]
  },
  {
   "cell_type": "code",
   "execution_count": null,
   "id": "9e1f0ff6-dd8d-4be2-bd08-9064784848c9",
   "metadata": {},
   "outputs": [],
   "source": []
  }
 ],
 "metadata": {
  "kernelspec": {
   "display_name": "R",
   "language": "R",
   "name": "ir"
  },
  "language_info": {
   "codemirror_mode": "r",
   "file_extension": ".r",
   "mimetype": "text/x-r-source",
   "name": "R",
   "pygments_lexer": "r",
   "version": "4.3.1"
  }
 },
 "nbformat": 4,
 "nbformat_minor": 5
}
