{
 "cells": [
  {
   "cell_type": "markdown",
   "id": "d7c35a69-4f16-413a-be64-04765b848244",
   "metadata": {},
   "source": [
    "# Extract data for scenicplus"
   ]
  },
  {
   "cell_type": "code",
   "execution_count": 1,
   "id": "b4b51862-72c8-4996-9128-d706bd2a3fd3",
   "metadata": {
    "tags": []
   },
   "outputs": [],
   "source": [
    "suppressPackageStartupMessages({\n",
    "    library(Seurat)\n",
    "    library(repr)\n",
    "    library(patchwork)\n",
    "    library(ggplot2)\n",
    "    library(Signac)\n",
    "    library(tidyverse)\n",
    "    library(GenomicRanges)\n",
    "    library(edgeR)\n",
    "    library(SingleCellExperiment)\n",
    "    library(Matrix)\n",
    "    library(scran)\n",
    "    library(scater)\n",
    "    library(ggrepel)\n",
    "    library(fs)\n",
    "    library(tidyverse)\n",
    "    library(randomForest)\n",
    "    library(reticulate)\n",
    "    library(pheatmap)\n",
    "    library(gridExtra)\n",
    "    library(RColorBrewer)\n",
    "    library(MAST)\n",
    "    library(data.table)\n",
    "    library(ComplexHeatmap)\n",
    "})\n",
    "options(future.globals.maxSize = Inf)\n",
    "options(Seurat.object.assay.version = \"v5\")\n",
    "options(ggrepel.max.overlaps = Inf)"
   ]
  },
  {
   "cell_type": "code",
   "execution_count": 2,
   "id": "9507e685-efc2-48ba-ab19-e99f747ad34d",
   "metadata": {
    "tags": []
   },
   "outputs": [],
   "source": [
    "root_dir <- \"/tscc/projects/ps-epigen/users/biy022/biccn/data/SNAREdata/cell_peak_matrix/\"\n",
    "setwd(root_dir)"
   ]
  },
  {
   "cell_type": "code",
   "execution_count": 3,
   "id": "d8e7953c-cf39-495c-9a34-036374c9d0cf",
   "metadata": {
    "tags": []
   },
   "outputs": [],
   "source": [
    "L5_ET_atac <- readRDS(\"L5_ET.rds\")"
   ]
  },
  {
   "cell_type": "code",
   "execution_count": 4,
   "id": "58c0d47f-1ca0-4e24-af1e-3052228f4af9",
   "metadata": {
    "tags": []
   },
   "outputs": [],
   "source": [
    "meta_data <- read.table(\n",
    "    \"../cell_gene_matrix/20230313_RNA_metadata.xls\", sep = \"\\t\", header = TRUE)"
   ]
  },
  {
   "cell_type": "code",
   "execution_count": 5,
   "id": "6f368685-59f1-4a56-ad8f-e7bd77c0beb2",
   "metadata": {
    "tags": []
   },
   "outputs": [],
   "source": [
    "write.table(\n",
    "    meta_data[colnames(L5_ET_atac), ], \"../scenicplus/L5_ET/L5_ET_meta_data.tsv\",\n",
    "    col.names = TRUE, row.names = TRUE, quote = FALSE, sep = \"\\t\")"
   ]
  },
  {
   "cell_type": "code",
   "execution_count": 6,
   "id": "18d2a774-84f7-4d57-b9ad-0582bd81139d",
   "metadata": {
    "tags": []
   },
   "outputs": [
    {
     "data": {
      "text/plain": [
       "NULL"
      ]
     },
     "metadata": {},
     "output_type": "display_data"
    }
   ],
   "source": [
    "writeMM(L5_ET_atac, \"../scenicplus/L5_ET/L5_ET_atac_matrix.mtx\")"
   ]
  },
  {
   "cell_type": "code",
   "execution_count": 7,
   "id": "08c89cf1-c2ea-40bb-9839-d24529d8e17b",
   "metadata": {
    "tags": []
   },
   "outputs": [],
   "source": [
    "write.table(\n",
    "    colnames(L5_ET_atac), \"../scenicplus/L5_ET/L5_ET_cell_barcodes.tsv\",\n",
    "    col.names = FALSE, quote = FALSE, sep = \"\\t\", row.names = FALSE)"
   ]
  },
  {
   "cell_type": "code",
   "execution_count": 8,
   "id": "b59e9792-c235-4511-b739-4d0b03da49d4",
   "metadata": {
    "tags": []
   },
   "outputs": [],
   "source": [
    "write.table(\n",
    "    rownames(L5_ET_atac), \"../scenicplus/L5_ET/L5_ET_atac_regions.tsv\",\n",
    "    col.names = FALSE, quote = FALSE, sep = \"\\t\", row.names = FALSE)"
   ]
  },
  {
   "cell_type": "code",
   "execution_count": null,
   "id": "9d505506-45f2-4bdc-b6d0-9be6f407da37",
   "metadata": {},
   "outputs": [],
   "source": []
  }
 ],
 "metadata": {
  "kernelspec": {
   "display_name": "R",
   "language": "R",
   "name": "ir"
  },
  "language_info": {
   "codemirror_mode": "r",
   "file_extension": ".r",
   "mimetype": "text/x-r-source",
   "name": "R",
   "pygments_lexer": "r",
   "version": "4.3.1"
  }
 },
 "nbformat": 4,
 "nbformat_minor": 5
}
