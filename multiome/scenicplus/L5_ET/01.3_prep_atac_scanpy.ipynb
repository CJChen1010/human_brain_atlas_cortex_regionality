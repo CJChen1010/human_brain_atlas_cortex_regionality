{
 "cells": [
  {
   "cell_type": "markdown",
   "id": "23b11155-da3d-422d-bb01-51cf9831a681",
   "metadata": {},
   "source": [
    "# Export ATAC to anndata"
   ]
  },
  {
   "cell_type": "code",
   "execution_count": 1,
   "id": "290a0434-3f44-4eab-8837-f3048d8fbabb",
   "metadata": {},
   "outputs": [],
   "source": [
    "import scanpy as sc\n",
    "import pandas as pd"
   ]
  },
  {
   "cell_type": "code",
   "execution_count": 2,
   "id": "a33b31ef-9004-4d78-80b2-fc140d3d82e8",
   "metadata": {},
   "outputs": [],
   "source": [
    "import os"
   ]
  },
  {
   "cell_type": "code",
   "execution_count": 3,
   "id": "298365d7-de2b-4ee1-8a06-9e2711360ee9",
   "metadata": {},
   "outputs": [],
   "source": [
    "from pathlib import Path\n",
    "root_dir = Path(\"/tscc/projects/ps-epigen/users/biy022/biccn/data/SNAREdata/scenicplus/\")\n",
    "os.chdir(root_dir / \"L5_ET\")"
   ]
  },
  {
   "cell_type": "code",
   "execution_count": 4,
   "id": "4d912772-ac77-4d60-a615-b4316ae88e93",
   "metadata": {},
   "outputs": [],
   "source": [
    "atac_counts = sc.read_mtx(\"L5_ET_atac_matrix.mtx\")"
   ]
  },
  {
   "cell_type": "code",
   "execution_count": 5,
   "id": "06aae5a3-d906-4095-83f0-a85cd99ebf52",
   "metadata": {},
   "outputs": [],
   "source": [
    "atac_counts = atac_counts.T.copy()"
   ]
  },
  {
   "cell_type": "code",
   "execution_count": 6,
   "id": "28fd1607-cbe3-488d-8d30-7061d9d6e758",
   "metadata": {},
   "outputs": [],
   "source": [
    "cell_meta = pd.read_csv(\"L5_ET_meta_data.tsv\", header=0, index_col=0, sep=\"\\t\")\n",
    "region_names = pd.read_csv(\"L5_ET_atac_regions.tsv\", header=None, index_col=0, sep=\"\\t\")\n",
    "region_names.index.name = None"
   ]
  },
  {
   "cell_type": "code",
   "execution_count": 7,
   "id": "f64cce35-9b3c-4f98-b31b-178670c56f33",
   "metadata": {},
   "outputs": [],
   "source": [
    "atac_counts.obs = cell_meta\n",
    "atac_counts.var = region_names"
   ]
  },
  {
   "cell_type": "code",
   "execution_count": 8,
   "id": "e4f6d953-3dc5-4d35-b8dc-aa7e212f10d0",
   "metadata": {},
   "outputs": [
    {
     "data": {
      "text/plain": [
       "AnnData object with n_obs × n_vars = 3772 × 554228\n",
       "    obs: 'orig.ident', 'nCount_RNA', 'nFeature_RNA', 'Batch', 'percent.mt', 'Major_Class', 'PatientID', 'Region', 'Subclass_F', 'Cell_type'"
      ]
     },
     "execution_count": 8,
     "metadata": {},
     "output_type": "execute_result"
    }
   ],
   "source": [
    "atac_counts"
   ]
  },
  {
   "cell_type": "code",
   "execution_count": 9,
   "id": "45fedd84-ae64-4dfb-8bce-589e044e0ab6",
   "metadata": {},
   "outputs": [],
   "source": [
    "atac_counts.write(\"L5_ET_atac_matrix.h5ad\")"
   ]
  },
  {
   "cell_type": "code",
   "execution_count": 10,
   "id": "a2900ad5-0a7d-44e2-b1d7-65c0b7cb2257",
   "metadata": {},
   "outputs": [
    {
     "data": {
      "text/plain": [
       "matrix([[1., 0., 1., 0., 2., 0., 1., 0., 0., 0., 0., 1., 0., 1., 0., 1.,\n",
       "         0., 1., 0., 0., 0., 2., 0., 1., 0., 0., 0., 0., 0., 0., 0., 2.,\n",
       "         0., 0., 0., 2., 1., 0., 0., 0., 0., 0., 0., 0., 1., 0., 0., 0.,\n",
       "         0., 0., 1., 1., 0., 0., 2., 0., 0., 0., 0., 0., 0., 0., 1., 2.,\n",
       "         0., 1., 1., 0., 0., 0., 1., 0., 0., 0., 0., 1., 0., 0., 0., 0.,\n",
       "         0., 1., 0., 0., 0., 0., 0., 0., 0., 2., 0., 0., 0., 0., 1., 0.,\n",
       "         0., 0., 0., 1.]], dtype=float32)"
      ]
     },
     "execution_count": 10,
     "metadata": {},
     "output_type": "execute_result"
    }
   ],
   "source": [
    "sum(atac_counts.X[0:100, 0:100].todense())"
   ]
  },
  {
   "cell_type": "code",
   "execution_count": null,
   "id": "e9356914-6c7f-46ce-bce4-5b316c91e845",
   "metadata": {},
   "outputs": [],
   "source": []
  }
 ],
 "metadata": {
  "kernelspec": {
   "display_name": "Python 3 (ipykernel)",
   "language": "python",
   "name": "python3"
  },
  "language_info": {
   "codemirror_mode": {
    "name": "ipython",
    "version": 3
   },
   "file_extension": ".py",
   "mimetype": "text/x-python",
   "name": "python",
   "nbconvert_exporter": "python",
   "pygments_lexer": "ipython3",
   "version": "3.11.9"
  }
 },
 "nbformat": 4,
 "nbformat_minor": 5
}
