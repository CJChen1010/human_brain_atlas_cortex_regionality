{
 "cells": [
  {
   "cell_type": "markdown",
   "id": "689261bb-f4df-43a4-836f-b0d613cc79fc",
   "metadata": {},
   "source": [
    "# Correlation with distance from rostral end"
   ]
  },
  {
   "cell_type": "code",
   "execution_count": 1,
   "id": "00c3a4b8-f09c-498f-bf66-59c1655a8f50",
   "metadata": {},
   "outputs": [],
   "source": [
    "import os\n",
    "from pathlib import Path\n",
    "import matplotlib.pyplot as plt\n",
    "root_dir = Path(\"/tscc/projects/ps-epigen/users/biy022/biccn/data/SNAREdata/scenicplus/\")\n",
    "os.chdir(root_dir / \"L4_IT\")\n",
    "plot_dir = Path(\"/tscc/projects/ps-epigen/users/biy022/biccn/analysis/scenicplus/L4_IT/figures/\")"
   ]
  },
  {
   "cell_type": "code",
   "execution_count": 2,
   "id": "24ca14b4-14bf-4852-b32d-99f5b94930b5",
   "metadata": {},
   "outputs": [],
   "source": [
    "import pandas as pd\n",
    "pd.options.mode.chained_assignment = None \n",
    "import scanpy as sc\n",
    "import decoupler as dc\n",
    "import numpy as np\n",
    "import scipy.stats as stats\n",
    "import seaborn as sns"
   ]
  },
  {
   "cell_type": "code",
   "execution_count": 3,
   "id": "fb039379-19cc-40d6-9763-7c0a2bd18f5c",
   "metadata": {},
   "outputs": [],
   "source": [
    "region_align = [\"A9\", \"A24\", \"FI\", \"M1C\", \"MTG\", \"S1C\", \"A1C\", \"AnG\", \"V1C\"]\n",
    "region_dist = [35, 60.5, 69, 87, 90.5, 94, 96.5, 133, 151]"
   ]
  },
  {
   "cell_type": "code",
   "execution_count": 4,
   "id": "a8ee11d7-c915-4914-ab16-defa98d82dc7",
   "metadata": {},
   "outputs": [],
   "source": [
    "L4_IT_rna = sc.read_h5ad(\"L4_IT_rna_matrix.h5ad\")\n",
    "L4_IT_rna_counts = L4_IT_rna.raw.to_adata()"
   ]
  },
  {
   "cell_type": "code",
   "execution_count": 5,
   "id": "6b6d5fd8-b2cd-4e0b-ab5f-536781458905",
   "metadata": {},
   "outputs": [],
   "source": [
    "L4_IT_rna_region_counts = dc.get_pseudobulk(\n",
    "    adata=L4_IT_rna_counts,\n",
    "    sample_col=\"Region\",\n",
    "    groups_col=None,\n",
    "    min_cells=0,\n",
    "    min_counts=0,\n",
    "    min_prop=0.0,\n",
    "    min_smpls=0,\n",
    "    remove_empty=True,\n",
    "    mode=\"sum\"\n",
    ")"
   ]
  },
  {
   "cell_type": "code",
   "execution_count": 6,
   "id": "0ef7cb7d-8826-4c47-b8e8-1b8dbbbae5e7",
   "metadata": {},
   "outputs": [
    {
     "name": "stderr",
     "output_type": "stream",
     "text": [
      "/tscc/nfs/home/biy022/miniconda3/envs/scenicplus/lib/python3.11/site-packages/scanpy/preprocessing/_normalization.py:155: UserWarning: Revieved a view of an AnnData. Making a copy.\n",
      "  view_to_actual(adata)\n"
     ]
    }
   ],
   "source": [
    "sc.pp.normalize_total(L4_IT_rna_region_counts, target_sum=1e6)\n",
    "sc.pp.log1p(L4_IT_rna_region_counts, base=2)"
   ]
  },
  {
   "cell_type": "code",
   "execution_count": 7,
   "id": "3e20a309-310f-481a-9c04-9076a18f20a0",
   "metadata": {},
   "outputs": [],
   "source": [
    "data_matrix = L4_IT_rna_region_counts[region_align, :].X"
   ]
  },
  {
   "cell_type": "code",
   "execution_count": 8,
   "id": "af7741d3-eac5-47f7-9671-cc5136ce8168",
   "metadata": {},
   "outputs": [],
   "source": [
    "import scipy.stats as stats"
   ]
  },
  {
   "cell_type": "code",
   "execution_count": 9,
   "id": "c73e27a8-49bd-4fd0-95e2-f3ec06ddc2aa",
   "metadata": {},
   "outputs": [],
   "source": [
    "b = np.array(region_dist)\n",
    "# b = np.arange(0, len(region_align))\n",
    "corrs = np.zeros(data_matrix.shape[1])\n",
    "pvalues = np.zeros(data_matrix.shape[1])\n",
    "\n",
    "for i in range(0, data_matrix.shape[1]):\n",
    "    a = data_matrix[:, i]\n",
    "    corr, pvalue = stats.pearsonr(a, b)\n",
    "    corrs[i] = corr\n",
    "    pvalues[i] = pvalue"
   ]
  },
  {
   "cell_type": "code",
   "execution_count": 10,
   "id": "6cea21f8-b9bd-4865-bca7-937220f1b1e6",
   "metadata": {},
   "outputs": [],
   "source": [
    "padjusted = stats.false_discovery_control(pvalues, method=\"bh\")"
   ]
  },
  {
   "cell_type": "code",
   "execution_count": 11,
   "id": "deedc9e3-7d80-4fbf-9705-5cea7b92d9fb",
   "metadata": {},
   "outputs": [],
   "source": [
    "pearson_result = pd.DataFrame({\n",
    "    \"gene\": L4_IT_rna_region_counts.var.index.to_list(),\n",
    "    \"corr\": corrs,\n",
    "    \"p_value\": pvalues,\n",
    "    \"p_adjusted\": padjusted,\n",
    "})"
   ]
  },
  {
   "cell_type": "code",
   "execution_count": 12,
   "id": "0084427e-39e2-4a1f-be69-a4b2151b6ebc",
   "metadata": {},
   "outputs": [
    {
     "data": {
      "text/plain": [
       "(0, 4)"
      ]
     },
     "execution_count": 12,
     "metadata": {},
     "output_type": "execute_result"
    }
   ],
   "source": [
    "pearson_result[pearson_result[\"p_adjusted\"] < 0.05].shape"
   ]
  },
  {
   "cell_type": "code",
   "execution_count": 13,
   "id": "aa6d5916-a717-451e-a368-535fcfbaa3f8",
   "metadata": {},
   "outputs": [],
   "source": [
    "positive_sig_genes = pearson_result[\n",
    "    (pearson_result[\"corr\"] > 0) & (pearson_result[\"p_adjusted\"] < 0.05)][\"gene\"].to_list()\n",
    "with open(\"rostral_caudal_dist_pearson/positive_genes_bh_5e-2.tsv\", \"w\") as fout:\n",
    "    for gene in positive_sig_genes:\n",
    "        fout.write(\"{}\\n\".format(gene))"
   ]
  },
  {
   "cell_type": "code",
   "execution_count": 14,
   "id": "2543c182-0344-4235-b248-f0f6a74d2249",
   "metadata": {},
   "outputs": [],
   "source": [
    "negative_sig_genes = pearson_result[\n",
    "    (pearson_result[\"corr\"] < 0) & (pearson_result[\"p_adjusted\"] < 0.05)][\"gene\"].to_list()\n",
    "with open(\"rostral_caudal_dist_pearson/negative_genes_bh_5e-2.tsv\", \"w\") as fout:\n",
    "    for gene in negative_sig_genes:\n",
    "        fout.write(\"{}\\n\".format(gene))"
   ]
  },
  {
   "cell_type": "code",
   "execution_count": 15,
   "id": "b7a7d5a9-4da2-45d7-9390-9be132c4ba6f",
   "metadata": {},
   "outputs": [],
   "source": [
    "L4_IT_rna_region_counts.obs[\"Region\"] = pd.Categorical(\n",
    "    L4_IT_rna_region_counts.obs[\"Region\"], categories=region_align)"
   ]
  },
  {
   "cell_type": "code",
   "execution_count": null,
   "id": "5be27976-5931-42d3-a2d3-d3178e8f1e4c",
   "metadata": {},
   "outputs": [],
   "source": []
  }
 ],
 "metadata": {
  "kernelspec": {
   "display_name": "Python 3 (ipykernel)",
   "language": "python",
   "name": "python3"
  },
  "language_info": {
   "codemirror_mode": {
    "name": "ipython",
    "version": 3
   },
   "file_extension": ".py",
   "mimetype": "text/x-python",
   "name": "python",
   "nbconvert_exporter": "python",
   "pygments_lexer": "ipython3",
   "version": "3.11.9"
  }
 },
 "nbformat": 4,
 "nbformat_minor": 5
}
