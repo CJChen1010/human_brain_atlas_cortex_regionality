{
 "cells": [
  {
   "cell_type": "markdown",
   "id": "648a8c34-fed2-44e5-a21d-51254f7b94c5",
   "metadata": {},
   "source": [
    "# Overlapping genes of the two axis"
   ]
  },
  {
   "cell_type": "code",
   "execution_count": 1,
   "id": "ee011e6d-96d2-4fcf-b970-e8cdc432eeb7",
   "metadata": {},
   "outputs": [],
   "source": [
    "import pandas as pd\n",
    "import os\n",
    "from pathlib import Path\n",
    "import re"
   ]
  },
  {
   "cell_type": "code",
   "execution_count": 2,
   "id": "7168b133-1113-4a26-bad4-8697db122095",
   "metadata": {},
   "outputs": [],
   "source": [
    "# Paths\n",
    "root_dir = \"/tscc/projects/ps-epigen/users/biy022/biccn/data/SNAREdata/scenicplus/other_celltypes/\"\n",
    "rc_dir = Path(root_dir) / \"corr_genes_7e-1_1e-2_expr_filtered/\"\n",
    "st_dir = Path(root_dir) / \"corr_genes_ST_7e-1_1e-2_expr_filtered/\""
   ]
  },
  {
   "cell_type": "code",
   "execution_count": 3,
   "id": "c6725354-df50-4ac1-9a4f-3b673acbb0cf",
   "metadata": {},
   "outputs": [
    {
     "name": "stdout",
     "output_type": "stream",
     "text": [
      "Micro: 0\n",
      "L6_IT: 6\n",
      "Astro: 3\n",
      "SNCG: 2\n",
      "VIP: 6\n",
      "L4_IT: 7\n",
      "Chandelier: 5\n",
      "L5_ET: 12\n",
      "PVALB: 1\n",
      "SST_CHODL: 0\n",
      "Endo: 0\n",
      "Oligo: 0\n",
      "L6B: 3\n",
      "VLMC: 0\n",
      "LAMP5_LHX6: 3\n",
      "L5_IT: 10\n",
      "L6_CT: 9\n",
      "L6_IT_Car3: 9\n",
      "L5_6_NP: 5\n",
      "PAX6: 0\n",
      "LAMP5: 0\n",
      "SST: 16\n",
      "L2_3_IT: 47\n",
      "OPC: 0\n"
     ]
    }
   ],
   "source": [
    "pattern = re.compile(r\"([\\w_]+)_positive.tsv\")\n",
    "for rc_path in rc_dir.glob(\"*_positive.tsv\"):\n",
    "    file_path = rc_path.name\n",
    "    result = pattern.search(file_path)\n",
    "    celltype = result.group(1)\n",
    "    st_path = st_dir / file_path\n",
    "\n",
    "    if rc_path.stat().st_size == 0 or st_path.stat().st_size == 0:\n",
    "        print(\"{}: {}\".format(celltype, 0))\n",
    "        continue\n",
    "    rc_genes = set(pd.read_csv(rc_path, sep=\"\\t\", header=None)[0].to_list())\n",
    "    st_genes = set(pd.read_csv(st_path, sep=\"\\t\", header=None)[0].to_list())\n",
    "    print(\"{}: {}\".format(celltype, len(rc_genes & st_genes)))"
   ]
  },
  {
   "cell_type": "code",
   "execution_count": 4,
   "id": "89b881bc-4738-4add-b226-821aa8eb3074",
   "metadata": {},
   "outputs": [
    {
     "name": "stdout",
     "output_type": "stream",
     "text": [
      "L5_ET: 12\n",
      "VLMC: 0\n",
      "L5_IT: 13\n",
      "L4_IT: 18\n",
      "Oligo: 0\n",
      "L6B: 6\n",
      "VIP: 21\n",
      "L6_IT: 4\n",
      "PVALB: 3\n",
      "SST_CHODL: 0\n",
      "Astro: 1\n",
      "PAX6: 0\n",
      "Chandelier: 2\n",
      "Micro: 0\n",
      "LAMP5_LHX6: 7\n",
      "LAMP5: 2\n",
      "L2_3_IT: 49\n",
      "L5_6_NP: 22\n",
      "Endo: 0\n",
      "SNCG: 1\n",
      "L6_CT: 15\n",
      "SST: 14\n",
      "L6_IT_Car3: 12\n",
      "OPC: 0\n"
     ]
    }
   ],
   "source": [
    "pattern = re.compile(r\"([\\w_]+)_negative.tsv\")\n",
    "for rc_path in rc_dir.glob(\"*_negative.tsv\"):\n",
    "    file_path = rc_path.name\n",
    "    result = pattern.search(file_path)\n",
    "    celltype = result.group(1)\n",
    "    st_path = st_dir / file_path\n",
    "\n",
    "    if rc_path.stat().st_size == 0 or st_path.stat().st_size == 0:\n",
    "        print(\"{}: {}\".format(celltype, 0))\n",
    "        continue\n",
    "    rc_genes = set(pd.read_csv(rc_path, sep=\"\\t\", header=None)[0].to_list())\n",
    "    st_genes = set(pd.read_csv(st_path, sep=\"\\t\", header=None)[0].to_list())\n",
    "    print(\"{}: {}\".format(celltype, len(rc_genes & st_genes)))"
   ]
  },
  {
   "cell_type": "code",
   "execution_count": null,
   "id": "03b8c3be-5c4b-4c0d-be17-dda7e6165706",
   "metadata": {},
   "outputs": [],
   "source": []
  }
 ],
 "metadata": {
  "kernelspec": {
   "display_name": "Python 3 (ipykernel)",
   "language": "python",
   "name": "python3"
  },
  "language_info": {
   "codemirror_mode": {
    "name": "ipython",
    "version": 3
   },
   "file_extension": ".py",
   "mimetype": "text/x-python",
   "name": "python",
   "nbconvert_exporter": "python",
   "pygments_lexer": "ipython3",
   "version": "3.11.9"
  }
 },
 "nbformat": 4,
 "nbformat_minor": 5
}
