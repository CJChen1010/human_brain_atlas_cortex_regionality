{
 "cells": [
  {
   "cell_type": "markdown",
   "id": "11433000-c533-444b-bcce-11c0237c58d7",
   "metadata": {},
   "source": [
    "# Aggregate and plot LDSC results for all phenotypes"
   ]
  },
  {
   "cell_type": "code",
   "execution_count": 1,
   "id": "426ff72b-1220-4118-ab22-6758d8a4fffd",
   "metadata": {
    "tags": []
   },
   "outputs": [],
   "source": [
    "import os\n",
    "import re\n",
    "from pathlib import Path"
   ]
  },
  {
   "cell_type": "code",
   "execution_count": 2,
   "id": "f1ee1537-87f7-4cea-8588-9a12cb8e1465",
   "metadata": {
    "tags": []
   },
   "outputs": [],
   "source": [
    "curr_path = Path(\n",
    "    \"/tscc/projects/ps-epigen/users/biy022/biccn/data/SNAREdata/scenicplus/L4_IT/LDSC_spearman_corr//\")"
   ]
  },
  {
   "cell_type": "code",
   "execution_count": 3,
   "id": "6c84ae82-5b92-4d30-a40c-37516581fd85",
   "metadata": {
    "tags": []
   },
   "outputs": [],
   "source": [
    "LDSC_results_files = list(curr_path.glob(\"results/*cell_type_results.txt\"))"
   ]
  },
  {
   "cell_type": "code",
   "execution_count": 4,
   "id": "34dfad3f-efa9-4fbe-bcda-183d570588aa",
   "metadata": {
    "tags": []
   },
   "outputs": [
    {
     "data": {
      "text/plain": [
       "'SAIGE.UKBB.2018.Tobacco_use_disorder.regions.cell_type_results.txt'"
      ]
     },
     "execution_count": 4,
     "metadata": {},
     "output_type": "execute_result"
    }
   ],
   "source": [
    "LDSC_results_files[0].name"
   ]
  },
  {
   "cell_type": "code",
   "execution_count": 5,
   "id": "6acd5d51-f9d1-45cd-aef3-450fc2d3d7b3",
   "metadata": {
    "tags": []
   },
   "outputs": [
    {
     "data": {
      "text/plain": [
       "'SAIGE.UKBB.2018.Tobacco_use_disorder'"
      ]
     },
     "execution_count": 5,
     "metadata": {},
     "output_type": "execute_result"
    }
   ],
   "source": [
    "pattern = re.compile(r'([A-Za-z0-9._-]+)\\.regions\\.cell_type_results\\.txt')\n",
    "result = pattern.match(LDSC_results_files[0].name)\n",
    "result.group(1)"
   ]
  },
  {
   "cell_type": "code",
   "execution_count": 6,
   "id": "d122665b-6121-4f0d-b44f-a039652c7c43",
   "metadata": {
    "tags": []
   },
   "outputs": [],
   "source": [
    "with open(curr_path / \"LDSC_aggregate_results.txt\", 'w') as output_file:\n",
    "    output_file.write('phenotype\\tsubclass\\tcoefficient\\tcoefficient_ste\\tpvalue\\n')\n",
    "    for ldsc_path in LDSC_results_files:\n",
    "        file_name = ldsc_path.name\n",
    "        result = pattern.match(file_name)\n",
    "        if result is None:\n",
    "            print(file_name)\n",
    "        else:\n",
    "            pheno_category = result.group(1)\n",
    "            with ldsc_path.open() as f:\n",
    "                next(f)\n",
    "                for curr_line in f:\n",
    "                    curr_line = curr_line.strip()\n",
    "                    curr_line_contents = curr_line.split('\\t')\n",
    "                    cell_type = curr_line_contents[0]\n",
    "                    coefficient = curr_line_contents[1]\n",
    "                    coefficient_ste = curr_line_contents[2]\n",
    "                    pvalue = curr_line_contents[3]\n",
    "\n",
    "                    output_file.write('{0}\\t{1}\\t{2}\\t{3}\\t{4}\\n'.format(\n",
    "                        pheno_category, cell_type, coefficient, coefficient_ste, pvalue))"
   ]
  },
  {
   "cell_type": "code",
   "execution_count": null,
   "id": "a70ceda8-8977-4399-9be1-55e35b574ea3",
   "metadata": {},
   "outputs": [],
   "source": []
  }
 ],
 "metadata": {
  "kernelspec": {
   "display_name": "Python 3 (ipykernel)",
   "language": "python",
   "name": "python3"
  },
  "language_info": {
   "codemirror_mode": {
    "name": "ipython",
    "version": 3
   },
   "file_extension": ".py",
   "mimetype": "text/x-python",
   "name": "python",
   "nbconvert_exporter": "python",
   "pygments_lexer": "ipython3",
   "version": "3.9.17"
  }
 },
 "nbformat": 4,
 "nbformat_minor": 5
}
