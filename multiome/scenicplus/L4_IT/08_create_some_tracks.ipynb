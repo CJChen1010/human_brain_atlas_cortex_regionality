{
 "cells": [
  {
   "cell_type": "markdown",
   "id": "0dfd039f-63d4-4b9c-9ea7-133a84f7b6b9",
   "metadata": {},
   "source": [
    "# Create some tracks"
   ]
  },
  {
   "cell_type": "code",
   "execution_count": 1,
   "id": "526cf736-742d-4e19-9127-2604222e0c6d",
   "metadata": {},
   "outputs": [],
   "source": [
    "import pandas as pd\n",
    "import numpy as np\n",
    "import math\n",
    "from matplotlib_venn import venn2, venn2_circles\n",
    "from matplotlib import rcParams\n",
    "import matplotlib.pyplot as plt\n",
    "import seaborn as sns\n",
    "import scanpy as sc\n",
    "import decoupler as dc\n",
    "rcParams[\"font.family\"] = \"Ubuntu Mono\""
   ]
  },
  {
   "cell_type": "code",
   "execution_count": 2,
   "id": "5915a57f-21b8-4de3-97c9-1de3bb30032a",
   "metadata": {},
   "outputs": [],
   "source": [
    "from pathlib import Path\n",
    "import os"
   ]
  },
  {
   "cell_type": "code",
   "execution_count": 3,
   "id": "8be18185-f377-4dbf-8b6e-05eefbffeeb4",
   "metadata": {},
   "outputs": [],
   "source": [
    "root_dir = \"/tscc/projects/ps-epigen/users/biy022/biccn/data/SNAREdata/scenicplus/L4_IT/\"\n",
    "os.chdir(root_dir)\n",
    "figure_dir = Path(\"/tscc/projects/ps-epigen/users/biy022/biccn/analysis/final_figures/receptor_subunits/\")"
   ]
  },
  {
   "cell_type": "code",
   "execution_count": 4,
   "id": "b43530f2-2f4b-4da5-823e-e02e0c69ee57",
   "metadata": {},
   "outputs": [],
   "source": [
    "direct_table = pd.read_csv(\"scplus_outputs/eRegulon_direct.tsv\", sep=\"\\t\", header=0)\n",
    "extend_table = pd.read_csv(\"scplus_outputs/eRegulons_extended.tsv\", sep=\"\\t\", header=0)\n",
    "regulons_table = pd.concat([direct_table, extend_table], axis=0)\n",
    "regulons_table.reset_index(drop=True, inplace=True)\n",
    "regulons_table = regulons_table[regulons_table[\"eRegulon_name\"].str.endswith(\"+/+\")].copy()"
   ]
  },
  {
   "cell_type": "code",
   "execution_count": 7,
   "id": "33b584a8-40a2-42db-b4a8-1a95deb65e8a",
   "metadata": {},
   "outputs": [],
   "source": [
    "TFs = [\"KLF12\"]\n",
    "genes = [\"PRKCA\"]\n",
    "selected_table = regulons_table[(regulons_table[\"TF\"].isin(TFs)) & (regulons_table[\"Gene\"].isin(genes))]"
   ]
  },
  {
   "cell_type": "code",
   "execution_count": 8,
   "id": "324bcaf0-b215-48bb-9e92-416892508c8c",
   "metadata": {},
   "outputs": [],
   "source": [
    "gene_coords = {\n",
    "    \"PRKCA\": (\"chr17\", 66302512, 66302612)\n",
    "}\n",
    "output_file = \"klf12_prkca.longrange\"\n",
    "with open(output_file, \"w\") as fout:\n",
    "    for gene, subdf in selected_table.groupby(\"Gene\"):\n",
    "        chrom, start, end = gene_coords[gene]\n",
    "        for region in subdf[\"Region\"].unique():\n",
    "            fout.write(f\"{chrom}\\t{start}\\t{end}\\t{region},55\\n\")"
   ]
  },
  {
   "cell_type": "code",
   "execution_count": null,
   "id": "3161b24a-8c61-4235-85f6-2df452748a93",
   "metadata": {},
   "outputs": [],
   "source": []
  }
 ],
 "metadata": {
  "kernelspec": {
   "display_name": "Python 3 (ipykernel)",
   "language": "python",
   "name": "python3"
  },
  "language_info": {
   "codemirror_mode": {
    "name": "ipython",
    "version": 3
   },
   "file_extension": ".py",
   "mimetype": "text/x-python",
   "name": "python",
   "nbconvert_exporter": "python",
   "pygments_lexer": "ipython3",
   "version": "3.11.9"
  }
 },
 "nbformat": 4,
 "nbformat_minor": 5
}
