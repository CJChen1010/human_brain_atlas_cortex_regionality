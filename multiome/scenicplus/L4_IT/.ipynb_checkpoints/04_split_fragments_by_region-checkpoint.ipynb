{
 "cells": [
  {
   "cell_type": "markdown",
   "id": "498c31cc-a190-488b-8046-852c260328ed",
   "metadata": {},
   "source": [
    "# Split fragment files into region"
   ]
  },
  {
   "cell_type": "code",
   "execution_count": 1,
   "id": "af08804d-64dc-4f81-acd1-ee6a930ac641",
   "metadata": {
    "tags": []
   },
   "outputs": [],
   "source": [
    "suppressPackageStartupMessages({\n",
    "    library(Seurat)\n",
    "    library(repr)\n",
    "    library(patchwork)\n",
    "    library(ggplot2)\n",
    "    library(Signac)\n",
    "    library(tidyverse)\n",
    "    library(GenomicRanges)\n",
    "    library(edgeR)\n",
    "    library(SingleCellExperiment)\n",
    "    library(Matrix)\n",
    "    library(scran)\n",
    "    library(scater)\n",
    "    library(ggrepel)\n",
    "    library(fs)\n",
    "    library(tidyverse)\n",
    "    library(randomForest)\n",
    "    library(reticulate)\n",
    "    library(pheatmap)\n",
    "    library(gridExtra)\n",
    "    library(RColorBrewer)\n",
    "    library(MAST)\n",
    "    library(data.table)\n",
    "    library(ComplexHeatmap)\n",
    "})\n",
    "options(future.globals.maxSize = Inf)\n",
    "options(Seurat.object.assay.version = \"v5\")\n",
    "options(ggrepel.max.overlaps = Inf)"
   ]
  },
  {
   "cell_type": "code",
   "execution_count": 2,
   "id": "d70ec994-4384-4070-a9d6-b81d1130d0d9",
   "metadata": {
    "tags": []
   },
   "outputs": [],
   "source": [
    "setwd(\"/tscc/projects/ps-epigen/users/biy022/biccn/data/SNAREdata/\")"
   ]
  },
  {
   "cell_type": "code",
   "execution_count": 3,
   "id": "cc818f6d-6dc2-4052-b525-715dcdf22121",
   "metadata": {
    "tags": []
   },
   "outputs": [],
   "source": [
    "atac_counts <- readMM(\"scenicplus/L4_IT/L4_IT_atac_matrix.mtx\")"
   ]
  },
  {
   "cell_type": "code",
   "execution_count": 4,
   "id": "89e6f5d3-c6ad-4288-841b-57a63016e843",
   "metadata": {
    "tags": []
   },
   "outputs": [
    {
     "name": "stderr",
     "output_type": "stream",
     "text": [
      "'as(<dgTMatrix>, \"dgCMatrix\")' is deprecated.\n",
      "Use 'as(., \"CsparseMatrix\")' instead.\n",
      "See help(\"Deprecated\") and help(\"Matrix-deprecated\").\n",
      "\n"
     ]
    }
   ],
   "source": [
    "atac_counts <- as(atac_counts, \"dgCMatrix\")"
   ]
  },
  {
   "cell_type": "code",
   "execution_count": 5,
   "id": "1d82bc0f-93a7-473e-95bf-e6b6661c24f7",
   "metadata": {
    "tags": []
   },
   "outputs": [],
   "source": [
    "region_names <- read.table(\n",
    "    \"scenicplus/L4_IT/L4_IT_atac_regions.tsv\", \n",
    "    header = FALSE, sep = \"\\t\"\n",
    ")$V1\n",
    "cell_barcodes <- read.table(\n",
    "    \"scenicplus/L4_IT/L4_IT_cell_barcodes.tsv\",\n",
    "    header = FALSE, sep = \"\\t\"\n",
    ")$V1"
   ]
  },
  {
   "cell_type": "code",
   "execution_count": 6,
   "id": "bb036fab-a8f5-4d72-8393-757785443b19",
   "metadata": {
    "tags": []
   },
   "outputs": [],
   "source": [
    "rownames(atac_counts) <- region_names\n",
    "colnames(atac_counts) <- cell_barcodes"
   ]
  },
  {
   "cell_type": "code",
   "execution_count": 7,
   "id": "932ab5a3-d329-4a38-b38e-a23e95395d4c",
   "metadata": {
    "tags": []
   },
   "outputs": [
    {
     "name": "stderr",
     "output_type": "stream",
     "text": [
      "Warning message in CreateChromatinAssay(counts = atac_counts, fragments = \"subclass_fragments/L4_IT.sorted.bed.gz\", :\n",
      "“Overlapping ranges supplied. Ranges should be non-overlapping.”\n",
      "Computing hash\n",
      "\n"
     ]
    }
   ],
   "source": [
    "chrom_assay <- CreateChromatinAssay(\n",
    "    counts = atac_counts,\n",
    "    fragments = \"subclass_fragments/L4_IT.sorted.bed.gz\",\n",
    "    sep = c(\"-\", \"-\")\n",
    ")"
   ]
  },
  {
   "cell_type": "code",
   "execution_count": 8,
   "id": "848f5b0f-e6f4-4966-a3e4-a9f04ad7cc12",
   "metadata": {
    "tags": []
   },
   "outputs": [],
   "source": [
    "meta_data <- read.table(\n",
    "    \"scenicplus/L4_IT/L4_IT_meta_data.tsv\",\n",
    "    header = TRUE, row.names = 1, sep = \"\\t\"\n",
    ")"
   ]
  },
  {
   "cell_type": "code",
   "execution_count": 9,
   "id": "4b574ab9-0c7d-47b9-88c6-a6ba4d51d00f",
   "metadata": {
    "tags": []
   },
   "outputs": [],
   "source": [
    "seurat_object <- CreateSeuratObject(\n",
    "    counts = chrom_assay,\n",
    "    assay = \"ATAC\",\n",
    "    meta.data = meta_data\n",
    ")"
   ]
  },
  {
   "cell_type": "code",
   "execution_count": 10,
   "id": "a77d4f16-27ec-474b-8a61-f10cc5d142f2",
   "metadata": {
    "tags": []
   },
   "outputs": [],
   "source": [
    "saveRDS(seurat_object, \"scenicplus/L4_IT/L4_IT_atac_object.rds\")"
   ]
  },
  {
   "cell_type": "markdown",
   "id": "487d0d88-9942-436e-b8d7-ea3ff8c34607",
   "metadata": {},
   "source": [
    "## Splitting"
   ]
  },
  {
   "cell_type": "code",
   "execution_count": 2,
   "id": "6dfe632c-7d42-495d-a9ce-58df68bd02c8",
   "metadata": {
    "tags": []
   },
   "outputs": [],
   "source": [
    "setwd(\"/tscc/projects/ps-epigen/users/biy022/biccn/data/SNAREdata/scenicplus/L4_IT/\")"
   ]
  },
  {
   "cell_type": "code",
   "execution_count": 3,
   "id": "92169f7f-3428-4767-80c4-6e3f9b860bb0",
   "metadata": {
    "tags": []
   },
   "outputs": [],
   "source": [
    "seurat_object <- readRDS(\"L4_IT_atac_object.rds\")"
   ]
  },
  {
   "cell_type": "code",
   "execution_count": 4,
   "id": "2fe303c4-fd34-43e5-9436-b0f26f96cc07",
   "metadata": {
    "tags": []
   },
   "outputs": [
    {
     "name": "stderr",
     "output_type": "stream",
     "text": [
      "Processing file /tscc/projects/ps-epigen/users/biy022/biccn/data/SNAREdata/subclass_fragments/L4_IT.sorted.bed.gz\n",
      "\n",
      "\n",
      "\n",
      "\n"
     ]
    }
   ],
   "source": [
    "SplitFragments(\n",
    "    seurat_object,\n",
    "    assay = \"ATAC\",\n",
    "    group.by = \"Region\",\n",
    "    outdir = \"regional_atac_fragments/\"\n",
    ")"
   ]
  },
  {
   "cell_type": "code",
   "execution_count": null,
   "id": "4aba3065-6988-4b0e-8c65-4bce090ebf07",
   "metadata": {},
   "outputs": [],
   "source": []
  }
 ],
 "metadata": {
  "kernelspec": {
   "display_name": "R",
   "language": "R",
   "name": "ir"
  },
  "language_info": {
   "codemirror_mode": "r",
   "file_extension": ".r",
   "mimetype": "text/x-r-source",
   "name": "R",
   "pygments_lexer": "r",
   "version": "4.3.1"
  }
 },
 "nbformat": 4,
 "nbformat_minor": 5
}
