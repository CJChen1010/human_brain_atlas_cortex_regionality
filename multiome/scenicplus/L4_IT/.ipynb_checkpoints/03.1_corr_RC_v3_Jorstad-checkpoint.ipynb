{
 "cells": [
  {
   "cell_type": "markdown",
   "id": "d06a8f1d-f83d-4d5d-81d3-f04caa188841",
   "metadata": {},
   "source": [
    "# Use method described in Jorstad 2023 Science"
   ]
  },
  {
   "cell_type": "code",
   "execution_count": 1,
   "id": "5a535c40-e538-4212-a5bf-f9bd86acbb10",
   "metadata": {},
   "outputs": [],
   "source": [
    "import os\n",
    "from pathlib import Path\n",
    "import matplotlib.pyplot as plt\n",
    "root_dir = Path(\"/tscc/projects/ps-epigen/users/biy022/biccn/data/SNAREdata/scenicplus/\")\n",
    "os.chdir(root_dir / \"L4_IT\")\n",
    "plot_dir = Path(\"/tscc/projects/ps-epigen/users/biy022/biccn/analysis/scenicplus/L4_IT/figures/\")"
   ]
  },
  {
   "cell_type": "code",
   "execution_count": 2,
   "id": "b4e48a0c-f3bf-41e2-8fb6-a1dbdf6720f4",
   "metadata": {},
   "outputs": [],
   "source": [
    "import pandas as pd\n",
    "pd.options.mode.chained_assignment = None \n",
    "import scanpy as sc\n",
    "import decoupler as dc\n",
    "import numpy as np\n",
    "import scipy.stats as stats\n",
    "import seaborn as sns"
   ]
  },
  {
   "cell_type": "markdown",
   "id": "2b67dcf8-0128-4105-998f-6f901135e0ac",
   "metadata": {},
   "source": [
    "## RNA spearman / donor as replicate"
   ]
  },
  {
   "cell_type": "code",
   "execution_count": 3,
   "id": "6ee0c8da-8be2-4f3c-9764-dc63967175fd",
   "metadata": {},
   "outputs": [],
   "source": [
    "L4_IT_rna = sc.read_h5ad(\"L4_IT_rna_matrix.h5ad\")\n",
    "L4_IT_rna_counts = L4_IT_rna.raw.to_adata()"
   ]
  },
  {
   "cell_type": "code",
   "execution_count": 4,
   "id": "e2430d1a-fbd5-483a-8131-3d15378d7606",
   "metadata": {},
   "outputs": [],
   "source": [
    "L4_IT_rna_counts.obs[\"Donor_Region\"] = \\\n",
    "    L4_IT_rna_counts.obs[\"PatientID\"].astype(\"str\") + \"_\" + L4_IT_rna_counts.obs[\"Region\"].astype(\"str\")"
   ]
  },
  {
   "cell_type": "code",
   "execution_count": 5,
   "id": "e07fbaa0-c216-4d44-9e4d-0dcca3c1de0c",
   "metadata": {},
   "outputs": [],
   "source": [
    "L4_IT_rna_region_counts = dc.get_pseudobulk(\n",
    "    adata=L4_IT_rna_counts,\n",
    "    sample_col=\"Donor_Region\",\n",
    "    groups_col=None,\n",
    "    min_cells=0,\n",
    "    min_counts=0,\n",
    "    min_prop=0.0,\n",
    "    min_smpls=0,\n",
    "    remove_empty=True,\n",
    "    mode=\"sum\"\n",
    ")"
   ]
  },
  {
   "cell_type": "code",
   "execution_count": 6,
   "id": "ea6d58a6-404b-4a92-8ee2-166d830cfa06",
   "metadata": {},
   "outputs": [
    {
     "name": "stderr",
     "output_type": "stream",
     "text": [
      "/tscc/nfs/home/biy022/miniconda3/envs/scenicplus/lib/python3.11/site-packages/scanpy/preprocessing/_normalization.py:155: UserWarning: Revieved a view of an AnnData. Making a copy.\n",
      "  view_to_actual(adata)\n"
     ]
    }
   ],
   "source": [
    "sc.pp.normalize_total(L4_IT_rna_region_counts, target_sum=1e6)\n",
    "sc.pp.log1p(L4_IT_rna_region_counts, base=2)"
   ]
  },
  {
   "cell_type": "code",
   "execution_count": 7,
   "id": "d81413b2-a44a-43a9-93da-a348b4042418",
   "metadata": {},
   "outputs": [],
   "source": [
    "region_align = [\"A24\", \"A9\", \"FI\", \"M1C\", \"S1C\", \"MTG\", \"A1C\", \"AnG\", \"V1C\"]\n",
    "L4_IT_rna_region_counts.obs[\"Region\"] = pd.Categorical(\n",
    "    L4_IT_rna_region_counts.obs[\"Region\"], categories=region_align\n",
    ")"
   ]
  },
  {
   "cell_type": "code",
   "execution_count": 8,
   "id": "3bee2d3b-ff04-4757-89b4-e3cefeb41c32",
   "metadata": {},
   "outputs": [],
   "source": [
    "sorted_index = L4_IT_rna_region_counts.obs.sort_values(by=\"Region\").index"
   ]
  },
  {
   "cell_type": "code",
   "execution_count": 9,
   "id": "1ed8e361-7cc3-4956-8f2d-ce2331a82017",
   "metadata": {},
   "outputs": [],
   "source": [
    "b = L4_IT_rna_region_counts.obs.loc[sorted_index, \"Region\"].cat.codes.to_list()\n",
    "data_matrix = L4_IT_rna_region_counts[sorted_index, :].X\n",
    "corrs = np.zeros(data_matrix.shape[1])\n",
    "pvalues = np.zeros(data_matrix.shape[1])\n",
    "\n",
    "for i in range(0, data_matrix.shape[1]):\n",
    "    a = data_matrix[:, i]\n",
    "    corr, pvalue = stats.spearmanr(a, b)\n",
    "    corrs[i] = corr\n",
    "    pvalues[i] = pvalue"
   ]
  },
  {
   "cell_type": "code",
   "execution_count": 10,
   "id": "74c73b89-2795-4f40-89fe-85c124fb4ffc",
   "metadata": {},
   "outputs": [],
   "source": [
    "padjusted = stats.false_discovery_control(pvalues, method=\"bh\")"
   ]
  },
  {
   "cell_type": "code",
   "execution_count": 11,
   "id": "cc699125-e2fe-4c74-ac1f-dc1730e3378e",
   "metadata": {},
   "outputs": [],
   "source": [
    "spearman_result_all = pd.DataFrame({\n",
    "    \"gene\": L4_IT_rna_region_counts.var.index.to_list(),\n",
    "    \"corr\": corrs,\n",
    "    \"p_value\": pvalues,\n",
    "    \"p_adjusted\": padjusted,\n",
    "})"
   ]
  },
  {
   "cell_type": "code",
   "execution_count": 12,
   "id": "1b24f157-c5d6-4e83-a1dd-da6768e35d60",
   "metadata": {},
   "outputs": [],
   "source": [
    "L4_IT_rna_region_counts_mid = L4_IT_rna_region_counts[\n",
    "    ~(L4_IT_rna_region_counts.obs[\"Region\"].isin([\"A24\", \"V1C\"]))].copy()\n",
    "non_zero_genes = np.any(L4_IT_rna_region_counts_mid.X != 0, axis=0)\n",
    "L4_IT_rna_region_counts_mid = L4_IT_rna_region_counts_mid[:, non_zero_genes].copy()\n",
    "region_align_mid = [\"A9\", \"FI\", \"M1C\", \"S1C\", \"MTG\", \"A1C\", \"AnG\"]\n",
    "L4_IT_rna_region_counts_mid.obs[\"Region\"] = pd.Categorical(\n",
    "    L4_IT_rna_region_counts_mid.obs[\"Region\"], categories=region_align_mid\n",
    ")"
   ]
  },
  {
   "cell_type": "code",
   "execution_count": 13,
   "id": "ef4f5926-c425-4e24-890f-6505f3820691",
   "metadata": {},
   "outputs": [],
   "source": [
    "sorted_index = L4_IT_rna_region_counts_mid.obs.sort_values(by=\"Region\").index"
   ]
  },
  {
   "cell_type": "code",
   "execution_count": 14,
   "id": "0aa048b1-068d-49a7-ab3a-4802cba4f309",
   "metadata": {},
   "outputs": [],
   "source": [
    "b = L4_IT_rna_region_counts_mid.obs.loc[sorted_index, \"Region\"].cat.codes.to_list()\n",
    "data_matrix = L4_IT_rna_region_counts_mid[sorted_index, :].X\n",
    "corrs = np.zeros(data_matrix.shape[1])\n",
    "pvalues = np.zeros(data_matrix.shape[1])\n",
    "\n",
    "for i in range(0, data_matrix.shape[1]):\n",
    "    a = data_matrix[:, i]\n",
    "    corr, pvalue = stats.spearmanr(a, b)\n",
    "    corrs[i] = corr\n",
    "    pvalues[i] = pvalue"
   ]
  },
  {
   "cell_type": "code",
   "execution_count": 15,
   "id": "e4e1b940-3956-4b6b-a156-e044e29e58b2",
   "metadata": {},
   "outputs": [],
   "source": [
    "padjusted = stats.false_discovery_control(pvalues, method=\"bh\")"
   ]
  },
  {
   "cell_type": "code",
   "execution_count": 16,
   "id": "a092e4bd-97fa-455a-9dd5-aa838f917e2e",
   "metadata": {},
   "outputs": [],
   "source": [
    "spearman_result_mid = pd.DataFrame({\n",
    "    \"gene\": L4_IT_rna_region_counts_mid.var.index.to_list(),\n",
    "    \"corr\": corrs,\n",
    "    \"p_value\": pvalues,\n",
    "    \"p_adjusted\": padjusted,\n",
    "})"
   ]
  },
  {
   "cell_type": "code",
   "execution_count": 17,
   "id": "0d342004-9a3d-4213-a3a2-74f1818b31f3",
   "metadata": {},
   "outputs": [],
   "source": [
    "corr_set1 = spearman_result_all[spearman_result_all[\"corr\"] > 0.7][\"gene\"].to_list()\n",
    "corr_set2 = spearman_result_mid[spearman_result_mid[\"corr\"] > 0.5][\"gene\"].to_list()\n",
    "corr_set = list(set(corr_set1) & set(corr_set2))\n",
    "with open(\"rostral_caudal_spearman/positive_genes_all_7e-1_mid7_5e-1.tsv\", \"w\") as fout:\n",
    "    for gene in corr_set:\n",
    "        fout.write(\"{}\\n\".format(gene))"
   ]
  },
  {
   "cell_type": "code",
   "execution_count": 18,
   "id": "9b602858-8bd6-4297-a6cd-fa8c5f00b61b",
   "metadata": {},
   "outputs": [],
   "source": [
    "corr_set1 = spearman_result_all[spearman_result_all[\"corr\"] < -0.7][\"gene\"].to_list()\n",
    "corr_set2 = spearman_result_mid[spearman_result_mid[\"corr\"] < -0.5][\"gene\"].to_list()\n",
    "corr_set = list(set(corr_set1) & set(corr_set2))\n",
    "with open(\"rostral_caudal_spearman/negative_genes_all_7e-1_mid7_5e-1.tsv\", \"w\") as fout:\n",
    "    for gene in corr_set:\n",
    "        fout.write(\"{}\\n\".format(gene))"
   ]
  },
  {
   "cell_type": "code",
   "execution_count": null,
   "id": "8f3e37dd-785c-4dff-8050-6e6814c74ace",
   "metadata": {},
   "outputs": [],
   "source": []
  }
 ],
 "metadata": {
  "kernelspec": {
   "display_name": "Python 3 (ipykernel)",
   "language": "python",
   "name": "python3"
  },
  "language_info": {
   "codemirror_mode": {
    "name": "ipython",
    "version": 3
   },
   "file_extension": ".py",
   "mimetype": "text/x-python",
   "name": "python",
   "nbconvert_exporter": "python",
   "pygments_lexer": "ipython3",
   "version": "3.11.9"
  }
 },
 "nbformat": 4,
 "nbformat_minor": 5
}
