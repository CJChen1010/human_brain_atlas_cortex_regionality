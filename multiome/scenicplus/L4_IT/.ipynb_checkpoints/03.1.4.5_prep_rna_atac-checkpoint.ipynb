{
 "cells": [
  {
   "cell_type": "markdown",
   "id": "4990a9a3-a570-403a-b739-f330020b3c15",
   "metadata": {},
   "source": [
    "# Prep RNA and ATAC data in h5ad format for several cell types"
   ]
  },
  {
   "cell_type": "code",
   "execution_count": 1,
   "id": "e9100808-b83e-41f5-af06-a12b5156189d",
   "metadata": {
    "tags": []
   },
   "outputs": [],
   "source": [
    "suppressPackageStartupMessages({\n",
    "    library(Seurat)\n",
    "    library(repr)\n",
    "    library(patchwork)\n",
    "    library(ggplot2)\n",
    "    library(Signac)\n",
    "    library(tidyverse)\n",
    "    library(GenomicRanges)\n",
    "    library(edgeR)\n",
    "    library(SingleCellExperiment)\n",
    "    library(Matrix)\n",
    "    library(scran)\n",
    "    library(scater)\n",
    "    library(ggrepel)\n",
    "    library(fs)\n",
    "    library(tidyverse)\n",
    "    library(randomForest)\n",
    "    library(reticulate)\n",
    "    library(pheatmap)\n",
    "    library(gridExtra)\n",
    "    library(RColorBrewer)\n",
    "    library(MAST)\n",
    "    library(data.table)\n",
    "    library(ComplexHeatmap)\n",
    "})\n",
    "options(future.globals.maxSize = Inf)\n",
    "options(Seurat.object.assay.version = \"v5\")\n",
    "options(ggrepel.max.overlaps = Inf)"
   ]
  },
  {
   "cell_type": "markdown",
   "id": "0ef950db-0ed4-47e7-beea-3403fb2f2e62",
   "metadata": {},
   "source": [
    "## Oligo"
   ]
  },
  {
   "cell_type": "code",
   "execution_count": 2,
   "id": "82c355a1-7ec3-4e81-a2e4-7e018962c27f",
   "metadata": {
    "tags": []
   },
   "outputs": [],
   "source": [
    "root_dir <- \"/tscc/projects/ps-epigen/users/biy022/biccn/data/SNAREdata/cell_peak_matrix/\"\n",
    "setwd(root_dir)"
   ]
  },
  {
   "cell_type": "code",
   "execution_count": 3,
   "id": "06a91bde-db55-4e55-ad58-b3f9662c9175",
   "metadata": {
    "tags": []
   },
   "outputs": [],
   "source": [
    "Oligo_atac <- readRDS(\"Oligo.rds\")"
   ]
  },
  {
   "cell_type": "code",
   "execution_count": 4,
   "id": "8d72b19a-f5b0-400e-81f9-6bcc089cc313",
   "metadata": {
    "tags": []
   },
   "outputs": [],
   "source": [
    "meta_data <- read.table(\n",
    "    \"../cell_gene_matrix/20230313_RNA_metadata.xls\", sep = \"\\t\", header = TRUE)"
   ]
  },
  {
   "cell_type": "code",
   "execution_count": 5,
   "id": "8b95e2a7-e3a4-4e8f-a465-fab374ed08a2",
   "metadata": {
    "tags": []
   },
   "outputs": [],
   "source": [
    "write.table(\n",
    "    meta_data[colnames(Oligo_atac), ], \"../scenicplus/Oligo/Oligo_meta_data.tsv\",\n",
    "    col.names = TRUE, row.names = TRUE, quote = FALSE, sep = \"\\t\")"
   ]
  },
  {
   "cell_type": "code",
   "execution_count": 6,
   "id": "85614842-222e-4cfb-9d07-9be79cb3f8a2",
   "metadata": {
    "tags": []
   },
   "outputs": [
    {
     "data": {
      "text/plain": [
       "NULL"
      ]
     },
     "metadata": {},
     "output_type": "display_data"
    }
   ],
   "source": [
    "writeMM(Oligo_atac, \"../scenicplus/Oligo/Oligo_atac_matrix.mtx\")"
   ]
  },
  {
   "cell_type": "code",
   "execution_count": 7,
   "id": "004bc75e-9bc1-4529-ac48-6eec3eab431c",
   "metadata": {
    "tags": []
   },
   "outputs": [],
   "source": [
    "write.table(\n",
    "    colnames(Oligo_atac), \"../scenicplus/Oligo/Oligo_cell_barcodes.tsv\",\n",
    "    col.names = FALSE, quote = FALSE, sep = \"\\t\", row.names = FALSE)"
   ]
  },
  {
   "cell_type": "code",
   "execution_count": 8,
   "id": "931f7b9d-ad4c-41dd-b6b4-49f2e2043e07",
   "metadata": {
    "tags": []
   },
   "outputs": [],
   "source": [
    "write.table(\n",
    "    rownames(Oligo_atac), \"../scenicplus/Oligo/Oligo_atac_regions.tsv\",\n",
    "    col.names = FALSE, quote = FALSE, sep = \"\\t\", row.names = FALSE)"
   ]
  },
  {
   "cell_type": "code",
   "execution_count": 9,
   "id": "bcb87c1b-1c5e-489f-b5a7-ad0c7983b470",
   "metadata": {
    "tags": []
   },
   "outputs": [],
   "source": [
    "root_dir <- \"/tscc/projects/ps-epigen/users/biy022/biccn/data/SNAREdata/cell_gene_matrix/\"\n",
    "setwd(root_dir)"
   ]
  },
  {
   "cell_type": "code",
   "execution_count": 10,
   "id": "4dafefb0-2e2c-4734-b680-d7448631170b",
   "metadata": {
    "tags": []
   },
   "outputs": [],
   "source": [
    "Oligo_rna <- readRDS(\"Oligo.rds\")"
   ]
  },
  {
   "cell_type": "code",
   "execution_count": 11,
   "id": "df8eefe7-9264-4bbe-859e-85386a39443a",
   "metadata": {
    "tags": []
   },
   "outputs": [],
   "source": [
    "Oligo_barcodes <- read.table(\n",
    "    \"../scenicplus/Oligo/Oligo_cell_barcodes.tsv\", \n",
    "    header = FALSE, sep = \"\\t\")"
   ]
  },
  {
   "cell_type": "code",
   "execution_count": 12,
   "id": "5d3b32af-f30f-42fa-b8c3-ff835d65cac9",
   "metadata": {
    "tags": []
   },
   "outputs": [],
   "source": [
    "Oligo_rna_filtered <- Oligo_rna[, Oligo_barcodes$V1]"
   ]
  },
  {
   "cell_type": "code",
   "execution_count": 13,
   "id": "f8a75ba4-3533-4e13-8281-492dc6760d9c",
   "metadata": {
    "tags": []
   },
   "outputs": [
    {
     "data": {
      "text/plain": [
       "NULL"
      ]
     },
     "metadata": {},
     "output_type": "display_data"
    }
   ],
   "source": [
    "writeMM(Oligo_rna_filtered, \"../scenicplus/Oligo/Oligo_rna_matrix.mtx\")"
   ]
  },
  {
   "cell_type": "code",
   "execution_count": 14,
   "id": "deccd536-9b45-4045-8ba6-8dc78917e1fd",
   "metadata": {
    "tags": []
   },
   "outputs": [],
   "source": [
    "write.table(\n",
    "    rownames(Oligo_rna_filtered), \"../scenicplus/Oligo/Oligo_gene_names.tsv\",\n",
    "    col.names = FALSE, quote = FALSE, sep = \"\\t\", row.names = FALSE)"
   ]
  },
  {
   "cell_type": "markdown",
   "id": "8365e5cc-fd32-4665-893f-89ee78aeec59",
   "metadata": {},
   "source": [
    "## Micro"
   ]
  },
  {
   "cell_type": "code",
   "execution_count": 15,
   "id": "7a3c76e3-f218-427e-9ce0-a543db57724b",
   "metadata": {
    "tags": []
   },
   "outputs": [],
   "source": [
    "root_dir <- \"/tscc/projects/ps-epigen/users/biy022/biccn/data/SNAREdata/cell_peak_matrix/\"\n",
    "setwd(root_dir)"
   ]
  },
  {
   "cell_type": "code",
   "execution_count": 16,
   "id": "717d4f7b-5744-4281-b4e0-0ac6d5a959e0",
   "metadata": {
    "tags": []
   },
   "outputs": [],
   "source": [
    "Micro_atac <- readRDS(\"Micro.rds\")"
   ]
  },
  {
   "cell_type": "code",
   "execution_count": 17,
   "id": "bb093efd-28e6-49d3-89e5-2deb24f8eb18",
   "metadata": {
    "tags": []
   },
   "outputs": [],
   "source": [
    "meta_data <- read.table(\n",
    "    \"../cell_gene_matrix/20230313_RNA_metadata.xls\", sep = \"\\t\", header = TRUE)"
   ]
  },
  {
   "cell_type": "code",
   "execution_count": 18,
   "id": "e9529186-5ee0-4156-b107-c3d7b280e75a",
   "metadata": {
    "tags": []
   },
   "outputs": [],
   "source": [
    "write.table(\n",
    "    meta_data[colnames(Micro_atac), ], \"../scenicplus/Micro/Micro_meta_data.tsv\",\n",
    "    col.names = TRUE, row.names = TRUE, quote = FALSE, sep = \"\\t\")"
   ]
  },
  {
   "cell_type": "code",
   "execution_count": 19,
   "id": "9e16cb7d-6827-402d-825f-9a318a60964a",
   "metadata": {
    "tags": []
   },
   "outputs": [
    {
     "data": {
      "text/plain": [
       "NULL"
      ]
     },
     "metadata": {},
     "output_type": "display_data"
    }
   ],
   "source": [
    "writeMM(Micro_atac, \"../scenicplus/Micro/Micro_atac_matrix.mtx\")"
   ]
  },
  {
   "cell_type": "code",
   "execution_count": 20,
   "id": "c17a1ea6-27f7-427b-a94d-ad24ae4dd596",
   "metadata": {
    "tags": []
   },
   "outputs": [],
   "source": [
    "write.table(\n",
    "    colnames(Micro_atac), \"../scenicplus/Micro/Micro_cell_barcodes.tsv\",\n",
    "    col.names = FALSE, quote = FALSE, sep = \"\\t\", row.names = FALSE)"
   ]
  },
  {
   "cell_type": "code",
   "execution_count": 21,
   "id": "edfe79d4-f286-4870-89e3-f31941b458cf",
   "metadata": {
    "tags": []
   },
   "outputs": [],
   "source": [
    "write.table(\n",
    "    rownames(Micro_atac), \"../scenicplus/Micro/Micro_atac_regions.tsv\",\n",
    "    col.names = FALSE, quote = FALSE, sep = \"\\t\", row.names = FALSE)"
   ]
  },
  {
   "cell_type": "code",
   "execution_count": 22,
   "id": "13ed63aa-6c76-479f-95ed-1bea9136b12c",
   "metadata": {
    "tags": []
   },
   "outputs": [],
   "source": [
    "root_dir <- \"/tscc/projects/ps-epigen/users/biy022/biccn/data/SNAREdata/cell_gene_matrix/\"\n",
    "setwd(root_dir)"
   ]
  },
  {
   "cell_type": "code",
   "execution_count": 23,
   "id": "8117231a-c64c-4aad-ad56-ef4c84937d80",
   "metadata": {
    "tags": []
   },
   "outputs": [],
   "source": [
    "Micro_rna <- readRDS(\"Micro.rds\")"
   ]
  },
  {
   "cell_type": "code",
   "execution_count": 24,
   "id": "106d66ce-3fc0-40e4-b3d9-6d7ae6148733",
   "metadata": {
    "tags": []
   },
   "outputs": [],
   "source": [
    "Micro_barcodes <- read.table(\n",
    "    \"../scenicplus/Micro/Micro_cell_barcodes.tsv\", \n",
    "    header = FALSE, sep = \"\\t\")"
   ]
  },
  {
   "cell_type": "code",
   "execution_count": 25,
   "id": "6146aa28-75ac-4388-bdfb-1090a9ddac11",
   "metadata": {
    "tags": []
   },
   "outputs": [],
   "source": [
    "Micro_rna_filtered <- Micro_rna[, Micro_barcodes$V1]"
   ]
  },
  {
   "cell_type": "code",
   "execution_count": 26,
   "id": "be5f396b-422d-4053-befa-c2108c64ab97",
   "metadata": {
    "tags": []
   },
   "outputs": [
    {
     "data": {
      "text/plain": [
       "NULL"
      ]
     },
     "metadata": {},
     "output_type": "display_data"
    }
   ],
   "source": [
    "writeMM(Micro_rna_filtered, \"../scenicplus/Micro/Micro_rna_matrix.mtx\")"
   ]
  },
  {
   "cell_type": "code",
   "execution_count": 27,
   "id": "ce9f39bb-deda-4509-a243-19ec44adef05",
   "metadata": {
    "tags": []
   },
   "outputs": [],
   "source": [
    "write.table(\n",
    "    rownames(Micro_rna_filtered), \"../scenicplus/Micro/Micro_gene_names.tsv\",\n",
    "    col.names = FALSE, quote = FALSE, sep = \"\\t\", row.names = FALSE)"
   ]
  },
  {
   "cell_type": "markdown",
   "id": "6ccd3a51-d0c6-4dd4-82cd-ed070114b25b",
   "metadata": {},
   "source": [
    "## L2/3 IT"
   ]
  },
  {
   "cell_type": "code",
   "execution_count": 2,
   "id": "29628c62-1db0-4c53-849d-dd040a5a89c6",
   "metadata": {
    "tags": []
   },
   "outputs": [],
   "source": [
    "root_dir <- \"/tscc/projects/ps-epigen/users/biy022/biccn/data/SNAREdata/cell_peak_matrix/\"\n",
    "setwd(root_dir)"
   ]
  },
  {
   "cell_type": "code",
   "execution_count": 3,
   "id": "a99a96a4-a2ff-4154-98ca-57d936371b51",
   "metadata": {
    "tags": []
   },
   "outputs": [],
   "source": [
    "L2_3_IT_atac <- readRDS(\"L2_3_IT.rds\")"
   ]
  },
  {
   "cell_type": "code",
   "execution_count": 4,
   "id": "17216449-2daa-4042-9c5f-0d3eceb0a662",
   "metadata": {
    "tags": []
   },
   "outputs": [],
   "source": [
    "meta_data <- read.table(\n",
    "    \"../cell_gene_matrix/20230313_RNA_metadata.xls\", sep = \"\\t\", header = TRUE)"
   ]
  },
  {
   "cell_type": "code",
   "execution_count": 5,
   "id": "c9d9f163-0e2b-47f9-b4b5-617aecc6a5f2",
   "metadata": {
    "tags": []
   },
   "outputs": [],
   "source": [
    "write.table(\n",
    "    meta_data[colnames(L2_3_IT_atac), ], \"../scenicplus/L2_3_IT/L2_3_IT_meta_data.tsv\",\n",
    "    col.names = TRUE, row.names = TRUE, quote = FALSE, sep = \"\\t\")"
   ]
  },
  {
   "cell_type": "code",
   "execution_count": 6,
   "id": "dc356ba0-651d-4db7-9398-eb0dc0f93daa",
   "metadata": {
    "tags": []
   },
   "outputs": [
    {
     "data": {
      "text/plain": [
       "NULL"
      ]
     },
     "metadata": {},
     "output_type": "display_data"
    }
   ],
   "source": [
    "writeMM(L2_3_IT_atac, \"../scenicplus/L2_3_IT/L2_3_IT_atac_matrix.mtx\")"
   ]
  },
  {
   "cell_type": "code",
   "execution_count": 7,
   "id": "a1f4e8f8-ab09-4427-b1aa-43beeb8e689b",
   "metadata": {
    "tags": []
   },
   "outputs": [],
   "source": [
    "write.table(\n",
    "    colnames(L2_3_IT_atac), \"../scenicplus/L2_3_IT/L2_3_IT_cell_barcodes.tsv\",\n",
    "    col.names = FALSE, quote = FALSE, sep = \"\\t\", row.names = FALSE)"
   ]
  },
  {
   "cell_type": "code",
   "execution_count": 8,
   "id": "df15392e-17d0-4fcf-9c23-8a8913b46c2a",
   "metadata": {
    "tags": []
   },
   "outputs": [],
   "source": [
    "write.table(\n",
    "    rownames(L2_3_IT_atac), \"../scenicplus/L2_3_IT/L2_3_IT_atac_regions.tsv\",\n",
    "    col.names = FALSE, quote = FALSE, sep = \"\\t\", row.names = FALSE)"
   ]
  },
  {
   "cell_type": "code",
   "execution_count": 9,
   "id": "c67cdf06-637c-40e2-9e85-f7368dbbb2ff",
   "metadata": {
    "tags": []
   },
   "outputs": [],
   "source": [
    "root_dir <- \"/tscc/projects/ps-epigen/users/biy022/biccn/data/SNAREdata/cell_gene_matrix/\"\n",
    "setwd(root_dir)"
   ]
  },
  {
   "cell_type": "code",
   "execution_count": 10,
   "id": "ae167b21-4380-42b1-86f2-5044f1497d29",
   "metadata": {
    "tags": []
   },
   "outputs": [],
   "source": [
    "L2_3_IT_rna <- readRDS(\"L2_3_IT.rds\")"
   ]
  },
  {
   "cell_type": "code",
   "execution_count": 11,
   "id": "3d8417a9-c3aa-481e-8ef9-595f7e61222e",
   "metadata": {
    "tags": []
   },
   "outputs": [],
   "source": [
    "L2_3_IT_barcodes <- read.table(\n",
    "    \"../scenicplus/L2_3_IT/L2_3_IT_cell_barcodes.tsv\", \n",
    "    header = FALSE, sep = \"\\t\")"
   ]
  },
  {
   "cell_type": "code",
   "execution_count": 12,
   "id": "42f7a236-35e4-4aa3-8528-461fa1d260ed",
   "metadata": {
    "tags": []
   },
   "outputs": [],
   "source": [
    "L2_3_IT_rna_filtered <- L2_3_IT_rna[, L2_3_IT_barcodes$V1]"
   ]
  },
  {
   "cell_type": "code",
   "execution_count": 13,
   "id": "ec986484-8aab-4428-b446-4f3aada9b82a",
   "metadata": {
    "tags": []
   },
   "outputs": [
    {
     "data": {
      "text/plain": [
       "NULL"
      ]
     },
     "metadata": {},
     "output_type": "display_data"
    }
   ],
   "source": [
    "writeMM(L2_3_IT_rna_filtered, \"../scenicplus/L2_3_IT/L2_3_IT_rna_matrix.mtx\")"
   ]
  },
  {
   "cell_type": "code",
   "execution_count": 14,
   "id": "2ca60791-9697-49fb-baba-da6703b62eb7",
   "metadata": {
    "tags": []
   },
   "outputs": [],
   "source": [
    "write.table(\n",
    "    rownames(L2_3_IT_rna_filtered), \"../scenicplus/L2_3_IT/L2_3_IT_gene_names.tsv\",\n",
    "    col.names = FALSE, quote = FALSE, sep = \"\\t\", row.names = FALSE)"
   ]
  },
  {
   "cell_type": "markdown",
   "id": "4d2f3934-294d-4e9f-9a8c-59fdab61cbc6",
   "metadata": {},
   "source": [
    "## L5 IT"
   ]
  },
  {
   "cell_type": "code",
   "execution_count": 15,
   "id": "fd4a6f97-90d8-43ce-9661-da8736d97f68",
   "metadata": {
    "tags": []
   },
   "outputs": [],
   "source": [
    "root_dir <- \"/tscc/projects/ps-epigen/users/biy022/biccn/data/SNAREdata/cell_peak_matrix/\"\n",
    "setwd(root_dir)"
   ]
  },
  {
   "cell_type": "code",
   "execution_count": 16,
   "id": "31682aae-9a0b-4527-9f34-3e25959c4971",
   "metadata": {
    "tags": []
   },
   "outputs": [],
   "source": [
    "L5_IT_atac <- readRDS(\"L5_IT.rds\")"
   ]
  },
  {
   "cell_type": "code",
   "execution_count": 17,
   "id": "67bef2b3-1999-4394-8637-947df9c1060a",
   "metadata": {
    "tags": []
   },
   "outputs": [],
   "source": [
    "meta_data <- read.table(\n",
    "    \"../cell_gene_matrix/20230313_RNA_metadata.xls\", sep = \"\\t\", header = TRUE)"
   ]
  },
  {
   "cell_type": "code",
   "execution_count": 18,
   "id": "00e2b5e3-cb95-42f1-a5f7-88bb9de0b822",
   "metadata": {
    "tags": []
   },
   "outputs": [],
   "source": [
    "write.table(\n",
    "    meta_data[colnames(L5_IT_atac), ], \"../scenicplus/L5_IT/L5_IT_meta_data.tsv\",\n",
    "    col.names = TRUE, row.names = TRUE, quote = FALSE, sep = \"\\t\")"
   ]
  },
  {
   "cell_type": "code",
   "execution_count": 19,
   "id": "b150b0d4-26b6-48b0-9872-fbfc61a808e2",
   "metadata": {
    "tags": []
   },
   "outputs": [
    {
     "data": {
      "text/plain": [
       "NULL"
      ]
     },
     "metadata": {},
     "output_type": "display_data"
    }
   ],
   "source": [
    "writeMM(L5_IT_atac, \"../scenicplus/L5_IT/L5_IT_atac_matrix.mtx\")"
   ]
  },
  {
   "cell_type": "code",
   "execution_count": 20,
   "id": "fdcd4558-d6b4-4f7b-a3b4-9f3c2ea9d839",
   "metadata": {
    "tags": []
   },
   "outputs": [],
   "source": [
    "write.table(\n",
    "    colnames(L5_IT_atac), \"../scenicplus/L5_IT/L5_IT_cell_barcodes.tsv\",\n",
    "    col.names = FALSE, quote = FALSE, sep = \"\\t\", row.names = FALSE)"
   ]
  },
  {
   "cell_type": "code",
   "execution_count": 21,
   "id": "f1c4efb0-d49d-4934-918b-22468455f24f",
   "metadata": {
    "tags": []
   },
   "outputs": [],
   "source": [
    "write.table(\n",
    "    rownames(L5_IT_atac), \"../scenicplus/L5_IT/L5_IT_atac_regions.tsv\",\n",
    "    col.names = FALSE, quote = FALSE, sep = \"\\t\", row.names = FALSE)"
   ]
  },
  {
   "cell_type": "code",
   "execution_count": 22,
   "id": "7898ebf3-a5fd-4506-a3bc-691c44802021",
   "metadata": {
    "tags": []
   },
   "outputs": [],
   "source": [
    "root_dir <- \"/tscc/projects/ps-epigen/users/biy022/biccn/data/SNAREdata/cell_gene_matrix/\"\n",
    "setwd(root_dir)"
   ]
  },
  {
   "cell_type": "code",
   "execution_count": 23,
   "id": "c6672e4b-39b1-40a5-b94c-bc757904f6cc",
   "metadata": {
    "tags": []
   },
   "outputs": [],
   "source": [
    "L5_IT_rna <- readRDS(\"L5_IT.rds\")"
   ]
  },
  {
   "cell_type": "code",
   "execution_count": 24,
   "id": "d2cd766c-54f4-4231-acc5-5e1568142e24",
   "metadata": {
    "tags": []
   },
   "outputs": [],
   "source": [
    "L5_IT_barcodes <- read.table(\n",
    "    \"../scenicplus/L5_IT/L5_IT_cell_barcodes.tsv\", \n",
    "    header = FALSE, sep = \"\\t\")"
   ]
  },
  {
   "cell_type": "code",
   "execution_count": 25,
   "id": "68f44471-c7a0-4d86-8809-cd9f503867f0",
   "metadata": {
    "tags": []
   },
   "outputs": [],
   "source": [
    "L5_IT_rna_filtered <- L5_IT_rna[, L5_IT_barcodes$V1]"
   ]
  },
  {
   "cell_type": "code",
   "execution_count": 26,
   "id": "ae0fd707-ffc7-45a5-a6d7-06c403308888",
   "metadata": {
    "tags": []
   },
   "outputs": [
    {
     "data": {
      "text/plain": [
       "NULL"
      ]
     },
     "metadata": {},
     "output_type": "display_data"
    }
   ],
   "source": [
    "writeMM(L5_IT_rna_filtered, \"../scenicplus/L5_IT/L5_IT_rna_matrix.mtx\")"
   ]
  },
  {
   "cell_type": "code",
   "execution_count": 27,
   "id": "16b1a877-7a80-4bc4-84d1-bda814c708ab",
   "metadata": {
    "tags": []
   },
   "outputs": [],
   "source": [
    "write.table(\n",
    "    rownames(L5_IT_rna_filtered), \"../scenicplus/L5_IT/L5_IT_gene_names.tsv\",\n",
    "    col.names = FALSE, quote = FALSE, sep = \"\\t\", row.names = FALSE)"
   ]
  },
  {
   "cell_type": "markdown",
   "id": "e7ca3539-ad55-4a34-94ed-b2df0d7ca50b",
   "metadata": {},
   "source": [
    "## Other cell types"
   ]
  },
  {
   "cell_type": "code",
   "execution_count": 3,
   "id": "5048b370-e720-447d-b6ee-a15c4f1947e0",
   "metadata": {
    "tags": []
   },
   "outputs": [],
   "source": [
    "root_dir <- \"/tscc/projects/ps-epigen/users/biy022/biccn/data/SNAREdata/cell_peak_matrix/\"\n",
    "setwd(root_dir)"
   ]
  },
  {
   "cell_type": "code",
   "execution_count": 4,
   "id": "b47e359e-c473-402f-82ad-f2a68a1ad858",
   "metadata": {
    "tags": []
   },
   "outputs": [],
   "source": [
    "meta_data <- read.table(\n",
    "    \"../cell_gene_matrix/20230313_RNA_metadata.xls\", sep = \"\\t\", header = TRUE)"
   ]
  },
  {
   "cell_type": "code",
   "execution_count": 7,
   "id": "5a2d044c-404b-4426-af69-6ede9d707ebf",
   "metadata": {
    "tags": []
   },
   "outputs": [
    {
     "name": "stdout",
     "output_type": "stream",
     "text": [
      "[1] \"Astro\"\n",
      "[1] \"Chandelier\"\n",
      "[1] \"Endo\"\n",
      "[1] \"L5_6_NP\"\n",
      "[1] \"L6B\"\n",
      "[1] \"L6_CT\"\n",
      "[1] \"L6_IT\"\n",
      "[1] \"L6_IT_Car3\"\n",
      "[1] \"LAMP5\"\n",
      "[1] \"LAMP5_LHX6\"\n",
      "[1] \"OPC\"\n",
      "[1] \"PAX6\"\n",
      "[1] \"PVALB\"\n",
      "[1] \"SNCG\"\n",
      "[1] \"SST\"\n",
      "[1] \"VIP\"\n",
      "[1] \"VLMC\"\n"
     ]
    }
   ],
   "source": [
    "for (file in dir_ls(\"./\", glob = \"*rds\")) {\n",
    "    root_dir <- \"/tscc/projects/ps-epigen/users/biy022/biccn/data/SNAREdata/cell_peak_matrix/\"\n",
    "    setwd(root_dir)\n",
    "    celltype <- str_split(file, pattern = \"[.]\")[[1]][1]\n",
    "    \n",
    "    if (celltype %in% c(\"Oligo\", \"Micro\", \"L2_3_IT\", \"L4_IT\", \"L5_IT\", \"L5_ET\", \"SST_CHODL\")) {\n",
    "        next\n",
    "    }\n",
    "    print(celltype)\n",
    "    \n",
    "    other_atac <- readRDS(file)\n",
    "    write.table(\n",
    "        meta_data[colnames(other_atac), ], sprintf(\"../scenicplus/other_celltypes/%s_meta_data.tsv\", celltype),\n",
    "        col.names = TRUE, row.names = TRUE, quote = FALSE, sep = \"\\t\")\n",
    "    writeMM(other_atac, sprintf(\"../scenicplus/other_celltypes/%s_atac_matrix.mtx\", celltype))\n",
    "    write.table(\n",
    "        colnames(other_atac), sprintf(\"../scenicplus/other_celltypes/%s_cell_barcodes.tsv\", celltype),\n",
    "        col.names = FALSE, quote = FALSE, sep = \"\\t\", row.names = FALSE)\n",
    "    write.table(\n",
    "        rownames(other_atac), sprintf(\"../scenicplus/other_celltypes/%s_atac_regions.tsv\", celltype),\n",
    "        col.names = FALSE, quote = FALSE, sep = \"\\t\", row.names = FALSE)\n",
    "    \n",
    "    root_dir <- \"/tscc/projects/ps-epigen/users/biy022/biccn/data/SNAREdata/cell_gene_matrix/\"\n",
    "    setwd(root_dir)\n",
    "    other_rna <- readRDS(sprintf(\"%s.rds\", celltype))\n",
    "    other_barcodes <- read.table(\n",
    "        sprintf(\"../scenicplus/other_celltypes/%s_cell_barcodes.tsv\", celltype), \n",
    "        header = FALSE, sep = \"\\t\")\n",
    "    other_rna_filtered <- other_rna[, other_barcodes$V1]\n",
    "    writeMM(other_rna_filtered, sprintf(\"../scenicplus/other_celltypes/%s_rna_matrix.mtx\", celltype))\n",
    "    write.table(\n",
    "        rownames(other_rna_filtered), sprintf(\"../scenicplus/other_celltypes/%s_gene_names.tsv\", celltype),\n",
    "        col.names = FALSE, quote = FALSE, sep = \"\\t\", row.names = FALSE)\n",
    "}"
   ]
  },
  {
   "cell_type": "code",
   "execution_count": null,
   "id": "7ad8008e-c5ad-415a-9772-1f268ba173f3",
   "metadata": {},
   "outputs": [],
   "source": []
  }
 ],
 "metadata": {
  "kernelspec": {
   "display_name": "R",
   "language": "R",
   "name": "ir"
  },
  "language_info": {
   "codemirror_mode": "r",
   "file_extension": ".r",
   "mimetype": "text/x-r-source",
   "name": "R",
   "pygments_lexer": "r",
   "version": "4.3.1"
  }
 },
 "nbformat": 4,
 "nbformat_minor": 5
}
