{
 "cells": [
  {
   "cell_type": "markdown",
   "id": "8d9f0925-29b4-4423-bf5c-85f119b18cc4",
   "metadata": {},
   "source": [
    "# Summary of SCENIC+ result"
   ]
  },
  {
   "cell_type": "code",
   "execution_count": 1,
   "id": "c2f84d77-f2c5-4969-8fef-4fce662837c0",
   "metadata": {},
   "outputs": [],
   "source": [
    "import pandas as pd\n",
    "import matplotlib.pyplot as plt\n",
    "import seaborn as sns\n",
    "from pathlib import Path\n",
    "import os\n",
    "import numpy as np"
   ]
  },
  {
   "cell_type": "code",
   "execution_count": 2,
   "id": "672de1f6-680d-4f32-855c-1e7c6ac6c3fa",
   "metadata": {},
   "outputs": [],
   "source": [
    "subclasses = [\n",
    "    \"L2_3_IT\", \"L4_IT\", \"L5_IT\", \"L6_IT\", \"L6_CT\", \"L5_ET\",\n",
    "    \"SST\", \"VIP\", \"PVALB\"\n",
    "]"
   ]
  },
  {
   "cell_type": "code",
   "execution_count": 3,
   "id": "5a6369fe-c720-42d4-9861-29bb6bfd3f87",
   "metadata": {},
   "outputs": [],
   "source": [
    "root_dir = \"/tscc/projects/ps-epigen/users/biy022/biccn/data/SNAREdata/scenicplus/\"\n",
    "os.chdir(root_dir)"
   ]
  },
  {
   "cell_type": "code",
   "execution_count": 4,
   "id": "8c8411df-40c1-488e-b985-e2993574b27c",
   "metadata": {},
   "outputs": [],
   "source": [
    "subclass_df = dict()\n",
    "for subclass in subclasses:\n",
    "    direct_file = Path(subclass) / \"scplus_outputs\" / \"eRegulon_direct.tsv\"\n",
    "    extend_file = Path(subclass) / \"scplus_outputs\" / \"eRegulons_extended.tsv\"\n",
    "    direct_df = pd.read_csv(direct_file, sep=\"\\t\", header=0)\n",
    "    extend_df = pd.read_csv(extend_file, sep=\"\\t\", header=0)\n",
    "    ereg_df = pd.concat([direct_df, extend_df], axis=0)\n",
    "    subclass_df[subclass] = ereg_df"
   ]
  },
  {
   "cell_type": "code",
   "execution_count": 5,
   "id": "bc32d43f-8412-435c-94a1-9ac106224fc5",
   "metadata": {},
   "outputs": [],
   "source": [
    "n_sub = len(subclasses)\n",
    "plot_df = pd.DataFrame({\n",
    "    \"subclass\": subclasses,\n",
    "    \"TF\": np.zeros(n_sub, dtype=np.int32),\n",
    "    \"Gene\": np.zeros(n_sub, dtype=np.int32),\n",
    "    \"cCRE\": np.zeros(n_sub, dtype=np.int32)\n",
    "})\n",
    "for k, df in subclass_df.items():\n",
    "    plot_df.loc[plot_df[\"subclass\"] == k, \"TF\"] = len(df[\"TF\"].unique())\n",
    "    plot_df.loc[plot_df[\"subclass\"] == k, \"Gene\"] = len(df[\"Gene\"].unique())\n",
    "    plot_df.loc[plot_df[\"subclass\"] == k, \"cCRE\"] = len(df[\"Region\"].unique())\n",
    "plot_df[\"subclass\"] = pd.Categorical(plot_df[\"subclass\"], categories=subclasses)\n",
    "plot_df_long = plot_df.melt(\n",
    "    id_vars=\"subclass\",\n",
    "    value_vars=[\"TF\", \"Gene\", \"cCRE\"],\n",
    "    var_name=\"variable\",\n",
    "    value_name=\"value\"\n",
    ")"
   ]
  },
  {
   "cell_type": "code",
   "execution_count": 10,
   "id": "499f2913-8991-4b41-9e78-290952360c14",
   "metadata": {},
   "outputs": [
    {
     "data": {
      "text/html": [
       "<div>\n",
       "<style scoped>\n",
       "    .dataframe tbody tr th:only-of-type {\n",
       "        vertical-align: middle;\n",
       "    }\n",
       "\n",
       "    .dataframe tbody tr th {\n",
       "        vertical-align: top;\n",
       "    }\n",
       "\n",
       "    .dataframe thead th {\n",
       "        text-align: right;\n",
       "    }\n",
       "</style>\n",
       "<table border=\"1\" class=\"dataframe\">\n",
       "  <thead>\n",
       "    <tr style=\"text-align: right;\">\n",
       "      <th></th>\n",
       "      <th>subclass</th>\n",
       "      <th>TF</th>\n",
       "      <th>Gene</th>\n",
       "      <th>cCRE</th>\n",
       "    </tr>\n",
       "  </thead>\n",
       "  <tbody>\n",
       "    <tr>\n",
       "      <th>0</th>\n",
       "      <td>L2_3_IT</td>\n",
       "      <td>108</td>\n",
       "      <td>8829</td>\n",
       "      <td>41067</td>\n",
       "    </tr>\n",
       "    <tr>\n",
       "      <th>1</th>\n",
       "      <td>L4_IT</td>\n",
       "      <td>82</td>\n",
       "      <td>9171</td>\n",
       "      <td>36258</td>\n",
       "    </tr>\n",
       "    <tr>\n",
       "      <th>2</th>\n",
       "      <td>L5_IT</td>\n",
       "      <td>109</td>\n",
       "      <td>8664</td>\n",
       "      <td>41201</td>\n",
       "    </tr>\n",
       "    <tr>\n",
       "      <th>3</th>\n",
       "      <td>L6_IT</td>\n",
       "      <td>89</td>\n",
       "      <td>7240</td>\n",
       "      <td>30661</td>\n",
       "    </tr>\n",
       "    <tr>\n",
       "      <th>4</th>\n",
       "      <td>L6_CT</td>\n",
       "      <td>80</td>\n",
       "      <td>7558</td>\n",
       "      <td>27749</td>\n",
       "    </tr>\n",
       "    <tr>\n",
       "      <th>5</th>\n",
       "      <td>L5_ET</td>\n",
       "      <td>26</td>\n",
       "      <td>9513</td>\n",
       "      <td>34490</td>\n",
       "    </tr>\n",
       "    <tr>\n",
       "      <th>6</th>\n",
       "      <td>SST</td>\n",
       "      <td>100</td>\n",
       "      <td>5843</td>\n",
       "      <td>23295</td>\n",
       "    </tr>\n",
       "    <tr>\n",
       "      <th>7</th>\n",
       "      <td>VIP</td>\n",
       "      <td>90</td>\n",
       "      <td>6438</td>\n",
       "      <td>28386</td>\n",
       "    </tr>\n",
       "    <tr>\n",
       "      <th>8</th>\n",
       "      <td>PVALB</td>\n",
       "      <td>46</td>\n",
       "      <td>2273</td>\n",
       "      <td>8003</td>\n",
       "    </tr>\n",
       "  </tbody>\n",
       "</table>\n",
       "</div>"
      ],
      "text/plain": [
       "  subclass   TF  Gene   cCRE\n",
       "0  L2_3_IT  108  8829  41067\n",
       "1    L4_IT   82  9171  36258\n",
       "2    L5_IT  109  8664  41201\n",
       "3    L6_IT   89  7240  30661\n",
       "4    L6_CT   80  7558  27749\n",
       "5    L5_ET   26  9513  34490\n",
       "6      SST  100  5843  23295\n",
       "7      VIP   90  6438  28386\n",
       "8    PVALB   46  2273   8003"
      ]
     },
     "execution_count": 10,
     "metadata": {},
     "output_type": "execute_result"
    }
   ],
   "source": [
    "plot_df"
   ]
  },
  {
   "cell_type": "code",
   "execution_count": 11,
   "id": "8531c86b-9fdc-4c84-acb6-6f47c4c4b241",
   "metadata": {},
   "outputs": [],
   "source": [
    "plot_df.to_csv(\n",
    "    \"../../../analysis/final_figures/new_summary_20250519/All_network_table.csv\", \n",
    "    sep=\"\\t\", header=True, index_label=False, index=False)"
   ]
  },
  {
   "cell_type": "code",
   "execution_count": 8,
   "id": "c4781ffc-6704-4a54-bfe3-41d50e8d970e",
   "metadata": {},
   "outputs": [],
   "source": [
    "figure_dir = \"../../../analysis/final_figures/new_summary_20250519\""
   ]
  },
  {
   "cell_type": "code",
   "execution_count": 6,
   "id": "335189d6-52e7-4cc6-8c13-6c70a0440d88",
   "metadata": {},
   "outputs": [],
   "source": [
    "plot_df_long_tf = plot_df_long[plot_df_long[\"variable\"] == \"TF\"]"
   ]
  },
  {
   "cell_type": "code",
   "execution_count": 9,
   "id": "8784b185-7069-43d6-900d-9cd0611f7591",
   "metadata": {},
   "outputs": [
    {
     "data": {
      "image/png": "[encoded data removed]",
      "text/plain": [
       "<Figure size 800x400 with 1 Axes>"
      ]
     },
     "metadata": {},
     "output_type": "display_data"
    }
   ],
   "source": [
    "fig, ax = plt.subplots(1, 1)\n",
    "fig.set_figwidth(8)\n",
    "fig.set_figheight(4)\n",
    "sns.barplot(\n",
    "    data=plot_df_long_tf,\n",
    "    x=\"subclass\",\n",
    "    y=\"value\",\n",
    "    hue=\"subclass\",\n",
    "    ax=ax,\n",
    "    edgecolor=\"black\"\n",
    ")\n",
    "fig.savefig(os.path.join(figure_dir, \"All_network_tf_bar.pdf\"), dpi=300, format=\"pdf\")"
   ]
  },
  {
   "cell_type": "code",
   "execution_count": 10,
   "id": "9546e000-54a4-4572-8e75-11e2ab939e62",
   "metadata": {},
   "outputs": [],
   "source": [
    "plot_df_long_gene = plot_df_long[plot_df_long[\"variable\"] == \"Gene\"]"
   ]
  },
  {
   "cell_type": "code",
   "execution_count": 12,
   "id": "9016a64e-02b1-4536-af91-ed079403757e",
   "metadata": {},
   "outputs": [
    {
     "data": {
      "image/png": "[encoded data removed]",
      "text/plain": [
       "<Figure size 800x400 with 1 Axes>"
      ]
     },
     "metadata": {},
     "output_type": "display_data"
    }
   ],
   "source": [
    "fig, ax = plt.subplots(1, 1)\n",
    "fig.set_figwidth(8)\n",
    "fig.set_figheight(4)\n",
    "sns.barplot(\n",
    "    data=plot_df_long_gene,\n",
    "    x=\"subclass\",\n",
    "    y=\"value\",\n",
    "    hue=\"subclass\",\n",
    "    ax=ax,\n",
    "    edgecolor=\"black\"\n",
    ")\n",
    "fig.savefig(os.path.join(figure_dir, \"All_network_gene_bar.pdf\"), dpi=300, format=\"pdf\")"
   ]
  },
  {
   "cell_type": "code",
   "execution_count": 15,
   "id": "9d36f367-b4ab-4c2e-a2c7-d90db231b13a",
   "metadata": {},
   "outputs": [],
   "source": [
    "plot_df_long_peak = plot_df_long[plot_df_long[\"variable\"] == \"cCRE\"]"
   ]
  },
  {
   "cell_type": "code",
   "execution_count": 16,
   "id": "faa99151-3dc6-404c-aa39-414253cb6bd5",
   "metadata": {},
   "outputs": [
    {
     "data": {
      "image/png": "[encoded data removed]",
      "text/plain": [
       "<Figure size 800x400 with 1 Axes>"
      ]
     },
     "metadata": {},
     "output_type": "display_data"
    }
   ],
   "source": [
    "fig, ax = plt.subplots(1, 1)\n",
    "fig.set_figwidth(8)\n",
    "fig.set_figheight(4)\n",
    "sns.barplot(\n",
    "    data=plot_df_long_peak,\n",
    "    x=\"subclass\",\n",
    "    y=\"value\",\n",
    "    hue=\"subclass\",\n",
    "    ax=ax,\n",
    "    edgecolor=\"black\"\n",
    ")\n",
    "fig.savefig(os.path.join(figure_dir, \"All_network_peak_bar.pdf\"), dpi=300, format=\"pdf\")"
   ]
  },
  {
   "cell_type": "code",
   "execution_count": null,
   "id": "1209017b-e654-46d3-8f64-386c5b7932fd",
   "metadata": {},
   "outputs": [],
   "source": []
  }
 ],
 "metadata": {
  "kernelspec": {
   "display_name": "Python 3 (ipykernel)",
   "language": "python",
   "name": "python3"
  },
  "language_info": {
   "codemirror_mode": {
    "name": "ipython",
    "version": 3
   },
   "file_extension": ".py",
   "mimetype": "text/x-python",
   "name": "python",
   "nbconvert_exporter": "python",
   "pygments_lexer": "ipython3",
   "version": "3.11.9"
  }
 },
 "nbformat": 4,
 "nbformat_minor": 5
}
